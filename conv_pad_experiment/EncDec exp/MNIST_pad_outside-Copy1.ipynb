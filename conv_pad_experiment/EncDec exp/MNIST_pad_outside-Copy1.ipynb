{
 "cells": [
  {
   "cell_type": "code",
   "execution_count": null,
   "metadata": {},
   "outputs": [],
   "source": [
    "%env CUDA_VISIBLE_DEVICES=4"
   ]
  },
  {
   "cell_type": "code",
   "execution_count": 2,
   "metadata": {},
   "outputs": [],
   "source": [
    "import torch\n",
    "from torch import nn\n",
    "import torch.optim as optim\n",
    "import torch.nn.functional as F\n",
    "import torch.autograd.profiler as profiler\n",
    "\n",
    "import matplotlib.pyplot as plt\n",
    "\n",
    "import torchvision\n",
    "import torchvision.transforms as transforms\n",
    "\n",
    "\n",
    "LOG_PATH = \"./data/profile_info/\"\n",
    "DATA_DIR = './data/MNIST'"
   ]
  },
  {
   "cell_type": "code",
   "execution_count": 3,
   "metadata": {},
   "outputs": [],
   "source": [
    "def load_data(data_dir, batch_size):\n",
    "    transform=transforms.Compose([\n",
    "        transforms.ToTensor(),\n",
    "        transforms.Resize((160, 160)),\n",
    "        transforms.Normalize((0.5,), (0.5,))\n",
    "    ])\n",
    "    \n",
    "    trainset = torchvision.datasets.MNIST(\n",
    "        root=data_dir, train=True, download=True, transform=transform)\n",
    "\n",
    "    testset = torchvision.datasets.MNIST(\n",
    "        root=data_dir, train=False, download=True, transform=transform)\n",
    "    \n",
    "    train_loader = torch.utils.data.DataLoader(trainset, batch_size)\n",
    "    test_loader = torch.utils.data.DataLoader(testset, batch_size)\n",
    "\n",
    "    return train_loader, test_loader"
   ]
  },
  {
   "cell_type": "code",
   "execution_count": 4,
   "metadata": {},
   "outputs": [],
   "source": [
    "in_channels = 3\n",
    "out_channels = 10\n",
    "device = \"cuda:0\"\n",
    "\n",
    "train_loss = nn.CrossEntropyLoss()\n",
    "\n",
    "learning_rate = 1e-4\n",
    "\n",
    "batch_size = 256\n",
    "epoch_num = 25"
   ]
  },
  {
   "cell_type": "code",
   "execution_count": 5,
   "metadata": {},
   "outputs": [],
   "source": [
    "trainset, testset = load_data(data_dir=DATA_DIR, batch_size=batch_size)"
   ]
  },
  {
   "cell_type": "code",
   "execution_count": 6,
   "metadata": {},
   "outputs": [],
   "source": [
    "def train(net, optimizer, criterion, epoch_num, train_data, device):\n",
    "    \"\"\"Neural network training process.\n",
    "    \n",
    "    \"\"\"\n",
    "    for epoch in range(epoch_num):  # loop over the dataset multiple times\n",
    "        for data, target in train_data:\n",
    "            inputs, labels = data.to(device), target.to(device)\n",
    "\n",
    "            # zero the parameter gradients\n",
    "            optimizer.zero_grad()\n",
    "\n",
    "            # forward + backward + optimize\n",
    "            outputs = net(inputs)\n",
    "            loss = criterion(outputs, labels)\n",
    "            loss.backward()\n",
    "            optimizer.step()    \n",
    "    return net"
   ]
  },
  {
   "cell_type": "code",
   "execution_count": 7,
   "metadata": {},
   "outputs": [],
   "source": [
    "class PaddedConv2d(nn.Conv2d):\n",
    "    def __init__(self, *args, padding=0, **kwargs):\n",
    "        self.custom_padding = padding\n",
    "        super().__init__(*args, **kwargs)\n",
    "        \n",
    "    def forward(self, x):\n",
    "        if self.custom_padding:\n",
    "            x = F.pad(x, (self.custom_padding, self.custom_padding,\n",
    "                          self.custom_padding, self.custom_padding))\n",
    "        return super().forward(x)"
   ]
  },
  {
   "cell_type": "code",
   "execution_count": 8,
   "metadata": {},
   "outputs": [],
   "source": [
    "class Network(nn.Module):\n",
    "    def __init__(self, channels_list):\n",
    "        super().__init__()\n",
    "        channels_list.insert(0, 1)\n",
    "        self.convs = nn.ModuleList([\n",
    "            nn.Sequential(\n",
    "                PaddedConv2d(padding=1, in_channels=in_ch, out_channels=out_ch, kernel_size=3),\n",
    "                nn.BatchNorm2d(out_ch),\n",
    "                nn.ReLU()\n",
    "            )\n",
    "            for in_ch, out_ch in zip(channels_list[:-1], channels_list[1:])\n",
    "        ])\n",
    "        self.out = nn.Linear(in_features=channels_list[-1], out_features=10)\n",
    "        \n",
    "    def forward(self, tensor):\n",
    "        for layer in self.convs:\n",
    "            tensor = layer(tensor)\n",
    "            tensor = F.max_pool2d(tensor, kernel_size=2) \n",
    "        # output\n",
    "        tensor = nn.AdaptiveAvgPool2d((1,1))(tensor)\n",
    "        tensor = torch.flatten(tensor, 1)\n",
    "        tensor = self.out(tensor)\n",
    "        tensor = torch.sigmoid(tensor)        \n",
    "        return tensor"
   ]
  },
  {
   "cell_type": "code",
   "execution_count": 9,
   "metadata": {},
   "outputs": [],
   "source": [
    "net = Network([8, 16, 32])\n",
    "net.to(device)\n",
    "\n",
    "optimizer = optim.Adam(net.parameters(), lr=learning_rate)"
   ]
  },
  {
   "cell_type": "code",
   "execution_count": 10,
   "metadata": {},
   "outputs": [
    {
     "name": "stdout",
     "output_type": "stream",
     "text": [
      "CPU times: user 4d 10h 6min 2s, sys: 29min 21s, total: 4d 10h 35min 23s\n",
      "Wall time: 5h 21min 49s\n"
     ]
    }
   ],
   "source": [
    "%%time\n",
    "net = train(\n",
    "    net, optimizer, train_loss, epoch_num, trainset, device\n",
    ")"
   ]
  },
  {
   "cell_type": "code",
   "execution_count": 11,
   "metadata": {},
   "outputs": [
    {
     "name": "stdout",
     "output_type": "stream",
     "text": [
      "CPU times: user 42min 35s, sys: 12.3 s, total: 42min 48s\n",
      "Wall time: 2min 9s\n"
     ]
    }
   ],
   "source": [
    "%%time\n",
    "for data, _ in testset:\n",
    "    inputs = data.to(device)\n",
    "    _ = net(inputs)"
   ]
  },
  {
   "cell_type": "code",
   "execution_count": null,
   "metadata": {},
   "outputs": [],
   "source": []
  }
 ],
 "metadata": {
  "kernelspec": {
   "display_name": "Python 3",
   "language": "python",
   "name": "python3"
  },
  "language_info": {
   "codemirror_mode": {
    "name": "ipython",
    "version": 3
   },
   "file_extension": ".py",
   "mimetype": "text/x-python",
   "name": "python",
   "nbconvert_exporter": "python",
   "pygments_lexer": "ipython3",
   "version": "3.6.10"
  }
 },
 "nbformat": 4,
 "nbformat_minor": 4
}
