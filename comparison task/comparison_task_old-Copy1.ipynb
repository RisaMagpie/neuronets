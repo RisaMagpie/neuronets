{
 "cells": [
  {
   "cell_type": "code",
   "execution_count": 1,
   "metadata": {},
   "outputs": [],
   "source": [
    "import numpy as np"
   ]
  },
  {
   "cell_type": "code",
   "execution_count": 2,
   "metadata": {},
   "outputs": [],
   "source": [
    "X = 1500\n",
    "Y = 1500\n",
    "Z = 5\n",
    "K = 3\n",
    "data = np.random.rand(X,Y,Z).astype('float32')"
   ]
  },
  {
   "cell_type": "markdown",
   "metadata": {},
   "source": [
    "# Try"
   ]
  },
  {
   "cell_type": "code",
   "execution_count": 3,
   "metadata": {},
   "outputs": [],
   "source": [
    "def vectors_comparison(vector1, vector2):\n",
    "    res = np.multiply(vector1, vector2)\n",
    "    res = np.sum(np.power(res, 2))\n",
    "    return res"
   ]
  },
  {
   "cell_type": "code",
   "execution_count": 4,
   "metadata": {},
   "outputs": [
    {
     "name": "stdout",
     "output_type": "stream",
     "text": [
      "CPU times: user 12min 30s, sys: 0 ns, total: 12min 30s\n",
      "Wall time: 12min 30s\n"
     ]
    }
   ],
   "source": [
    "%%time\n",
    "\n",
    "res = np.zeros(data.shape[0:2])\n",
    "for x in range(X):\n",
    "    for y in range(Y):       \n",
    "        col = data[x, y, :]        \n",
    "        for x_idx in range(-K, K + 1):\n",
    "            for y_idx in range(-K, K + 1):\n",
    "                if (0 <= x + x_idx < X) and (0 <= y + y_idx < Y):\n",
    "                    res[x, y] += vectors_comparison(col, data[x + x_idx, y + y_idx])\n",
    "        res[x, y] /= (min(x + x_idx, X - 1) - max(0, x - x_idx) + 1) * (min(y + y_idx, Y - 1) - max(0, y - y_idx) + 1) - 1 "
   ]
  },
  {
   "cell_type": "markdown",
   "metadata": {},
   "source": [
    "# Try: numba"
   ]
  },
  {
   "cell_type": "code",
   "execution_count": 5,
   "metadata": {},
   "outputs": [],
   "source": [
    "import numba\n",
    "from numba import njit"
   ]
  },
  {
   "cell_type": "code",
   "execution_count": 6,
   "metadata": {},
   "outputs": [],
   "source": [
    "X = np.int32(1500)\n",
    "Y = np.int32(1500)\n",
    "Z = np.int32(20)\n",
    "K = np.int32(3)\n",
    "data = np.random.rand(X,Y,Z).astype('float32')"
   ]
  },
  {
   "cell_type": "code",
   "execution_count": 7,
   "metadata": {},
   "outputs": [
    {
     "name": "stdout",
     "output_type": "stream",
     "text": [
      "CPU times: user 1.55 s, sys: 3.67 s, total: 5.22 s\n",
      "Wall time: 1.16 s\n"
     ]
    }
   ],
   "source": [
    "%%time\n",
    "\n",
    "@njit(numba.types.float32(numba.types.float32[:], \n",
    "                          numba.types.float32[:]),\n",
    "      fastmath=True)\n",
    "def vectors_comparison(vector1, vector2):\n",
    "    res = np.multiply(vector1, vector2)\n",
    "    res = np.sum(np.power(res, 2))\n",
    "    return res\n",
    "\n",
    "@njit(numba.types.float32[:, :](numba.types.float32[:, :, :], \n",
    "                                numba.types.int32, \n",
    "                                numba.types.int32, \n",
    "                                numba.types.int32, \n",
    "                                numba.types.int32),\n",
    "      locals={'res': numba.types.float32[:, :],\n",
    "              'col': numba.types.float32[:],\n",
    "              'accumulator': numba.types.float32,\n",
    "              'count': numba.types.int32}, \n",
    "      parallel=True)\n",
    "def get_comparison(data, X, Y, Z, K):\n",
    "    res = np.zeros(data.shape[0:2], dtype='float32')\n",
    "    for x in range(X):\n",
    "        for y in range(Y):        \n",
    "            col = data[x, y, :]        \n",
    "            accumulator = np.float32(0.0)\n",
    "            for x_idx in range(-K, K+1):\n",
    "                for y_idx in range(-K, K+1):\n",
    "                    if (0 <= x + x_idx < X) and (0 <= y + y_idx < Y):\n",
    "                        accumulator += vectors_comparison(col, data[x + x_idx, y + y_idx])\n",
    "            count = (min(x + x_idx, X - 1) - max(0, x - x_idx) + 1) * (min(y + y_idx, Y - 1) - max(0, y - y_idx) + 1) - 1\n",
    "            res[x, y] = accumulator / count\n",
    "    return res"
   ]
  },
  {
   "cell_type": "code",
   "execution_count": 8,
   "metadata": {},
   "outputs": [
    {
     "name": "stdout",
     "output_type": "stream",
     "text": [
      "CPU times: user 16.4 s, sys: 80.5 ms, total: 16.5 s\n",
      "Wall time: 16.4 s\n"
     ]
    }
   ],
   "source": [
    "%%time\n",
    "res = get_comparison(data, X, Y, Z, K)"
   ]
  },
  {
   "cell_type": "code",
   "execution_count": 9,
   "metadata": {},
   "outputs": [
    {
     "name": "stdout",
     "output_type": "stream",
     "text": [
      "CPU times: user 16.5 s, sys: 52.6 ms, total: 16.6 s\n",
      "Wall time: 16.5 s\n"
     ]
    }
   ],
   "source": [
    "%%time\n",
    "res = get_comparison(data, X, Y, Z, K)"
   ]
  }
 ],
 "metadata": {
  "kernelspec": {
   "display_name": "Python 3",
   "language": "python",
   "name": "python3"
  },
  "language_info": {
   "codemirror_mode": {
    "name": "ipython",
    "version": 3
   },
   "file_extension": ".py",
   "mimetype": "text/x-python",
   "name": "python",
   "nbconvert_exporter": "python",
   "pygments_lexer": "ipython3",
   "version": "3.6.10"
  }
 },
 "nbformat": 4,
 "nbformat_minor": 4
}
