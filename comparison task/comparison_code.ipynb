{
 "cells": [
  {
   "cell_type": "code",
   "execution_count": null,
   "metadata": {},
   "outputs": [],
   "source": [
    "%env CUDA_VISIBLE_DEVICES=5"
   ]
  },
  {
   "cell_type": "code",
   "execution_count": null,
   "metadata": {},
   "outputs": [],
   "source": [
    "import numpy as np\n",
    "import cupy as cp"
   ]
  },
  {
   "cell_type": "code",
   "execution_count": null,
   "metadata": {},
   "outputs": [],
   "source": [
    "xp = np\n",
    "\n",
    "X = 1500\n",
    "Y = 1500\n",
    "Z = 20\n",
    "K = 3\n",
    "data = np.random.rand(X,Y,Z).astype('float32')"
   ]
  },
  {
   "cell_type": "markdown",
   "metadata": {},
   "source": [
    "# numpy"
   ]
  },
  {
   "cell_type": "code",
   "execution_count": null,
   "metadata": {},
   "outputs": [],
   "source": [
    "def vectors_comparison(vector1, vector2):\n",
    "    res = xp.multiply(vector1, vector2)\n",
    "    res = xp.sum(xp.power(res, 2), axis = 2)\n",
    "    return res\n",
    "\n",
    "def vectors_comparison1(matrix1, matrix2):\n",
    "    return (xp.power(matrix1 * matrix2, 2)).sum(axis=2)\n",
    "\n",
    "def compare_matrices(a_pad, data, xk, yk, K, comp_function):\n",
    "    comparison = comp_function(data, a_pad[xk:xk+data.shape[0], K+yk:K+yk+data.shape[1], :])\n",
    "    res = xp.pad(comparison, ((xk, 0), (K, K)), constant_values=xp.nan)[0:data.shape[0], K-yk:K-yk+data.shape[1]]\n",
    "    return comparison, res\n",
    "\n",
    "def get_comparison(data, X, Y, Z, K, comp_function):\n",
    "    K = K + 1\n",
    "    a_pad = xp.pad(data, ((0, K), (K, K), (0, 0)), constant_values=xp.nan)\n",
    "    result = []    \n",
    "    for xk in range(0, K):\n",
    "        for yk in range(0, K):\n",
    "            if (xk!=0) or (yk!=0):   \n",
    "                result.extend(compare_matrices(a_pad, data, xk, yk, K, comp_function))\n",
    "                if (yk!=0) and (xk!=0):\n",
    "                    result.extend(compare_matrices(a_pad, data, xk, -yk, K, comp_function))\n",
    "    cp.cuda.stream.get_current_stream().synchronize()\n",
    "    return result"
   ]
  },
  {
   "cell_type": "code",
   "execution_count": null,
   "metadata": {},
   "outputs": [],
   "source": [
    "# data_n = cp.asarray(data)\n",
    "data_n = data"
   ]
  },
  {
   "cell_type": "code",
   "execution_count": null,
   "metadata": {},
   "outputs": [],
   "source": [
    "\n",
    "res = get_comparison(data_n, X, Y, Z, K, vectors_comparison)"
   ]
  },
  {
   "cell_type": "code",
   "execution_count": null,
   "metadata": {},
   "outputs": [],
   "source": [
    "res[0].shape"
   ]
  },
  {
   "cell_type": "code",
   "execution_count": null,
   "metadata": {},
   "outputs": [],
   "source": [
    "def vectors_comparison(vector1, vector2):\n",
    "    res = xp.multiply(vector1, vector2)\n",
    "    res = xp.sum(xp.power(res, 2), axis = 2)\n",
    "    return res\n",
    "\n",
    "def vectors_comparison1(matrix1, matrix2):\n",
    "    return (xp.power(matrix1 * matrix2, 2)).sum(axis=2)\n",
    "\n",
    "def compare_matrices(a_pad, data, xk, yk, K, comp_function):\n",
    "    comparison = comp_function(data, a_pad[xk:xk+data.shape[0], K+yk:K+yk+data.shape[1], :])\n",
    "    #res = xp.pad(comparison, ((xk, 0), (K, K)), constant_values=xp.nan)[0:data.shape[0], K-yk:K-yk+data.shape[1]]\n",
    "    res = xp.pad(\n",
    "        comparison[:data.shape[0]-xk, max(0, -yk):min(data.shape[1], data.shape[1]-yk)], \n",
    "        ((xk, 0), (max(0, yk), -min(0, yk))), \n",
    "        constant_values=xp.nan\n",
    "    )\n",
    "    return comparison, res\n",
    "\n",
    "def get_comparison2(data, X, Y, Z, K, comp_function):\n",
    "    K = K + 1\n",
    "    a_pad = xp.pad(data, ((0, K), (K, K), (0, 0)), constant_values=xp.nan)\n",
    "    result = []\n",
    "    for xk in range(0, K):\n",
    "        for yk in range(0, K):\n",
    "            if (xk!=0) or (yk!=0):   \n",
    "                result.extend(compare_matrices(a_pad, data, xk, yk, K, comp_function))\n",
    "                if (yk!=0) and (xk!=0):\n",
    "                    result.extend(compare_matrices(a_pad, data, xk, -yk, K, comp_function))\n",
    "    cp.cuda.stream.get_current_stream().synchronize()\n",
    "    return result"
   ]
  },
  {
   "cell_type": "code",
   "execution_count": null,
   "metadata": {},
   "outputs": [],
   "source": [
    "res2 = get_comparison2(data_n, X, Y, Z, K, vectors_comparison)"
   ]
  },
  {
   "cell_type": "code",
   "execution_count": null,
   "metadata": {},
   "outputs": [],
   "source": [
    "xp.allclose(res, res2, equal_nan=True)"
   ]
  },
  {
   "cell_type": "code",
   "execution_count": null,
   "metadata": {},
   "outputs": [],
   "source": []
  },
  {
   "cell_type": "code",
   "execution_count": null,
   "metadata": {},
   "outputs": [],
   "source": [
    "def compute_local(self, function, data, bad_traces, kernel_size=3,\n",
    "                      normalize=True, agg='mean', amortize=False, axis=0, device='cpu', pbar=None):\n",
    "        i_range, x_range = data.shape[:2]\n",
    "        k = kernel_size // 2\n",
    "\n",
    "        # Transfer to GPU, if needed\n",
    "        data = to_device(data, device)\n",
    "        bad_traces = to_device(bad_traces, device)\n",
    "        xp = cp.get_array_module(data) if (cp is not np) else np\n",
    "\n",
    "        # Compute data statistics\n",
    "        data_stds = data.std(axis=-1)\n",
    "        bad_traces[data_stds == 0.0] = 1\n",
    "        if normalize:\n",
    "            data_n = data - data.mean(axis=-1, keepdims=True)\n",
    "        else:\n",
    "            data_n = data\n",
    "\n",
    "        # Pad everything\n",
    "        padded_data = xp.pad(data_n, ((k, k), (k, k), (0, 0)), constant_values=xp.nan)\n",
    "        padded_stds = xp.pad(data_stds, k, constant_values=0.0)\n",
    "        padded_bad_traces = xp.pad(bad_traces, k, constant_values=1)\n",
    "\n",
    "        # Compute metric by shifting arrays\n",
    "        total = kernel_size * kernel_size - 1\n",
    "        pbar = Notifier(pbar, total=total) if pbar else None\n",
    "\n",
    "        accumulator = Accumulator(agg=agg, amortize=amortize, axis=axis, total=total)\n",
    "        for i in range(kernel_size):\n",
    "            for j in range(kernel_size):\n",
    "                if i == j == k:\n",
    "                    continue\n",
    "\n",
    "                shifted_data = padded_data[i:i+i_range, j:j+x_range]\n",
    "                shifted_stds = padded_stds[i:i+i_range, j:j+x_range]\n",
    "                shifted_bad_traces = padded_bad_traces[i:i+i_range, j:j+x_range]\n",
    "\n",
    "                computed = function(data_n, shifted_data, data_stds, shifted_stds)\n",
    "                computed[shifted_bad_traces == 1] = xp.nan\n",
    "                accumulator.update(computed)\n",
    "                if pbar:\n",
    "                    pbar.update()\n",
    "        if pbar:\n",
    "            pbar.close()\n",
    "\n",
    "        result = accumulator.get(final=True)\n",
    "        return from_device(result)"
   ]
  }
 ],
 "metadata": {
  "kernelspec": {
   "display_name": "Python 3",
   "language": "python",
   "name": "python3"
  },
  "language_info": {
   "codemirror_mode": {
    "name": "ipython",
    "version": 3
   },
   "file_extension": ".py",
   "mimetype": "text/x-python",
   "name": "python",
   "nbconvert_exporter": "python",
   "pygments_lexer": "ipython3",
   "version": "3.6.10"
  }
 },
 "nbformat": 4,
 "nbformat_minor": 4
}
