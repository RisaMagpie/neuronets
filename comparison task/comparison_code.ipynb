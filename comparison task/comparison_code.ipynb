{
 "cells": [
  {
   "cell_type": "code",
   "execution_count": 1,
   "metadata": {},
   "outputs": [
    {
     "name": "stdout",
     "output_type": "stream",
     "text": [
      "env: CUDA_VISIBLE_DEVICES=5\n"
     ]
    }
   ],
   "source": [
    "%env CUDA_VISIBLE_DEVICES=5"
   ]
  },
  {
   "cell_type": "code",
   "execution_count": 2,
   "metadata": {},
   "outputs": [],
   "source": [
    "import numpy as np\n",
    "import cupy as cp"
   ]
  },
  {
   "cell_type": "code",
   "execution_count": 3,
   "metadata": {},
   "outputs": [],
   "source": [
    "xp = np\n",
    "\n",
    "X = 5\n",
    "Y = 5\n",
    "Z = 2\n",
    "\n",
    "data = np.random.rand(X,Y,Z).astype('float32')"
   ]
  },
  {
   "cell_type": "markdown",
   "metadata": {},
   "source": [
    "# numpy"
   ]
  },
  {
   "cell_type": "code",
   "execution_count": 4,
   "metadata": {},
   "outputs": [],
   "source": [
    "def vectors_comparison(vector1, vector2, data_stds, shifted_stds):\n",
    "    res = xp.multiply(vector1, vector2)\n",
    "    res = xp.sum(xp.power(res, 2), axis = 2)\n",
    "#     res = xp.multiply(res, data_stds)\n",
    "#     res = xp.multiply(res, shifted_stds)\n",
    "    return res"
   ]
  },
  {
   "cell_type": "code",
   "execution_count": 5,
   "metadata": {},
   "outputs": [],
   "source": [
    "data = data = np.random.randint(0, 2, (X,Y,Z)).astype('float32')\n",
    "bad_traces=np.zeros(data.shape[:2])\n",
    "# check with bad traces"
   ]
  },
  {
   "cell_type": "code",
   "execution_count": 6,
   "metadata": {},
   "outputs": [],
   "source": [
    "data_stds = data.std(axis=-1)\n",
    "tmp_bad_traces = bad_traces.copy()\n",
    "tmp_bad_traces[data_stds == 0.0] = 1"
   ]
  },
  {
   "cell_type": "code",
   "execution_count": 7,
   "metadata": {},
   "outputs": [
    {
     "data": {
      "text/plain": [
       "True"
      ]
     },
     "execution_count": 7,
     "metadata": {},
     "output_type": "execute_result"
    }
   ],
   "source": [
    "np.any(tmp_bad_traces==1)"
   ]
  },
  {
   "cell_type": "code",
   "execution_count": 8,
   "metadata": {},
   "outputs": [
    {
     "data": {
      "text/plain": [
       "False"
      ]
     },
     "execution_count": 8,
     "metadata": {},
     "output_type": "execute_result"
    }
   ],
   "source": [
    "np.all(tmp_bad_traces==1)"
   ]
  },
  {
   "cell_type": "markdown",
   "metadata": {},
   "source": [
    "# old"
   ]
  },
  {
   "cell_type": "code",
   "execution_count": 9,
   "metadata": {},
   "outputs": [],
   "source": [
    "def compute_local(function, data, bad_traces, kernel_size=3,\n",
    "                      normalize=True, agg='mean', amortize=False, axis=0, device='cpu', pbar=None):\n",
    "        i_range, x_range = data.shape[:2]\n",
    "        k = kernel_size // 2\n",
    "\n",
    "        # Transfer to GPU, if needed\n",
    "        data = to_device(data, device)\n",
    "        bad_traces = to_device(bad_traces, device)\n",
    "        xp = cp.get_array_module(data) if (cp is not np) else np\n",
    "\n",
    "        # Compute data statistics\n",
    "        data_stds = data.std(axis=-1)\n",
    "        bad_traces[data_stds == 0.0] = 1\n",
    "        if normalize:\n",
    "            data_n = data - data.mean(axis=-1, keepdims=True)\n",
    "        else:\n",
    "            data_n = data\n",
    "\n",
    "        # Pad everything\n",
    "        padded_data = xp.pad(data_n, ((k, k), (k, k), (0, 0)), constant_values=xp.nan)\n",
    "        padded_stds = xp.pad(data_stds, k, constant_values=0.0)\n",
    "        padded_bad_traces = xp.pad(bad_traces, k, constant_values=1)\n",
    "        \n",
    "        # Compute metric by shifting arrays\n",
    "        total = kernel_size * kernel_size - 1\n",
    "        pbar = Notifier(pbar, total=total) if pbar else None\n",
    "\n",
    "        accumulator = Accumulator(agg=agg, amortize=amortize, axis=axis, total=total)\n",
    "        for i in range(kernel_size):\n",
    "            for j in range(kernel_size):\n",
    "                if i == j == k:\n",
    "                    continue\n",
    "\n",
    "                shifted_data = padded_data[i:i+i_range, j:j+x_range]\n",
    "                shifted_stds = padded_stds[i:i+i_range, j:j+x_range]\n",
    "                shifted_bad_traces = padded_bad_traces[i:i+i_range, j:j+x_range]\n",
    "\n",
    "                computed = function(data_n, shifted_data, data_stds, shifted_stds)\n",
    "                computed[shifted_bad_traces == 1] = xp.nan\n",
    "\n",
    "                accumulator.update(computed)\n",
    "                if pbar:\n",
    "                    pbar.update()\n",
    "        if pbar:\n",
    "            pbar.close()\n",
    "\n",
    "        result = accumulator.get(final=True)\n",
    "        return from_device(result)"
   ]
  },
  {
   "cell_type": "code",
   "execution_count": 10,
   "metadata": {},
   "outputs": [],
   "source": [
    "import sys\n",
    "sys.path.append(\"/notebooks\") \n",
    "sys.path.append(\"..\")"
   ]
  },
  {
   "cell_type": "code",
   "execution_count": 11,
   "metadata": {},
   "outputs": [],
   "source": [
    "from seismiqb.src.utility_classes import Accumulator\n",
    "from seismiqb.src.functional import to_device, from_device\n",
    "from batchflow.notifier import Notifier"
   ]
  },
  {
   "cell_type": "code",
   "execution_count": 12,
   "metadata": {},
   "outputs": [],
   "source": [
    "data_n = data"
   ]
  },
  {
   "cell_type": "code",
   "execution_count": 13,
   "metadata": {},
   "outputs": [
    {
     "name": "stderr",
     "output_type": "stream",
     "text": [
      "100%|██████████████████████████████████████████| 8/8 [00:00<00:00, 19097.57it/s]\n"
     ]
    }
   ],
   "source": [
    "# %%timeit -o\n",
    "res = compute_local(function=vectors_comparison, data=data_n.copy(), bad_traces=bad_traces.copy(), kernel_size=3,\n",
    "                      normalize=False, agg='nanmean', amortize=False, axis=0, device='cpu', pbar=True)"
   ]
  },
  {
   "cell_type": "code",
   "execution_count": 14,
   "metadata": {},
   "outputs": [],
   "source": [
    "# times = _\n",
    "# timings = times.timings"
   ]
  },
  {
   "cell_type": "code",
   "execution_count": 34,
   "metadata": {},
   "outputs": [],
   "source": [
    "from seismiqb import metrics"
   ]
  },
  {
   "cell_type": "code",
   "execution_count": 43,
   "metadata": {},
   "outputs": [
    {
     "name": "stderr",
     "output_type": "stream",
     "text": [
      "100%|███████████████████████████████████████████| 8/8 [00:00<00:00, 9233.47it/s]\n"
     ]
    },
    {
     "data": {
      "text/plain": [
       "True"
      ]
     },
     "execution_count": 43,
     "metadata": {},
     "output_type": "execute_result"
    }
   ],
   "source": [
    "np.allclose(res, metrics.BaseMetrics.compute_local(_, function=vectors_comparison, data=data_n.copy(), bad_traces=bad_traces.copy(), kernel_size=3,\n",
    "                      normalize=False, agg='nanmean', amortize=False, axis=0, device='cpu', pbar=True))"
   ]
  },
  {
   "cell_type": "code",
   "execution_count": null,
   "metadata": {},
   "outputs": [],
   "source": []
  },
  {
   "cell_type": "code",
   "execution_count": null,
   "metadata": {},
   "outputs": [],
   "source": []
  },
  {
   "cell_type": "code",
   "execution_count": 15,
   "metadata": {},
   "outputs": [],
   "source": [
    "def compute_local(function, data, bad_traces, kernel_size=3,\n",
    "                      normalize=True, agg='mean', amortize=False, axis=0, device='cpu', pbar=None):\n",
    "        i_range, x_range = data.shape[:2]\n",
    "        k = kernel_size // 2\n",
    "\n",
    "        # Transfer to GPU, if needed\n",
    "        data = to_device(data, device)\n",
    "        bad_traces = to_device(bad_traces, device)\n",
    "        xp = cp.get_array_module(data) if (cp is not np) else np\n",
    "\n",
    "        # Compute data statistics\n",
    "        data_stds = data.std(axis=-1)\n",
    "        bad_traces[data_stds == 0.0] = 1\n",
    "        \n",
    "        if normalize:\n",
    "            data_n = data - data.mean(axis=-1, keepdims=True)\n",
    "        else:\n",
    "            data_n = data\n",
    "            \n",
    "        data_n[bad_traces == 1] = xp.nan\n",
    "\n",
    "        # Pad everything\n",
    "        padded_data = xp.pad(data_n, ((k, k), (k, k), (0, 0)), constant_values=xp.nan)\n",
    "        padded_stds = xp.pad(data_stds, k, constant_values=0.0)\n",
    "        padded_bad_traces = xp.pad(bad_traces, k, constant_values=1)\n",
    "        \n",
    "        # Compute metric by shifting arrays\n",
    "        total = kernel_size * kernel_size - 1\n",
    "        pbar = Notifier(pbar, total=total) if pbar else None\n",
    "\n",
    "        accumulator = Accumulator(agg=agg, amortize=amortize, axis=axis, total=total)\n",
    "        for i in range(kernel_size):\n",
    "            for j in range(kernel_size):\n",
    "                if i == j == k:\n",
    "                    continue\n",
    "\n",
    "                shifted_data = padded_data[i:i+i_range, j:j+x_range]\n",
    "                shifted_stds = padded_stds[i:i+i_range, j:j+x_range]\n",
    "                shifted_bad_traces = padded_bad_traces[i:i+i_range, j:j+x_range]\n",
    "\n",
    "                computed = function(data_n, shifted_data, data_stds, shifted_stds)\n",
    "#                 computed[shifted_bad_traces == 1] = xp.nan\n",
    "\n",
    "                accumulator.update(computed)\n",
    "                if pbar:\n",
    "                    pbar.update()\n",
    "        if pbar:\n",
    "            pbar.close()\n",
    "\n",
    "        result = accumulator.get(final=True)\n",
    "        return from_device(result)"
   ]
  },
  {
   "cell_type": "code",
   "execution_count": 16,
   "metadata": {},
   "outputs": [
    {
     "name": "stderr",
     "output_type": "stream",
     "text": [
      "100%|██████████████████████████████████████████| 8/8 [00:00<00:00, 25059.32it/s]\n",
      "/notebooks/seismiqb/seismiqb/src/utility_classes.py:197: RuntimeWarning:\n",
      "\n",
      "Mean of empty slice\n",
      "\n"
     ]
    }
   ],
   "source": [
    "res_tmp = compute_local(function=vectors_comparison, data=data_n.copy(), bad_traces=bad_traces.copy(), kernel_size=3,\n",
    "                      normalize=False, agg='nanmean', amortize=False, axis=0, device='cpu', pbar=True)"
   ]
  },
  {
   "cell_type": "code",
   "execution_count": 17,
   "metadata": {},
   "outputs": [
    {
     "data": {
      "text/plain": [
       "False"
      ]
     },
     "execution_count": 17,
     "metadata": {},
     "output_type": "execute_result"
    }
   ],
   "source": [
    "np.allclose(res, res_tmp)"
   ]
  },
  {
   "cell_type": "code",
   "execution_count": 18,
   "metadata": {},
   "outputs": [
    {
     "data": {
      "text/plain": [
       "array([[0.        , 0.        , 0.66666667, 0.66666667, 1.        ],\n",
       "       [1.        , 0.5       , 0.66666667, 1.        , 0.        ],\n",
       "       [1.        , 1.        , 0.        , 1.        , 0.33333333],\n",
       "       [1.        , 0.5       , 1.        , 0.4       , 0.25      ],\n",
       "       [0.        , 0.        , 0.        , 0.5       , 0.66666667]])"
      ]
     },
     "execution_count": 18,
     "metadata": {},
     "output_type": "execute_result"
    }
   ],
   "source": [
    "res"
   ]
  },
  {
   "cell_type": "code",
   "execution_count": 19,
   "metadata": {},
   "outputs": [
    {
     "data": {
      "text/plain": [
       "array([[       nan,        nan, 0.66666667, 0.66666667,        nan],\n",
       "       [1.        , 0.5       , 0.66666667,        nan, 0.        ],\n",
       "       [1.        ,        nan,        nan,        nan, 0.33333333],\n",
       "       [       nan, 0.5       ,        nan, 0.4       , 0.25      ],\n",
       "       [       nan,        nan, 0.        , 0.5       , 0.66666667]])"
      ]
     },
     "execution_count": 19,
     "metadata": {},
     "output_type": "execute_result"
    }
   ],
   "source": [
    "res_tmp"
   ]
  },
  {
   "cell_type": "code",
   "execution_count": 26,
   "metadata": {},
   "outputs": [
    {
     "data": {
      "text/plain": [
       "array([[0., 0., 0., 0., 0.],\n",
       "       [0., 0., 0., 0., 0.],\n",
       "       [0., 0., 0., 0., 0.],\n",
       "       [0., 0., 0., 0., 0.],\n",
       "       [0., 0., 0., 0., 0.]])"
      ]
     },
     "execution_count": 26,
     "metadata": {},
     "output_type": "execute_result"
    }
   ],
   "source": [
    "bad_traces"
   ]
  },
  {
   "cell_type": "code",
   "execution_count": 27,
   "metadata": {},
   "outputs": [],
   "source": [
    "data_stds = data_n.std(axis=-1)\n",
    "bad_traces[data_stds == 0.0] = 1"
   ]
  },
  {
   "cell_type": "code",
   "execution_count": 28,
   "metadata": {},
   "outputs": [
    {
     "data": {
      "text/plain": [
       "array([[1., 1., 0., 0., 1.],\n",
       "       [0., 0., 0., 1., 0.],\n",
       "       [0., 1., 1., 1., 0.],\n",
       "       [1., 0., 1., 0., 0.],\n",
       "       [1., 1., 0., 0., 0.]])"
      ]
     },
     "execution_count": 28,
     "metadata": {},
     "output_type": "execute_result"
    }
   ],
   "source": [
    "bad_traces"
   ]
  },
  {
   "cell_type": "markdown",
   "metadata": {},
   "source": [
    "# new"
   ]
  },
  {
   "cell_type": "code",
   "execution_count": 20,
   "metadata": {},
   "outputs": [],
   "source": [
    "def compute_local_new(function, data, bad_traces, kernel_size=3,\n",
    "                      normalize=True, agg='mean', amortize=False, axis=0, device='cpu', pbar=None):\n",
    "        i_range, x_range = data.shape[:2]\n",
    "        k = kernel_size // 2 + 1\n",
    "\n",
    "        # Transfer to GPU, if needed\n",
    "        data = to_device(data, device)\n",
    "        bad_traces = to_device(bad_traces, device)\n",
    "        xp = cp.get_array_module(data) if (cp is not np) else np\n",
    "\n",
    "        # Compute data statistics\n",
    "        data_stds = data.std(axis=-1)\n",
    "        bad_traces[data_stds == 0.0] = 1\n",
    "        if normalize:\n",
    "            data_n = data - data.mean(axis=-1, keepdims=True)\n",
    "        else:\n",
    "            data_n = data\n",
    "\n",
    "        # Pad everything\n",
    "        padded_data = xp.pad(data_n, ((0, k), (k, k), (0, 0)), constant_values=xp.nan)\n",
    "        padded_stds = xp.pad(data_stds, ((0, k), (k, k)), constant_values=0.0)\n",
    "        padded_bad_traces = xp.pad(bad_traces, ((0, k), (k, k)), constant_values=1)\n",
    "\n",
    "        # Compute metric by shifting arrays\n",
    "        total = kernel_size * kernel_size - 1\n",
    "        pbar = Notifier(pbar, total=total//2) if pbar else None\n",
    "\n",
    "        accumulator = Accumulator(agg=agg, amortize=amortize, axis=axis, total=total)\n",
    "        for i in range(k):\n",
    "            for j in range(-k+1, k):\n",
    "                if (i == 0) and (j <= 0):\n",
    "                    continue                    \n",
    "                shifted_data = padded_data[i:i+i_range, k+j:k+j+x_range]\n",
    "                shifted_stds = padded_stds[i:i+i_range, k+j:k+j+x_range]\n",
    "                shifted_bad_traces = padded_bad_traces[i:i+i_range, k+j:k+j+x_range]\n",
    "\n",
    "                # Compute metric value for traces (x, y) and (x+i, y+j)\n",
    "                computed = function(data, shifted_data, data_stds, shifted_stds)     \n",
    "                \n",
    "#                 computed[shifted_bad_traces == 1] = xp.nan\n",
    "\n",
    "\n",
    "                # Shift comparison matrix and add padding for traces without pairs for comparison\n",
    "                splitted_computed = computed[:i_range-i, max(0, -j):min(x_range, x_range-j)]\n",
    "                shifted_computed = xp.pad(splitted_computed,\n",
    "                                          ((i, 0), (max(0, j), -min(0, j))), \n",
    "                                          constant_values=xp.nan\n",
    "                                         )\n",
    "\n",
    "#                 computed[shifted_bad_traces == 1] = xp.nan                \n",
    "                \n",
    "#                 shifted_bad_traces = padded_bad_traces[:i_range, k:k+x_range]\n",
    "#                 shifted_computed[shifted_bad_traces == 1] = xp.nan\n",
    "\n",
    "                accumulator.update(computed)\n",
    "                accumulator.update(shifted_computed)\n",
    "                if pbar:\n",
    "                    pbar.update()\n",
    "\n",
    "        if pbar:\n",
    "            pbar.close()\n",
    "\n",
    "        result = accumulator.get(final=True)\n",
    "        return from_device(result)"
   ]
  },
  {
   "cell_type": "code",
   "execution_count": 21,
   "metadata": {},
   "outputs": [
    {
     "name": "stderr",
     "output_type": "stream",
     "text": [
      "100%|███████████████████████████████████████████| 4/4 [00:00<00:00, 6480.19it/s]\n"
     ]
    }
   ],
   "source": [
    "res2 = compute_local_new(function=vectors_comparison, data=data_n.copy(), bad_traces=bad_traces.copy(), kernel_size=3,\n",
    "                      normalize=False, agg='nanmean', amortize=False, axis=0, device='cpu', pbar=True)\n"
   ]
  },
  {
   "cell_type": "code",
   "execution_count": 22,
   "metadata": {},
   "outputs": [
    {
     "data": {
      "text/plain": [
       "False"
      ]
     },
     "execution_count": 22,
     "metadata": {},
     "output_type": "execute_result"
    }
   ],
   "source": [
    "np.allclose(res, res2, equal_nan=True)"
   ]
  },
  {
   "cell_type": "code",
   "execution_count": 23,
   "metadata": {},
   "outputs": [
    {
     "data": {
      "text/plain": [
       "array([[0.        , 0.        , 0.66666667, 0.66666667, 1.        ],\n",
       "       [1.        , 0.5       , 0.66666667, 1.        , 0.        ],\n",
       "       [1.        , 1.        , 0.        , 1.        , 0.33333333],\n",
       "       [1.        , 0.5       , 1.        , 0.4       , 0.25      ],\n",
       "       [0.        , 0.        , 0.        , 0.5       , 0.66666667]])"
      ]
     },
     "execution_count": 23,
     "metadata": {},
     "output_type": "execute_result"
    }
   ],
   "source": [
    "res"
   ]
  },
  {
   "cell_type": "code",
   "execution_count": 24,
   "metadata": {},
   "outputs": [
    {
     "data": {
      "text/plain": [
       "array([[0.        , 0.        , 0.6       , 0.8       , 1.33333333],\n",
       "       [0.6       , 0.375     , 0.625     , 1.125     , 0.6       ],\n",
       "       [1.        , 1.125     , 0.        , 1.125     , 0.6       ],\n",
       "       [0.8       , 0.5       , 1.        , 0.5       , 0.4       ],\n",
       "       [0.        , 0.        , 0.2       , 0.6       , 0.66666667]])"
      ]
     },
     "execution_count": 24,
     "metadata": {},
     "output_type": "execute_result"
    }
   ],
   "source": [
    "res2"
   ]
  },
  {
   "cell_type": "code",
   "execution_count": 25,
   "metadata": {},
   "outputs": [
    {
     "data": {
      "text/plain": [
       "array([[1., 1., 0., 0., 1.],\n",
       "       [0., 0., 0., 1., 0.],\n",
       "       [0., 1., 1., 1., 0.],\n",
       "       [1., 0., 1., 0., 0.],\n",
       "       [1., 1., 0., 0., 0.]])"
      ]
     },
     "execution_count": 25,
     "metadata": {},
     "output_type": "execute_result"
    }
   ],
   "source": [
    "tmp_bad_traces"
   ]
  },
  {
   "cell_type": "code",
   "execution_count": null,
   "metadata": {},
   "outputs": [],
   "source": []
  }
 ],
 "metadata": {
  "kernelspec": {
   "display_name": "Python 3",
   "language": "python",
   "name": "python3"
  },
  "language_info": {
   "codemirror_mode": {
    "name": "ipython",
    "version": 3
   },
   "file_extension": ".py",
   "mimetype": "text/x-python",
   "name": "python",
   "nbconvert_exporter": "python",
   "pygments_lexer": "ipython3",
   "version": "3.6.10"
  }
 },
 "nbformat": 4,
 "nbformat_minor": 4
}
