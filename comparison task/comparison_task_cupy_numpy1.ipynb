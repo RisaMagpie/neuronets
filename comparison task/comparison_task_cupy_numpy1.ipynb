{
 "cells": [
  {
   "cell_type": "code",
   "execution_count": 1,
   "metadata": {},
   "outputs": [],
   "source": [
    "%env CUDA_VISIBLE_DEVICES=5"
   ]
  },
  {
   "cell_type": "code",
   "execution_count": 2,
   "metadata": {},
   "outputs": [],
   "source": [
    "import numpy as np\n",
    "import cupy as cp"
   ]
  },
  {
   "cell_type": "code",
   "execution_count": 3,
   "metadata": {},
   "outputs": [],
   "source": [
    "xp = cp\n",
    "\n",
    "X = 1500\n",
    "Y = 1500\n",
    "Z = 20\n",
    "K = 3\n",
    "data = np.random.rand(X,Y,Z).astype('float32')"
   ]
  },
  {
   "cell_type": "markdown",
   "metadata": {},
   "source": [
    "# numpy"
   ]
  },
  {
   "cell_type": "code",
   "execution_count": 4,
   "metadata": {},
   "outputs": [],
   "source": [
    "def vectors_comparison(vector1, vector2):\n",
    "    res = xp.multiply(vector1, vector2)\n",
    "    res = xp.sum(xp.power(res, 2), axis = 2)\n",
    "    return res\n",
    "\n",
    "def vectors_comparison1(matrix1, matrix2):\n",
    "    return (xp.power(matrix1 * matrix2, 2)).sum(axis=2)\n",
    "\n",
    "def compare_matrices(a_pad, data, xk, yk, K, comp_function):\n",
    "    comparison = comp_function(data, a_pad[xk:xk+data.shape[0], K+yk:K+yk+data.shape[1], :])\n",
    "    res = xp.pad(comparison, ((xk, 0), (K, K)), constant_values=xp.nan)[0:data.shape[0], K-yk:K-yk+data.shape[1]]\n",
    "    return comparison, res\n",
    "\n",
    "def get_comparison(data, X, Y, Z, K, comp_function):\n",
    "    K = K + 1\n",
    "    a_pad = xp.pad(data, ((0, K), (K, K), (0, 0)), constant_values=xp.nan)\n",
    "    result = []    \n",
    "    for xk in range(0, K):\n",
    "        for yk in range(0, K):\n",
    "            if (xk!=0) or (yk!=0):   \n",
    "                result.extend(compare_matrices(a_pad, data, xk, yk, K, comp_function))\n",
    "                if (yk!=0) and (xk!=0):\n",
    "                    result.extend(compare_matrices(a_pad, data, xk, -yk, K, comp_function))\n",
    "    cp.cuda.stream.get_current_stream().synchronize()\n",
    "    return result"
   ]
  },
  {
   "cell_type": "code",
   "execution_count": 5,
   "metadata": {},
   "outputs": [
    {
     "name": "stdout",
     "output_type": "stream",
     "text": [
      "CPU times: user 99.4 ms, sys: 367 ms, total: 466 ms\n",
      "Wall time: 5.87 s\n"
     ]
    }
   ],
   "source": [
    "%%time\n",
    "data_n = cp.asarray(data)"
   ]
  },
  {
   "cell_type": "code",
   "execution_count": 6,
   "metadata": {},
   "outputs": [
    {
     "name": "stdout",
     "output_type": "stream",
     "text": [
      "CPU times: user 507 ms, sys: 29.9 ms, total: 537 ms\n",
      "Wall time: 2.14 s\n"
     ]
    }
   ],
   "source": [
    "%%time\n",
    "res2 = get_comparison(data_n, X, Y, Z, K, vectors_comparison)"
   ]
  },
  {
   "cell_type": "code",
   "execution_count": 7,
   "metadata": {},
   "outputs": [
    {
     "name": "stdout",
     "output_type": "stream",
     "text": [
      "CPU times: user 62.9 ms, sys: 27.9 ms, total: 90.8 ms\n",
      "Wall time: 89.8 ms\n"
     ]
    }
   ],
   "source": [
    "%%time\n",
    "res2 = get_comparison(data_n, X, Y, Z, K, vectors_comparison)"
   ]
  },
  {
   "cell_type": "code",
   "execution_count": 8,
   "metadata": {},
   "outputs": [
    {
     "name": "stdout",
     "output_type": "stream",
     "text": [
      "CPU times: user 42.6 ms, sys: 44.6 ms, total: 87.2 ms\n",
      "Wall time: 86.1 ms\n"
     ]
    }
   ],
   "source": [
    "%%time\n",
    "res2 = get_comparison(data_n, X, Y, Z, K, vectors_comparison)"
   ]
  },
  {
   "cell_type": "code",
   "execution_count": 9,
   "metadata": {},
   "outputs": [
    {
     "name": "stdout",
     "output_type": "stream",
     "text": [
      "74.3 ms ± 87.4 µs per loop (mean ± std. dev. of 7 runs, 10 loops each)\n"
     ]
    }
   ],
   "source": [
    "%%timeit\n",
    "res2 = get_comparison(data_n, X, Y, Z, K, vectors_comparison)"
   ]
  }
 ],
 "metadata": {
  "kernelspec": {
   "display_name": "Python 3",
   "language": "python",
   "name": "python3"
  },
  "language_info": {
   "codemirror_mode": {
    "name": "ipython",
    "version": 3
   },
   "file_extension": ".py",
   "mimetype": "text/x-python",
   "name": "python",
   "nbconvert_exporter": "python",
   "pygments_lexer": "ipython3",
   "version": "3.6.10"
  }
 },
 "nbformat": 4,
 "nbformat_minor": 4
}
