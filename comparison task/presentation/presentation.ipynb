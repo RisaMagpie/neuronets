{
 "cells": [
  {
   "cell_type": "code",
   "execution_count": 1,
   "metadata": {},
   "outputs": [
    {
     "name": "stdout",
     "output_type": "stream",
     "text": [
      "env: CUDA_VISIBLE_DEVICES=6\n"
     ]
    }
   ],
   "source": [
    "%env CUDA_VISIBLE_DEVICES=6"
   ]
  },
  {
   "cell_type": "markdown",
   "metadata": {},
   "source": [
    "# Постановка задачи"
   ]
  },
  {
   "cell_type": "markdown",
   "metadata": {},
   "source": [
    "Введем **операцию сравнения** двух векторов f(array_x, array_y) следующим образом:\n",
    " 1. вектора поэлементно умножаются друг на друга\n",
    " 2. полученные числа возводятся в квадрат и суммируются\n",
    "\n",
    "Задан массив **data** размера **(X, Y, Z)**. Для каждого столбца **(data[x, y, :])** необходимо посчитать среднее значение от применения операции сравнения (определена выше) со всеми его соседями в окне по латерали **KxK**.\n",
    "\n",
    "Итеративно минимизировать время работы."
   ]
  },
  {
   "cell_type": "markdown",
   "metadata": {},
   "source": [
    "<img src=\"images/cube.PNG\" height=400, width=400> <img src=\"images/window.PNG\" height=400, width=400>"
   ]
  },
  {
   "cell_type": "markdown",
   "metadata": {},
   "source": [
    "# Код"
   ]
  },
  {
   "cell_type": "code",
   "execution_count": 2,
   "metadata": {},
   "outputs": [],
   "source": [
    "import numpy as np"
   ]
  },
  {
   "cell_type": "code",
   "execution_count": 3,
   "metadata": {},
   "outputs": [],
   "source": [
    "X = 2000\n",
    "Y = 2000\n",
    "Z = 20\n",
    "K = 3\n",
    "data = np.random.rand(X,Y,Z).astype('float32')"
   ]
  },
  {
   "cell_type": "markdown",
   "metadata": {},
   "source": [
    "# Решение 1 (Неоптимальное)"
   ]
  },
  {
   "cell_type": "code",
   "execution_count": null,
   "metadata": {},
   "outputs": [],
   "source": [
    "# Операция сравнения векторов:\n",
    "def vectors_comparison(vector1, vector2):\n",
    "    res = np.multiply(vector1, vector2)\n",
    "    res = np.sum(np.power(res, 2))\n",
    "    return res"
   ]
  },
  {
   "cell_type": "markdown",
   "metadata": {},
   "source": [
    "<img src=\"images/sol1_step1.PNG\" height=320, width=320> <img src=\"images/sol1_step2.PNG\" height=300, width=300> <img src=\"images/sol1_step3.PNG\" height=302, width=302> \n",
    "\n",
    "<img src=\"images/points.png\" height=100, width=100, align=\"middle\"> "
   ]
  },
  {
   "cell_type": "code",
   "execution_count": null,
   "metadata": {},
   "outputs": [],
   "source": [
    "%%time\n",
    "\n",
    "# Переменная для хранения результатов\n",
    "res = np.zeros(data.shape[0:2])\n",
    "k = K // 2 + 1\n",
    "\n",
    "for x in range(X):\n",
    "    for y in range(Y):     \n",
    "        # Для каждого столбца\n",
    "        col = data[x, y, :]       \n",
    "        accumulator = 0.0\n",
    "        for x_shift in range(-k, k + 1):\n",
    "            for y_shift in range(-k, k + 1):\n",
    "                # Для каждого соседнего вектора в окне КxК\n",
    "                if (0 <= x + x_shift < X) and (0 <= y + y_shift < Y):\n",
    "                    # Сравнить и аккумулировать результат для столбца\n",
    "                    accumulator += vectors_comparison(col, data[x + x_shift, y + y_shift])\n",
    "        # Разделить на количество соседей\n",
    "        x_window_length = (min(x + x_shift, X - 1) - max(0, x - x_shift) + 1)\n",
    "        y_window_length = (min(y + y_shift, Y - 1) - max(0, y - y_shift) + 1)\n",
    "        neighbours_amount = x_window_length * y_window_length - 1\n",
    "        res[x, y] = accumulator / neighbours_amount"
   ]
  },
  {
   "cell_type": "markdown",
   "metadata": {},
   "source": [
    "# Решение 1 + Numba"
   ]
  },
  {
   "cell_type": "markdown",
   "metadata": {},
   "source": [
    "## Numba\n",
    "\n",
    " * Компилятор для python и numpy.\n",
    " * Поддерживает некоторое подмножество операций и структур данных для работы с математическими вычислениями.\n",
    " * Существует расширение numba-scipy. "
   ]
  },
  {
   "cell_type": "markdown",
   "metadata": {},
   "source": [
    "## Вариант 1: Только декоратор"
   ]
  },
  {
   "cell_type": "code",
   "execution_count": 21,
   "metadata": {},
   "outputs": [],
   "source": [
    "import numba\n",
    "from numba import njit"
   ]
  },
  {
   "cell_type": "code",
   "execution_count": 22,
   "metadata": {},
   "outputs": [],
   "source": [
    "X = np.int32(2000)\n",
    "Y = np.int32(2000)\n",
    "Z = np.int32(20)\n",
    "K = np.int32(3)"
   ]
  },
  {
   "cell_type": "code",
   "execution_count": null,
   "metadata": {},
   "outputs": [],
   "source": [
    "%%time\n",
    "\n",
    "@njit\n",
    "def vectors_comparison(vector1, vector2):\n",
    "    res = np.multiply(vector1, vector2)\n",
    "    res = np.sum(np.power(res, 2))\n",
    "    return res\n",
    "\n",
    "@njit\n",
    "def get_comparison(data, X, Y, Z, K, comparison_function):\n",
    "    k = K // 2 + 1\n",
    "    res = np.zeros(data.shape[0:2])\n",
    "    for x in range(X):\n",
    "        for y in range(Y):        \n",
    "            col = data[x, y, :]        \n",
    "            accumulator = 0.0\n",
    "            for x_shift in range(-k, k+1):\n",
    "                for y_shift in range(-k, k+1):\n",
    "                    if (0 <= x + x_shift < X) and (0 <= y + y_shift < Y):\n",
    "                        accumulator += comparison_function(col, data[x + x_shift, y + y_shift])\n",
    "            x_window_length = (min(x + x_shift, X - 1) - max(0, x - x_shift) + 1)\n",
    "            y_window_length = (min(y + y_shift, Y - 1) - max(0, y - y_shift) + 1)\n",
    "            neighbours_amount = x_window_length * y_window_length - 1\n",
    "            res[x, y] = accumulator / neighbours_amount\n",
    "    return res"
   ]
  },
  {
   "cell_type": "code",
   "execution_count": null,
   "metadata": {},
   "outputs": [],
   "source": [
    "%%time\n",
    "_ = get_comparison(data, X, Y, Z, K, vectors_comparison)"
   ]
  },
  {
   "cell_type": "code",
   "execution_count": null,
   "metadata": {},
   "outputs": [],
   "source": [
    "%%time\n",
    "_ = get_comparison(data, X, Y, Z, K, vectors_comparison)"
   ]
  },
  {
   "cell_type": "code",
   "execution_count": null,
   "metadata": {},
   "outputs": [],
   "source": [
    "%%timeit\n",
    "_ = get_comparison(data, X, Y, Z, K, vectors_comparison)"
   ]
  },
  {
   "cell_type": "markdown",
   "metadata": {},
   "source": [
    "## Вариант 2: Задать сигнатуры"
   ]
  },
  {
   "cell_type": "code",
   "execution_count": null,
   "metadata": {},
   "outputs": [],
   "source": [
    "%%time\n",
    "\n",
    "@njit(numba.types.float32(numba.types.float32[:], \n",
    "                          numba.types.float32[:]))\n",
    "def vectors_comparison_sign(vector1, vector2):\n",
    "    res = np.multiply(vector1, vector2)\n",
    "    res = np.sum(np.power(res, 2))\n",
    "    return res\n",
    "\n",
    "@njit(numba.types.float32[:, :](numba.types.float32[:, :, :], \n",
    "                                numba.types.int32, \n",
    "                                numba.types.int32, \n",
    "                                numba.types.int32, \n",
    "                                numba.types.int32),\n",
    "      locals={'k': numba.types.int32,\n",
    "              'res': numba.types.float32[:, :],\n",
    "              'col': numba.types.float32[:],\n",
    "              'accumulator': numba.types.float32,\n",
    "              'neighbours_amount': numba.types.int32,\n",
    "              'x_window_length': numba.types.int32,\n",
    "              'y_window_length': numba.types.int32})\n",
    "def get_comparison_sign(data, X, Y, Z, K):\n",
    "    k = K // 2 + 1\n",
    "    res = np.zeros(data.shape[0:2], dtype='float32')\n",
    "    for x in range(X):\n",
    "        for y in range(Y):        \n",
    "            col = data[x, y, :]        \n",
    "            accumulator = 0.0\n",
    "            for x_shift in range(-k, k+1):\n",
    "                for y_shift in range(-k, k+1):\n",
    "                    if (0 <= x + x_shift < X) and (0 <= y + y_shift < Y):\n",
    "                        accumulator += vectors_comparison(col, data[x + x_shift, y + y_shift])\n",
    "            x_window_length = (min(x + x_shift, X - 1) - max(0, x - x_shift) + 1)\n",
    "            y_window_length = (min(y + y_shift, Y - 1) - max(0, y - y_shift) + 1)\n",
    "            neighbours_amount = x_window_length * y_window_length - 1\n",
    "            res[x, y] = accumulator / neighbours_amount\n",
    "    return res"
   ]
  },
  {
   "cell_type": "code",
   "execution_count": null,
   "metadata": {},
   "outputs": [],
   "source": [
    "%%time\n",
    "_ = get_comparison_sign(data, X, Y, Z, K)"
   ]
  },
  {
   "cell_type": "code",
   "execution_count": null,
   "metadata": {},
   "outputs": [],
   "source": [
    "%%timeit\n",
    "_ = get_comparison_sign(data, X, Y, Z, K)"
   ]
  },
  {
   "cell_type": "code",
   "execution_count": 19,
   "metadata": {},
   "outputs": [],
   "source": [
    "from numba import prange"
   ]
  },
  {
   "cell_type": "markdown",
   "metadata": {},
   "source": [
    "## Вариант 3: Использовать дополнительные параметры"
   ]
  },
  {
   "cell_type": "code",
   "execution_count": 24,
   "metadata": {},
   "outputs": [
    {
     "name": "stdout",
     "output_type": "stream",
     "text": [
      "CPU times: user 1.79 s, sys: 16.7 ms, total: 1.81 s\n",
      "Wall time: 1.8 s\n"
     ]
    }
   ],
   "source": [
    "%%time\n",
    "\n",
    "@njit(numba.types.float32(numba.types.float32[:], \n",
    "                          numba.types.float32[:]),\n",
    "      fastmath=True)\n",
    "def vectors_comparison_params(vector1, vector2):\n",
    "    res = np.multiply(vector1, vector2)\n",
    "    res = np.sum(np.power(res, 2))\n",
    "    return res\n",
    "\n",
    "@njit(numba.types.float32[:, :](numba.types.float32[:, :, :], \n",
    "                                numba.types.int32, \n",
    "                                numba.types.int32, \n",
    "                                numba.types.int32, \n",
    "                                numba.types.int32),\n",
    "      locals={'k': numba.types.int32,\n",
    "              'res': numba.types.float32[:, :],\n",
    "              'col': numba.types.float32[:],\n",
    "              'accumulator': numba.types.float32,\n",
    "              'neighbours_amount': numba.types.int32,\n",
    "              'x_window_length': numba.types.int32,\n",
    "              'y_window_length': numba.types.int32}, \n",
    "      parallel=True)\n",
    "def get_comparison_params(data, X, Y, Z, K):\n",
    "    k = K // 2 + 1\n",
    "    res = np.zeros(data.shape[0:2], dtype='float32')\n",
    "    for x in prange(X):\n",
    "        for y in range(Y):        \n",
    "            col = data[x, y, :]        \n",
    "            accumulator = 0.0\n",
    "            for x_shift in range(-k, k+1):\n",
    "                for y_shift in range(-k, k+1):\n",
    "                    if (0 <= x + x_shift < X) and (0 <= y + y_shift < Y):\n",
    "                        accumulator += vectors_comparison_params(col, data[x + x_shift, y + y_shift])\n",
    "            x_window_length = (min(x + x_shift, X - 1) - max(0, x - x_shift) + 1)\n",
    "            y_window_length = (min(y + y_shift, Y - 1) - max(0, y - y_shift) + 1)\n",
    "            neighbours_amount = x_window_length * y_window_length - 1\n",
    "            res[x, y] = accumulator / neighbours_amount\n",
    "    return res"
   ]
  },
  {
   "cell_type": "code",
   "execution_count": 25,
   "metadata": {},
   "outputs": [
    {
     "name": "stdout",
     "output_type": "stream",
     "text": [
      "37.1 s ± 1.54 s per loop (mean ± std. dev. of 7 runs, 1 loop each)\n"
     ]
    }
   ],
   "source": [
    "%%timeit\n",
    "_ = get_comparison_params(data, X, Y, Z, K)"
   ]
  },
  {
   "cell_type": "markdown",
   "metadata": {},
   "source": [
    "# Решение 2: NumPy"
   ]
  },
  {
   "cell_type": "markdown",
   "metadata": {},
   "source": [
    "## Модификация 1:\n",
    "\n",
    "<img src=\"images/sol2_step1.PNG\" height=400, width=400>"
   ]
  },
  {
   "cell_type": "markdown",
   "metadata": {},
   "source": [
    "<img src=\"images/sol2_step2.PNG\" height=400, width=400> <img src=\"images/sol2_step3.PNG\" height=408, width=408>\n"
   ]
  },
  {
   "cell_type": "markdown",
   "metadata": {},
   "source": [
    "## Модификация 2:"
   ]
  },
  {
   "cell_type": "markdown",
   "metadata": {},
   "source": [
    "<img src=\"images/sol2_step3.PNG\" height=417, width=417>  <img src=\"images/sol2_step4.PNG\" height=408, width=408>"
   ]
  },
  {
   "cell_type": "code",
   "execution_count": null,
   "metadata": {},
   "outputs": [],
   "source": [
    "xp = np"
   ]
  },
  {
   "cell_type": "code",
   "execution_count": null,
   "metadata": {},
   "outputs": [],
   "source": [
    "def matrices_comparison(matrix1, matrix2):\n",
    "    res = xp.multiply(matrix1, matrix2)\n",
    "    res = xp.sum(xp.power(res, 2), axis = 2)\n",
    "    return res\n",
    "\n",
    "def get_comparison(data, X, Y, Z, K, comparison_function):\n",
    "    k = K // 2 + 1 \n",
    "    padded_data = xp.pad(data, ((0, k), (k, k), (0, 0)), constant_values=xp.nan)\n",
    "    result = []      \n",
    "    for x_i in range(k):\n",
    "        for y_i in range(-k+1, k):\n",
    "            if (x_i == 0) and (y_i <= 0):\n",
    "                continue            \n",
    "            # Сравнить матрицу и матрицу со сдвигом\n",
    "            comparison = comparison_function(data, padded_data[x_i:x_i+X, k+y_i:k+y_i+Y])\n",
    "            # Сдвинуть результат сравнения\n",
    "            shifted_comparison = xp.pad(\n",
    "                comparison[:X-x_i, max(0, -y_i):min(Y, Y-y_i)], \n",
    "                ((x_i, 0), (max(0, y_i), -min(0, y_i))), \n",
    "                constant_values=xp.nan\n",
    "            )\n",
    "            result.extend([comparison, shifted_comparison])\n",
    "    return xp.nanmean(result)"
   ]
  },
  {
   "cell_type": "code",
   "execution_count": null,
   "metadata": {},
   "outputs": [],
   "source": [
    "%%timeit\n",
    "_ = get_comparison(data, X, Y, Z, K, matrices_comparison)"
   ]
  },
  {
   "cell_type": "markdown",
   "metadata": {},
   "source": [
    "# Решение 2 + CuPy\n",
    "\n",
    " * GPU accelerator для python\n",
    " * поддерживает много функций из numpy"
   ]
  },
  {
   "cell_type": "code",
   "execution_count": 4,
   "metadata": {},
   "outputs": [],
   "source": [
    "import cupy as cp\n",
    "xp = cp"
   ]
  },
  {
   "cell_type": "code",
   "execution_count": 5,
   "metadata": {},
   "outputs": [],
   "source": [
    "def matrices_comparison(matrix1, matrix2):\n",
    "    res = xp.multiply(matrix1, matrix2)\n",
    "    res = xp.sum(xp.power(res, 2), axis = 2)\n",
    "    return res\n",
    "\n",
    "def get_comparison(data, X, Y, Z, K, comparison_function):\n",
    "    k = K // 2 + 1 \n",
    "    padded_data = xp.pad(data, ((0, k), (k, k), (0, 0)), constant_values=xp.nan)\n",
    "    result = []    \n",
    "    for x_i in range(k):\n",
    "        for y_i in range(-k+1, k):\n",
    "            if (x_i == 0) and (y_i <= 0):\n",
    "                continue            \n",
    "            comparison = comparison_function(data, padded_data[x_i:x_i+X, k+y_i:k+y_i+Y])\n",
    "            shifted_comparison = xp.pad(\n",
    "                comparison[:X-x_i, max(0, -y_i):min(Y, Y-y_i)], \n",
    "                ((x_i, 0), (max(0, y_i), -min(0, y_i))), \n",
    "                constant_values=xp.nan\n",
    "            )\n",
    "            result.extend([comparison, shifted_comparison])\n",
    "    return xp.nanmean(cp.asarray(result))"
   ]
  },
  {
   "cell_type": "code",
   "execution_count": 6,
   "metadata": {},
   "outputs": [
    {
     "name": "stdout",
     "output_type": "stream",
     "text": [
      "CPU times: user 127 ms, sys: 439 ms, total: 566 ms\n",
      "Wall time: 592 ms\n"
     ]
    }
   ],
   "source": [
    "%%time\n",
    "data_n = cp.asarray(data)"
   ]
  },
  {
   "cell_type": "code",
   "execution_count": null,
   "metadata": {},
   "outputs": [],
   "source": [
    "%%time \n",
    "_ = get_comparison(data_n, X, Y, Z, K, matrices_comparison)"
   ]
  },
  {
   "cell_type": "code",
   "execution_count": null,
   "metadata": {},
   "outputs": [],
   "source": [
    "%%timeit\n",
    "_ = get_comparison(data_n, X, Y, Z, K, matrices_comparison)"
   ]
  },
  {
   "cell_type": "markdown",
   "metadata": {},
   "source": [
    "# Что это и зачем?\n",
    "\n",
    " * Это метод для сравнения соседних трасс внутри сейсмического куба.\n",
    " * Метрики (операция сравнения) позволяют оценить, какие участки являются сложными для обучения нейрости.\n",
    " * Хотим чаще сэмплировать данные для обучения там, где данные имеют более сложную структуру."
   ]
  },
  {
   "cell_type": "code",
   "execution_count": 7,
   "metadata": {},
   "outputs": [
    {
     "name": "stdout",
     "output_type": "stream",
     "text": [
      "CPU times: user 164 ms, sys: 2.98 ms, total: 167 ms\n",
      "Wall time: 165 ms\n"
     ]
    }
   ],
   "source": [
    "%%time\n",
    "_ = data_n + data_n"
   ]
  },
  {
   "cell_type": "code",
   "execution_count": 8,
   "metadata": {},
   "outputs": [
    {
     "name": "stdout",
     "output_type": "stream",
     "text": [
      "CPU times: user 437 ms, sys: 3.1 ms, total: 440 ms\n",
      "Wall time: 439 ms\n"
     ]
    }
   ],
   "source": [
    "%%time \n",
    "_ = get_comparison(data_n, X, Y, Z, K, matrices_comparison)"
   ]
  },
  {
   "cell_type": "code",
   "execution_count": 18,
   "metadata": {},
   "outputs": [
    {
     "name": "stdout",
     "output_type": "stream",
     "text": [
      "CPU times: user 129 ms, sys: 128 ms, total: 257 ms\n",
      "Wall time: 255 ms\n"
     ]
    }
   ],
   "source": [
    "%%time\n",
    "data_n = data_n.astype('float64')\n",
    "a = get_comparison(data_n, X, Y, Z, K, matrices_comparison)\n",
    "a = cp.asnumpy(a)\n",
    "cp._default_memory_pool.free_all_blocks()\n",
    "cp.cuda.stream.get_current_stream().synchronize()"
   ]
  },
  {
   "cell_type": "code",
   "execution_count": null,
   "metadata": {},
   "outputs": [],
   "source": []
  }
 ],
 "metadata": {
  "kernelspec": {
   "display_name": "Python 3",
   "language": "python",
   "name": "python3"
  },
  "language_info": {
   "codemirror_mode": {
    "name": "ipython",
    "version": 3
   },
   "file_extension": ".py",
   "mimetype": "text/x-python",
   "name": "python",
   "nbconvert_exporter": "python",
   "pygments_lexer": "ipython3",
   "version": "3.6.10"
  }
 },
 "nbformat": 4,
 "nbformat_minor": 4
}
