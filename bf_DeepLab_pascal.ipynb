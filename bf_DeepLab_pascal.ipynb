{
 "cells": [
  {
   "cell_type": "code",
   "execution_count": 1,
   "metadata": {},
   "outputs": [],
   "source": [
    "import torch\n",
    "from torch import nn\n",
    "import torch.optim as optim\n",
    "import matplotlib.pyplot as plt\n",
    "import numpy as np\n",
    "import matplotlib.pyplot as plt\n",
    "from tqdm.auto import tqdm\n",
    "from fastai.vision.all import URLs\n",
    "from batchflow import Pipeline, B, C, D, F, V, W\n",
    "from batchflow.models.torch import EncoderDecoder, UNet\n",
    "from batchflow.models.torch.layers import ConvBlock\n",
    "from batchflow.models.torch.layers.modules import ASPP\n",
    "from batchflow.opensets import PascalSegmentation\n",
    "\n",
    "from train_module import training_functions\n",
    "\n",
    "GRAPH_PATH = \"./data/graphs/\""
   ]
  },
  {
   "cell_type": "code",
   "execution_count": 2,
   "metadata": {},
   "outputs": [
    {
     "name": "stdout",
     "output_type": "stream",
     "text": [
      "env: CUDA_VISIBLE_DEVICES=3\n"
     ]
    }
   ],
   "source": [
    "%env CUDA_VISIBLE_DEVICES=3"
   ]
  },
  {
   "cell_type": "code",
   "execution_count": 3,
   "metadata": {},
   "outputs": [],
   "source": [
    "dataset = PascalSegmentation(bar='n')"
   ]
  },
  {
   "cell_type": "code",
   "execution_count": 4,
   "metadata": {},
   "outputs": [],
   "source": [
    "in_channels = 3\n",
    "out_channels = 3\n",
    "device = \"cuda:3\"\n",
    "\n",
    "batch_size = 64\n",
    "epoch_num = 5\n",
    "\n",
    "IMAGE_SHAPE = (160, 160)"
   ]
  },
  {
   "cell_type": "code",
   "execution_count": 5,
   "metadata": {},
   "outputs": [],
   "source": [
    "downsample_depth = 2\n",
    "in_channels = 3\n",
    "num_classes = 22\n",
    "\n",
    "\n",
    "model_config = { \n",
    "    'device': device,\n",
    "    'inputs/images/shape': (3, 160, 160), # can be commented\n",
    "    'inputs/targets/classes': num_classes,\n",
    "    'initial_block/inputs': 'images', # can be commented   \n",
    "    \n",
    "    'initial_block': {\n",
    "        'layout': 'cna cna',\n",
    "        'strides': [2, 1],\n",
    "        'filters': [32, 64]\n",
    "    },\n",
    "\n",
    "    'body/encoder': {\n",
    "        'num_stages': downsample_depth,\n",
    "        'order': ['downsampling', 'skip']\n",
    "    },    \n",
    "    'body/encoder/downsample': {\n",
    "        'layout': 'R' + 'wnacna' * 3 + '|',\n",
    "        'filters': 'same',\n",
    "        'strides': [[1, 1, 1, 1, 2, 1]] * downsample_depth,\n",
    "        'kernel_size': [[3, 1] * 3] * downsample_depth,\n",
    "        'dilation_rate' : 2,\n",
    "        'branch': {\n",
    "            'layout': 'cn', \n",
    "            'kernel_size': 1,\n",
    "            'filters': 'same',\n",
    "            'strides': 2\n",
    "        },\n",
    "    },      \n",
    "\n",
    "    'body/embedding': {\n",
    "        'base' : ASPP\n",
    "    },  \n",
    "\n",
    "    'body/decoder': {\n",
    "        'num_stages': downsample_depth,\n",
    "        'order': ['block', 'combine', 'upsampling'] \n",
    "    },\n",
    "\n",
    "    'body/decoder/blocks': {\n",
    "        'layout': 'cna',\n",
    "        'kernel_size': 1,\n",
    "        'filters': 256\n",
    "    },\n",
    "\n",
    "    'body/decoder/upsample': {\n",
    "        'layout': 'b',\n",
    "        'scale_factor': 2\n",
    "    },\n",
    "    'body/decoder/combine': {\n",
    "        'op': 'concat',\n",
    "    },    \n",
    "    \n",
    "    'head':{\n",
    "        'layout': 'cna b',\n",
    "        'scale_factor': 2,\n",
    "        'filters': num_classes,\n",
    "        'activation': 'sigmoid'\n",
    "    },\n",
    "\n",
    "    'loss': 'ce',\n",
    "    'optimizer': 'Adam'\n",
    "}"
   ]
  },
  {
   "cell_type": "code",
   "execution_count": 6,
   "metadata": {},
   "outputs": [],
   "source": [
    "def process_mask(x):\n",
    "    \"\"\" Background label is 255 and must be transformed to 21\n",
    "    to make labels sequential. \"\"\"\n",
    "    x = np.squeeze(x)\n",
    "    np.place(x, x==255, 21)\n",
    "    return x\n",
    "\n",
    "# Pipeline as a scheme of batch transformations and model training.\n",
    "train_pipeline = (dataset.train.p\n",
    "    .init_variable('loss_history', [])\n",
    "    .init_model('dynamic', EncoderDecoder, 'model', config=model_config)\n",
    "    .resize(size=IMAGE_SHAPE, src=['images', 'labels'], dst=['images', 'labels'])\n",
    "    .to_array(channels='first', src=['images', 'labels'], dst=['images', 'labels'])\n",
    "    .process_mask(B('labels'), save_to=B('labels'))\n",
    "    .train_model('model', B('images'), B('labels'),\n",
    "                fetches='loss', save_to=V('loss_history', mode='a'), use_lock=True)\n",
    ")"
   ]
  },
  {
   "cell_type": "code",
   "execution_count": 7,
   "metadata": {},
   "outputs": [
    {
     "data": {
      "application/vnd.jupyter.widget-view+json": {
       "model_id": "f96417bc302f4f6aa28be999ebde9c4d",
       "version_major": 2,
       "version_minor": 0
      },
      "text/plain": [
       "  0%|                                                                                                         …"
      ]
     },
     "metadata": {},
     "output_type": "display_data"
    },
    {
     "data": {
      "text/plain": [
       "<batchflow.batchflow.pipeline.Pipeline at 0x7fb19b5e80b8>"
      ]
     },
     "execution_count": 7,
     "metadata": {},
     "output_type": "execute_result"
    }
   ],
   "source": [
    "train_pipeline.run(16, n_epochs=2, bar='n', shuffle=True)"
   ]
  },
  {
   "cell_type": "code",
   "execution_count": 8,
   "metadata": {},
   "outputs": [
    {
     "data": {
      "image/png": "[encoded data removed]",
      "text/plain": [
       "<Figure size 1080x360 with 1 Axes>"
      ]
     },
     "metadata": {
      "needs_background": "light"
     },
     "output_type": "display_data"
    }
   ],
   "source": [
    "plt.figure(figsize=(15, 5))\n",
    "plt.plot(train_pipeline.v('loss_history'))\n",
    "plt.xlabel(\"Iterations\"), plt.ylabel(\"Loss\")\n",
    "plt.show()"
   ]
  },
  {
   "cell_type": "code",
   "execution_count": 20,
   "metadata": {},
   "outputs": [],
   "source": [
    "pipeline = (dataset.test.p\n",
    "                .import_model('model', train_pipeline)\n",
    "                .init_variable('metrics', None)\n",
    "                .init_variable('predictions')\n",
    "                .resize(size=IMAGE_SHAPE, src=['images', 'labels'], dst=['images', 'labels'])\n",
    "                .to_array(channels='first', src=['images', 'labels'], dst=['images', 'labels'])\n",
    "                .process_mask(B('labels'), save_to=B('labels'))                \n",
    "                .predict_model('model', B('images'), fetches='predictions',\n",
    "                               save_to=V('predictions'))\n",
    "                .gather_metrics('classification', B('labels'), V('predictions'),\n",
    "                                 axis=1, fmt='logits', num_classes=num_classes,\n",
    "                                 save_to=V('metrics', mode='update'))\n",
    "            )"
   ]
  },
  {
   "cell_type": "code",
   "execution_count": 21,
   "metadata": {},
   "outputs": [
    {
     "data": {
      "application/vnd.jupyter.widget-view+json": {
       "model_id": "075f5f403988425399e85fa2c4ab0f79",
       "version_major": 2,
       "version_minor": 0
      },
      "text/plain": [
       "  0%|                                                                                                         …"
      ]
     },
     "metadata": {},
     "output_type": "display_data"
    },
    {
     "data": {
      "text/plain": [
       "<batchflow.batchflow.pipeline.Pipeline at 0x7fb19b62d518>"
      ]
     },
     "execution_count": 21,
     "metadata": {},
     "output_type": "execute_result"
    }
   ],
   "source": [
    "pipeline.run(64, drop_last=False, bar='n')"
   ]
  },
  {
   "cell_type": "code",
   "execution_count": 28,
   "metadata": {},
   "outputs": [
    {
     "name": "stderr",
     "output_type": "stream",
     "text": [
      "/notebooks/sorokina/batchflow/batchflow/models/metrics/classify.py:343: RuntimeWarning: invalid value encountered in true_divide\n",
      "  return 2 * (recall * precision) / (recall + precision)\n"
     ]
    }
   ],
   "source": [
    "f1_scores = pipeline.v('metrics').evaluate('f1_score', agg='mean', multiclass=None)"
   ]
  },
  {
   "cell_type": "code",
   "execution_count": 29,
   "metadata": {},
   "outputs": [
    {
     "data": {
      "text/plain": [
       "array([0.6201698 , 0.78089681, 0.60112711, 0.79244258, 0.7107171 ,\n",
       "       0.88118798, 0.64407729, 0.64938282, 0.56680399, 0.71844868,\n",
       "       0.69732605, 0.26904112, 0.84965799, 0.64835748, 0.61946489,\n",
       "       0.38105762, 0.53494755, 0.66587874, 0.27597732, 0.58506147,\n",
       "       0.79061802, 0.14538084])"
      ]
     },
     "execution_count": 29,
     "metadata": {},
     "output_type": "execute_result"
    }
   ],
   "source": [
    "f1_scores "
   ]
  },
  {
   "cell_type": "code",
   "execution_count": null,
   "metadata": {},
   "outputs": [],
   "source": []
  }
 ],
 "metadata": {
  "kernelspec": {
   "display_name": "Python 3",
   "language": "python",
   "name": "python3"
  },
  "language_info": {
   "codemirror_mode": {
    "name": "ipython",
    "version": 3
   },
   "file_extension": ".py",
   "mimetype": "text/x-python",
   "name": "python",
   "nbconvert_exporter": "python",
   "pygments_lexer": "ipython3",
   "version": "3.6.10"
  }
 },
 "nbformat": 4,
 "nbformat_minor": 4
}
