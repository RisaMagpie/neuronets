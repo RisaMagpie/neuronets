{
 "cells": [
  {
   "cell_type": "code",
   "execution_count": 1,
   "metadata": {},
   "outputs": [],
   "source": [
    "import torch\n",
    "from torch import nn\n",
    "import torch.optim as optim\n",
    "import matplotlib.pyplot as plt\n",
    "import numpy as np\n",
    "import matplotlib.pyplot as plt\n",
    "from tqdm.auto import tqdm\n",
    "from fastai.vision.all import URLs\n",
    "from batchflow import Pipeline, B, C, D, F, V, W\n",
    "from batchflow.models.torch import EncoderDecoder\n",
    "from batchflow.models.torch.layers import ConvBlock\n",
    "from batchflow.models.torch.layers.modules import ASPP, PyramidPooling, KSAC\n",
    "from batchflow.opensets import Imagenette160\n",
    "\n",
    "from train_module import training_functions\n",
    "\n",
    "GRAPH_PATH = \"./data/graphs/\"\n",
    "IMAGE_SHAPE = (3, 160, 160)"
   ]
  },
  {
   "cell_type": "code",
   "execution_count": 2,
   "metadata": {},
   "outputs": [
    {
     "name": "stdout",
     "output_type": "stream",
     "text": [
      "env: CUDA_VISIBLE_DEVICES=3\n"
     ]
    }
   ],
   "source": [
    "%env CUDA_VISIBLE_DEVICES=3"
   ]
  },
  {
   "cell_type": "code",
   "execution_count": 3,
   "metadata": {},
   "outputs": [
    {
     "name": "stderr",
     "output_type": "stream",
     "text": [
      " 50%|█████     | 1/2 [00:05<00:05,  5.38s/it]\n"
     ]
    }
   ],
   "source": [
    "dataset = Imagenette160(bar='n')"
   ]
  },
  {
   "cell_type": "code",
   "execution_count": 4,
   "metadata": {},
   "outputs": [],
   "source": [
    "in_channels = 3\n",
    "out_channels = 3\n",
    "device = \"cuda:3\"\n",
    "\n",
    "batch_size = 64\n",
    "epoch_num = 5"
   ]
  },
  {
   "cell_type": "code",
   "execution_count": 5,
   "metadata": {},
   "outputs": [],
   "source": [
    "downsample_depth = 2\n",
    "in_channels = 3\n",
    "config = { \n",
    "    'device': device,\n",
    "    'inputs/images/shape': (3, 160, 160), # can be commented\n",
    "    'initial_block/inputs': 'images', # can be commented   \n",
    "    'initial_block': {\n",
    "        'layout': 'cna cna',\n",
    "        'strides': [2, 1],\n",
    "        'filters': [32, 64]\n",
    "    },\n",
    "\n",
    "    'body/encoder': {\n",
    "        'num_stages': downsample_depth,\n",
    "        'order': ['downsampling', 'skip']\n",
    "    },    \n",
    "    'body/encoder/downsample': {\n",
    "        'layout': 'R' + 'wnacna' * 3 + '|',\n",
    "        'filters': 'same',\n",
    "        'strides': [[1, 1, 1, 1, 2, 1]] * downsample_depth,\n",
    "        'kernel_size': [[3, 1] * 3] * downsample_depth,\n",
    "        'dilation_rate' : 2,\n",
    "        'branch': {\n",
    "            'layout': 'cn', \n",
    "            'kernel_size': 1,\n",
    "            'filters': 'same',\n",
    "            'strides': 2\n",
    "        },\n",
    "    },      \n",
    "\n",
    "    'body/embedding': {\n",
    "        'base' : ASPP\n",
    "    },  \n",
    "\n",
    "    'body/decoder': {\n",
    "        'num_stages': downsample_depth,\n",
    "        'order': ['block', 'combine', 'upsampling'] \n",
    "    },\n",
    "\n",
    "    'body/decoder/blocks': {\n",
    "        'layout': 'cna',\n",
    "        'kernel_size': 1,\n",
    "        'filters': 256\n",
    "    },\n",
    "\n",
    "    'body/decoder/upsample': {\n",
    "        'layout': 'b',\n",
    "        'scale_factor': 2\n",
    "    },\n",
    "    'body/decoder/combine': {\n",
    "        'op': 'concat',\n",
    "    },\n",
    "    \n",
    "    \n",
    "    'head':{\n",
    "        'layout': 'cna b',\n",
    "        'scale_factor': 2,\n",
    "        'filters': in_channels,\n",
    "        'activation': 'sigmoid'\n",
    "    },\n",
    "\n",
    "    'loss': 'mse',\n",
    "    'optimizer': 'Adam'\n",
    "}"
   ]
  },
  {
   "cell_type": "code",
   "execution_count": 6,
   "metadata": {},
   "outputs": [],
   "source": [
    "model = EncoderDecoder(config)"
   ]
  },
  {
   "cell_type": "code",
   "execution_count": null,
   "metadata": {},
   "outputs": [],
   "source": []
  }
 ],
 "metadata": {
  "kernelspec": {
   "display_name": "Python 3",
   "language": "python",
   "name": "python3"
  },
  "language_info": {
   "codemirror_mode": {
    "name": "ipython",
    "version": 3
   },
   "file_extension": ".py",
   "mimetype": "text/x-python",
   "name": "python",
   "nbconvert_exporter": "python",
   "pygments_lexer": "ipython3",
   "version": "3.6.10"
  }
 },
 "nbformat": 4,
 "nbformat_minor": 4
}
