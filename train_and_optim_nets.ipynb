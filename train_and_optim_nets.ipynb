{
 "cells": [
  {
   "cell_type": "code",
   "execution_count": 1,
   "metadata": {},
   "outputs": [],
   "source": [
    "import dill\n",
    "from functools import partial\n",
    "import json\n",
    "import numpy as np\n",
    "import os\n",
    "import torch\n",
    "import torch.nn as nn\n",
    "import torch.nn.functional as F\n",
    "import torch.optim as optim\n",
    "from torch.utils.data import random_split\n",
    "import torchvision\n",
    "import torchvision.transforms as transforms\n",
    "from ray import tune\n",
    "from ray.tune import JupyterNotebookReporter\n",
    "from ray.tune.schedulers import ASHAScheduler\n",
    "\n",
    "from my_models import (AlexNet, VGG16, ResNet)\n"
   ]
  },
  {
   "cell_type": "code",
   "execution_count": null,
   "metadata": {},
   "outputs": [],
   "source": [
    "### подумать над тем, как передавать и сохранять параметры модели."
   ]
  },
  {
   "cell_type": "code",
   "execution_count": 2,
   "metadata": {},
   "outputs": [
    {
     "name": "stdout",
     "output_type": "stream",
     "text": [
      "env: CUDA_VISIBLE_DEVICES=0\n"
     ]
    }
   ],
   "source": [
    "%env CUDA_VISIBLE_DEVICES=0\n",
    "device = torch.device(\"cuda:0\")"
   ]
  },
  {
   "cell_type": "code",
   "execution_count": 3,
   "metadata": {},
   "outputs": [],
   "source": [
    "input_channels = 3\n",
    "output_channels = 10\n",
    "\n",
    "models_list = [AlexNet, VGG16, ResNet]"
   ]
  },
  {
   "cell_type": "code",
   "execution_count": 4,
   "metadata": {},
   "outputs": [],
   "source": [
    "# создание папок для логов разых моделей:\n",
    "checkpoint_dir=\"./data/checkpoints/\"\n",
    "\"\"\"\n",
    "for name in models_list:    \n",
    "    if not os.path.isdir(checkpoint_dir+str(name)):\n",
    "        os.makedirs(checkpoint_dir+str(name))\n",
    "\"\"\"       \n",
    "if not os.path.isdir(checkpoint_dir+str(\"_all_models\")):\n",
    "    os.makedirs(checkpoint_dir+str(\"_all_models\"))"
   ]
  },
  {
   "cell_type": "code",
   "execution_count": 5,
   "metadata": {},
   "outputs": [],
   "source": [
    "# исходники: https://pytorch.org/tutorials/beginner/hyperparameter_tuning_tutorial.html"
   ]
  },
  {
   "cell_type": "code",
   "execution_count": 6,
   "metadata": {},
   "outputs": [],
   "source": [
    "def load_data(data_dir=\"./data/CIFAR\"):\n",
    "    transform = transforms.Compose([\n",
    "        transforms.ToTensor(),\n",
    "        transforms.Normalize((0.5, 0.5, 0.5), (0.5, 0.5, 0.5))\n",
    "    ])\n",
    "\n",
    "    trainset = torchvision.datasets.CIFAR10(\n",
    "        root=data_dir, train=True, download=True, transform=transform)\n",
    "\n",
    "    testset = torchvision.datasets.CIFAR10(\n",
    "        root=data_dir, train=False, download=True, transform=transform)\n",
    "\n",
    "    return trainset, testset"
   ]
  },
  {
   "cell_type": "code",
   "execution_count": 7,
   "metadata": {},
   "outputs": [],
   "source": [
    "def train_cifar(config, epoch_num=2,\n",
    "                checkpoint_dir=checkpoint_dir, data_dir=None): \n",
    "\n",
    "    net = config[\"models\"](input_channels, output_channels, [64, 128, 256, 512],[2, 2, 2, 2])\n",
    "    net.to(device)\n",
    "    \n",
    "    criterion = config[\"losses\"]() # для итерирования разных losses\n",
    "    optimizer = config[\"optimizers_names\"](net.parameters(), lr=config[\"lr\"])\n",
    "\n",
    "    trainset, testset = load_data(data_dir)\n",
    "\n",
    "    test_abs = int(len(trainset) * 0.8)\n",
    "    train_subset, val_subset = random_split(\n",
    "        trainset, [test_abs, len(trainset) - test_abs])\n",
    "\n",
    "    trainloader = torch.utils.data.DataLoader(\n",
    "        train_subset,\n",
    "        batch_size=int(config[\"batch_size\"]),\n",
    "        shuffle=True)\n",
    "    valloader = torch.utils.data.DataLoader(\n",
    "        val_subset,\n",
    "        batch_size=int(config[\"batch_size\"]),\n",
    "        shuffle=True)\n",
    "\n",
    "    for epoch in range(epoch_num):  # loop over the dataset multiple times\n",
    "\n",
    "        for i, data in enumerate(trainloader, 0):\n",
    "            # get the inputs; data is a list of [inputs, labels]\n",
    "            inputs, labels = data\n",
    "            inputs, labels = inputs.to(device), labels.to(device)\n",
    "\n",
    "            # zero the parameter gradients\n",
    "            optimizer.zero_grad()\n",
    "\n",
    "            # forward + backward + optimize\n",
    "            outputs = net(inputs)\n",
    "            loss = criterion(outputs, labels)\n",
    "            loss.backward()\n",
    "            optimizer.step()\n",
    "\n",
    "        # Validation loss\n",
    "        val_loss = 0.0\n",
    "        val_steps = 0\n",
    "        total = 0\n",
    "        correct = 0\n",
    "        for i, data in enumerate(valloader, 0):\n",
    "            with torch.no_grad():\n",
    "                inputs, labels = data\n",
    "                inputs, labels = inputs.to(device), labels.to(device)\n",
    "\n",
    "                outputs = net(inputs)\n",
    "                _, predicted = torch.max(outputs.data, 1)\n",
    "                total += labels.size(0)\n",
    "                correct += (predicted == labels).sum().item()\n",
    "\n",
    "                loss = criterion(outputs, labels)\n",
    "                val_loss += loss.cpu().numpy()\n",
    "                val_steps += 1\n",
    "\n",
    "        with tune.checkpoint_dir(epoch) as checkpoint_dir:\n",
    "            path = os.path.join(checkpoint_dir, \"checkpoint\")\n",
    "            torch.save((net.state_dict(), optimizer.state_dict()), path)\n",
    "\n",
    "        tune.report(loss=(val_loss / val_steps), accuracy=correct / total)\n",
    "    print(\"Finished Training\")"
   ]
  },
  {
   "cell_type": "code",
   "execution_count": 8,
   "metadata": {},
   "outputs": [],
   "source": [
    "def main(num_samples=1, max_num_epochs=20):\n",
    "    data_dir = os.path.abspath(\"./data/CIFAR\")\n",
    "    load_data(data_dir)\n",
    "\n",
    "    config = {        \n",
    "        \"lr\":tune.grid_search([1e-2, 1e-1]),   \n",
    "        \"batch_size\": tune.grid_search([100, 1000]),\n",
    "        \"optimizers_names\":  tune.grid_search([optim.Adam, optim.SGD]),\n",
    "        \"losses\": nn.CrossEntropyLoss,\n",
    "        \"models\": tune.grid_search(models_list)\n",
    "    }\n",
    "    scheduler = ASHAScheduler(\n",
    "        metric=\"loss\",\n",
    "        mode=\"min\",\n",
    "        max_t=max_num_epochs,\n",
    "        grace_period=1)#10)\n",
    "    reporter = JupyterNotebookReporter(\n",
    "        # parameter_columns=[\"l1\", \"l2\", \"lr\", \"batch_size\"],\n",
    "        overwrite = True,\n",
    "        print_intermediate_tables = False,\n",
    "        metric_columns=[\"loss\", \"accuracy\", \"precision\", \"training_iteration\"])\n",
    "    result = tune.run(\n",
    "        partial(train_cifar, data_dir=data_dir,\n",
    "                checkpoint_dir=checkpoint_dir),\n",
    "        config=config,\n",
    "        num_samples=num_samples,\n",
    "        scheduler=scheduler,\n",
    "        progress_reporter=reporter,\n",
    "        resources_per_trial = {\"gpu\": 1},\n",
    "        local_dir= checkpoint_dir+\"_all_models\")\n",
    "    \n",
    "    best_trial = result.get_best_trial(\"loss\", \"min\", \"last\")\n",
    "    print(\"Best trial config: {}\".format(best_trial.config))\n",
    "    print(\"Best trial final validation loss: {}\".format(\n",
    "        best_trial.last_result[\"loss\"]))\n",
    "    print(\"Best trial final validation accuracy: {}\".format(\n",
    "        best_trial.last_result[\"accuracy\"]))    \n",
    "\n",
    "    return result, best_trial   "
   ]
  },
  {
   "cell_type": "code",
   "execution_count": 9,
   "metadata": {},
   "outputs": [
    {
     "data": {
      "text/html": [
       "== Status ==<br>Memory usage on this node: 15.6/503.6 GiB<br>Using AsyncHyperBand: num_stopped=18\n",
       "Bracket: Iter 16.000: None | Iter 4.000: None | Iter 1.000: -1.7359908491373064<br>Resources requested: 0/80 CPUs, 0/1 GPUs, 0.0/338.09 GiB heap, 0.0/102.73 GiB objects (0/1.0 accelerator_type:RTX)<br>Result logdir: /notebooks/sorokina/data/checkpoints/_all_models/DEFAULT_2021-01-03_19-39-47<br>Number of trials: 24/24 (24 TERMINATED)<br><table>\n",
       "<thead>\n",
       "<tr><th>Trial name         </th><th>status    </th><th>loc  </th><th style=\"text-align: right;\">  batch_size</th><th style=\"text-align: right;\">  lr</th><th>models                     </th><th>optimizers_names               </th><th style=\"text-align: right;\">   loss</th><th style=\"text-align: right;\">  accuracy</th><th style=\"text-align: right;\">  training_iteration</th></tr>\n",
       "</thead>\n",
       "<tbody>\n",
       "<tr><td>DEFAULT_701f4_00000</td><td>TERMINATED</td><td>     </td><td style=\"text-align: right;\">         100</td><td style=\"text-align: right;\">0.01</td><td>&lt;class &#x27;my_models.AlexNet&#x27;&gt;</td><td>&lt;class &#x27;torch.optim.adam.Adam&#x27;&gt;</td><td style=\"text-align: right;\">1.4597 </td><td style=\"text-align: right;\">    0.4674</td><td style=\"text-align: right;\">                   2</td></tr>\n",
       "<tr><td>DEFAULT_701f4_00001</td><td>TERMINATED</td><td>     </td><td style=\"text-align: right;\">        1000</td><td style=\"text-align: right;\">0.01</td><td>&lt;class &#x27;my_models.AlexNet&#x27;&gt;</td><td>&lt;class &#x27;torch.optim.adam.Adam&#x27;&gt;</td><td style=\"text-align: right;\">1.73648</td><td style=\"text-align: right;\">    0.357 </td><td style=\"text-align: right;\">                   1</td></tr>\n",
       "<tr><td>DEFAULT_701f4_00002</td><td>TERMINATED</td><td>     </td><td style=\"text-align: right;\">         100</td><td style=\"text-align: right;\">0.1 </td><td>&lt;class &#x27;my_models.AlexNet&#x27;&gt;</td><td>&lt;class &#x27;torch.optim.adam.Adam&#x27;&gt;</td><td style=\"text-align: right;\">2.31014</td><td style=\"text-align: right;\">    0.1009</td><td style=\"text-align: right;\">                   1</td></tr>\n",
       "<tr><td>DEFAULT_701f4_00003</td><td>TERMINATED</td><td>     </td><td style=\"text-align: right;\">        1000</td><td style=\"text-align: right;\">0.1 </td><td>&lt;class &#x27;my_models.AlexNet&#x27;&gt;</td><td>&lt;class &#x27;torch.optim.adam.Adam&#x27;&gt;</td><td style=\"text-align: right;\">2.30447</td><td style=\"text-align: right;\">    0.1045</td><td style=\"text-align: right;\">                   1</td></tr>\n",
       "<tr><td>DEFAULT_701f4_00004</td><td>TERMINATED</td><td>     </td><td style=\"text-align: right;\">         100</td><td style=\"text-align: right;\">0.01</td><td>&lt;class &#x27;my_models.VGG16&#x27;&gt;  </td><td>&lt;class &#x27;torch.optim.adam.Adam&#x27;&gt;</td><td style=\"text-align: right;\">2.30259</td><td style=\"text-align: right;\">    0.0982</td><td style=\"text-align: right;\">                   1</td></tr>\n",
       "<tr><td>DEFAULT_701f4_00005</td><td>TERMINATED</td><td>     </td><td style=\"text-align: right;\">        1000</td><td style=\"text-align: right;\">0.01</td><td>&lt;class &#x27;my_models.VGG16&#x27;&gt;  </td><td>&lt;class &#x27;torch.optim.adam.Adam&#x27;&gt;</td><td style=\"text-align: right;\">2.30258</td><td style=\"text-align: right;\">    0.1004</td><td style=\"text-align: right;\">                   1</td></tr>\n",
       "<tr><td>DEFAULT_701f4_00006</td><td>TERMINATED</td><td>     </td><td style=\"text-align: right;\">         100</td><td style=\"text-align: right;\">0.1 </td><td>&lt;class &#x27;my_models.VGG16&#x27;&gt;  </td><td>&lt;class &#x27;torch.optim.adam.Adam&#x27;&gt;</td><td style=\"text-align: right;\">2.30259</td><td style=\"text-align: right;\">    0.0963</td><td style=\"text-align: right;\">                   1</td></tr>\n",
       "<tr><td>DEFAULT_701f4_00007</td><td>TERMINATED</td><td>     </td><td style=\"text-align: right;\">        1000</td><td style=\"text-align: right;\">0.1 </td><td>&lt;class &#x27;my_models.VGG16&#x27;&gt;  </td><td>&lt;class &#x27;torch.optim.adam.Adam&#x27;&gt;</td><td style=\"text-align: right;\">2.30392</td><td style=\"text-align: right;\">    0.1005</td><td style=\"text-align: right;\">                   1</td></tr>\n",
       "<tr><td>DEFAULT_701f4_00008</td><td>TERMINATED</td><td>     </td><td style=\"text-align: right;\">         100</td><td style=\"text-align: right;\">0.01</td><td>&lt;class &#x27;my_models.ResNet&#x27;&gt; </td><td>&lt;class &#x27;torch.optim.adam.Adam&#x27;&gt;</td><td style=\"text-align: right;\">1.0665 </td><td style=\"text-align: right;\">    0.6176</td><td style=\"text-align: right;\">                   2</td></tr>\n",
       "<tr><td>DEFAULT_701f4_00009</td><td>TERMINATED</td><td>     </td><td style=\"text-align: right;\">        1000</td><td style=\"text-align: right;\">0.01</td><td>&lt;class &#x27;my_models.ResNet&#x27;&gt; </td><td>&lt;class &#x27;torch.optim.adam.Adam&#x27;&gt;</td><td style=\"text-align: right;\">1.47159</td><td style=\"text-align: right;\">    0.4523</td><td style=\"text-align: right;\">                   2</td></tr>\n",
       "<tr><td>DEFAULT_701f4_00010</td><td>TERMINATED</td><td>     </td><td style=\"text-align: right;\">         100</td><td style=\"text-align: right;\">0.1 </td><td>&lt;class &#x27;my_models.ResNet&#x27;&gt; </td><td>&lt;class &#x27;torch.optim.adam.Adam&#x27;&gt;</td><td style=\"text-align: right;\">1.95443</td><td style=\"text-align: right;\">    0.2151</td><td style=\"text-align: right;\">                   1</td></tr>\n",
       "<tr><td>DEFAULT_701f4_00011</td><td>TERMINATED</td><td>     </td><td style=\"text-align: right;\">        1000</td><td style=\"text-align: right;\">0.1 </td><td>&lt;class &#x27;my_models.ResNet&#x27;&gt; </td><td>&lt;class &#x27;torch.optim.adam.Adam&#x27;&gt;</td><td style=\"text-align: right;\">2.3014 </td><td style=\"text-align: right;\">    0.0975</td><td style=\"text-align: right;\">                   1</td></tr>\n",
       "<tr><td>DEFAULT_701f4_00012</td><td>TERMINATED</td><td>     </td><td style=\"text-align: right;\">         100</td><td style=\"text-align: right;\">0.01</td><td>&lt;class &#x27;my_models.AlexNet&#x27;&gt;</td><td>&lt;class &#x27;torch.optim.sgd.SGD&#x27;&gt;  </td><td style=\"text-align: right;\">2.2987 </td><td style=\"text-align: right;\">    0.122 </td><td style=\"text-align: right;\">                   1</td></tr>\n",
       "<tr><td>DEFAULT_701f4_00013</td><td>TERMINATED</td><td>     </td><td style=\"text-align: right;\">        1000</td><td style=\"text-align: right;\">0.01</td><td>&lt;class &#x27;my_models.AlexNet&#x27;&gt;</td><td>&lt;class &#x27;torch.optim.sgd.SGD&#x27;&gt;  </td><td style=\"text-align: right;\">2.30743</td><td style=\"text-align: right;\">    0.1004</td><td style=\"text-align: right;\">                   1</td></tr>\n",
       "<tr><td>DEFAULT_701f4_00014</td><td>TERMINATED</td><td>     </td><td style=\"text-align: right;\">         100</td><td style=\"text-align: right;\">0.1 </td><td>&lt;class &#x27;my_models.AlexNet&#x27;&gt;</td><td>&lt;class &#x27;torch.optim.sgd.SGD&#x27;&gt;  </td><td style=\"text-align: right;\">1.49973</td><td style=\"text-align: right;\">    0.4493</td><td style=\"text-align: right;\">                   2</td></tr>\n",
       "<tr><td>DEFAULT_701f4_00015</td><td>TERMINATED</td><td>     </td><td style=\"text-align: right;\">        1000</td><td style=\"text-align: right;\">0.1 </td><td>&lt;class &#x27;my_models.AlexNet&#x27;&gt;</td><td>&lt;class &#x27;torch.optim.sgd.SGD&#x27;&gt;  </td><td style=\"text-align: right;\">2.29712</td><td style=\"text-align: right;\">    0.1048</td><td style=\"text-align: right;\">                   1</td></tr>\n",
       "<tr><td>DEFAULT_701f4_00016</td><td>TERMINATED</td><td>     </td><td style=\"text-align: right;\">         100</td><td style=\"text-align: right;\">0.01</td><td>&lt;class &#x27;my_models.VGG16&#x27;&gt;  </td><td>&lt;class &#x27;torch.optim.sgd.SGD&#x27;&gt;  </td><td style=\"text-align: right;\">2.30304</td><td style=\"text-align: right;\">    0.0993</td><td style=\"text-align: right;\">                   1</td></tr>\n",
       "<tr><td>DEFAULT_701f4_00017</td><td>TERMINATED</td><td>     </td><td style=\"text-align: right;\">        1000</td><td style=\"text-align: right;\">0.01</td><td>&lt;class &#x27;my_models.VGG16&#x27;&gt;  </td><td>&lt;class &#x27;torch.optim.sgd.SGD&#x27;&gt;  </td><td style=\"text-align: right;\">2.30363</td><td style=\"text-align: right;\">    0.098 </td><td style=\"text-align: right;\">                   1</td></tr>\n",
       "<tr><td>DEFAULT_701f4_00018</td><td>TERMINATED</td><td>     </td><td style=\"text-align: right;\">         100</td><td style=\"text-align: right;\">0.1 </td><td>&lt;class &#x27;my_models.VGG16&#x27;&gt;  </td><td>&lt;class &#x27;torch.optim.sgd.SGD&#x27;&gt;  </td><td style=\"text-align: right;\">2.30259</td><td style=\"text-align: right;\">    0.0995</td><td style=\"text-align: right;\">                   1</td></tr>\n",
       "<tr><td>DEFAULT_701f4_00019</td><td>TERMINATED</td><td>     </td><td style=\"text-align: right;\">        1000</td><td style=\"text-align: right;\">0.1 </td><td>&lt;class &#x27;my_models.VGG16&#x27;&gt;  </td><td>&lt;class &#x27;torch.optim.sgd.SGD&#x27;&gt;  </td><td style=\"text-align: right;\">2.30294</td><td style=\"text-align: right;\">    0.1014</td><td style=\"text-align: right;\">                   1</td></tr>\n",
       "<tr><td>DEFAULT_701f4_00020</td><td>TERMINATED</td><td>     </td><td style=\"text-align: right;\">         100</td><td style=\"text-align: right;\">0.01</td><td>&lt;class &#x27;my_models.ResNet&#x27;&gt; </td><td>&lt;class &#x27;torch.optim.sgd.SGD&#x27;&gt;  </td><td style=\"text-align: right;\">1.21116</td><td style=\"text-align: right;\">    0.5706</td><td style=\"text-align: right;\">                   2</td></tr>\n",
       "<tr><td>DEFAULT_701f4_00021</td><td>TERMINATED</td><td>     </td><td style=\"text-align: right;\">        1000</td><td style=\"text-align: right;\">0.01</td><td>&lt;class &#x27;my_models.ResNet&#x27;&gt; </td><td>&lt;class &#x27;torch.optim.sgd.SGD&#x27;&gt;  </td><td style=\"text-align: right;\">1.92855</td><td style=\"text-align: right;\">    0.3017</td><td style=\"text-align: right;\">                   1</td></tr>\n",
       "<tr><td>DEFAULT_701f4_00022</td><td>TERMINATED</td><td>     </td><td style=\"text-align: right;\">         100</td><td style=\"text-align: right;\">0.1 </td><td>&lt;class &#x27;my_models.ResNet&#x27;&gt; </td><td>&lt;class &#x27;torch.optim.sgd.SGD&#x27;&gt;  </td><td style=\"text-align: right;\">1.17308</td><td style=\"text-align: right;\">    0.5835</td><td style=\"text-align: right;\">                   2</td></tr>\n",
       "<tr><td>DEFAULT_701f4_00023</td><td>TERMINATED</td><td>     </td><td style=\"text-align: right;\">        1000</td><td style=\"text-align: right;\">0.1 </td><td>&lt;class &#x27;my_models.ResNet&#x27;&gt; </td><td>&lt;class &#x27;torch.optim.sgd.SGD&#x27;&gt;  </td><td style=\"text-align: right;\">1.92673</td><td style=\"text-align: right;\">    0.3138</td><td style=\"text-align: right;\">                   1</td></tr>\n",
       "</tbody>\n",
       "</table><br><br>"
      ],
      "text/plain": [
       "<IPython.core.display.HTML object>"
      ]
     },
     "metadata": {},
     "output_type": "display_data"
    },
    {
     "name": "stderr",
     "output_type": "stream",
     "text": [
      "2021-01-03 19:48:13,883\tINFO tune.py:448 -- Total run time: 508.75 seconds (505.98 seconds for the tuning loop).\n"
     ]
    },
    {
     "name": "stdout",
     "output_type": "stream",
     "text": [
      "Best trial config: {'lr': 0.01, 'batch_size': 100, 'optimizers_names': <class 'torch.optim.adam.Adam'>, 'losses': <class 'torch.nn.modules.loss.CrossEntropyLoss'>, 'models': <class 'my_models.ResNet'>}\n",
      "Best trial final validation loss: 1.0665025317668915\n",
      "Best trial final validation accuracy: 0.6176\n"
     ]
    }
   ],
   "source": [
    "result, best_trial = main(num_samples=1, max_num_epochs=20)\n",
    "best_trial_conf = best_trial.config"
   ]
  },
  {
   "cell_type": "code",
   "execution_count": 11,
   "metadata": {},
   "outputs": [
    {
     "name": "stderr",
     "output_type": "stream",
     "text": [
      "/usr/local/lib/python3.6/dist-packages/torch/serialization.py:292: UserWarning: Couldn't retrieve source code for container of type ResNet. It won't be checked for correctness upon loading.\n",
      "  \"type \" + obj.__name__ + \". It won't be checked \"\n",
      "/usr/local/lib/python3.6/dist-packages/torch/serialization.py:292: UserWarning: Couldn't retrieve source code for container of type Conv2d. It won't be checked for correctness upon loading.\n",
      "  \"type \" + obj.__name__ + \". It won't be checked \"\n",
      "/usr/local/lib/python3.6/dist-packages/torch/serialization.py:292: UserWarning: Couldn't retrieve source code for container of type BatchNorm2d. It won't be checked for correctness upon loading.\n",
      "  \"type \" + obj.__name__ + \". It won't be checked \"\n",
      "/usr/local/lib/python3.6/dist-packages/torch/serialization.py:292: UserWarning: Couldn't retrieve source code for container of type ModuleList. It won't be checked for correctness upon loading.\n",
      "  \"type \" + obj.__name__ + \". It won't be checked \"\n",
      "/usr/local/lib/python3.6/dist-packages/torch/serialization.py:292: UserWarning: Couldn't retrieve source code for container of type ResNetLayer. It won't be checked for correctness upon loading.\n",
      "  \"type \" + obj.__name__ + \". It won't be checked \"\n",
      "/usr/local/lib/python3.6/dist-packages/torch/serialization.py:292: UserWarning: Couldn't retrieve source code for container of type ResBlock. It won't be checked for correctness upon loading.\n",
      "  \"type \" + obj.__name__ + \". It won't be checked \"\n",
      "/usr/local/lib/python3.6/dist-packages/torch/serialization.py:292: UserWarning: Couldn't retrieve source code for container of type Sequential. It won't be checked for correctness upon loading.\n",
      "  \"type \" + obj.__name__ + \". It won't be checked \"\n",
      "/usr/local/lib/python3.6/dist-packages/torch/serialization.py:292: UserWarning: Couldn't retrieve source code for container of type Linear. It won't be checked for correctness upon loading.\n",
      "  \"type \" + obj.__name__ + \". It won't be checked \"\n",
      "/usr/local/lib/python3.6/dist-packages/torch/serialization.py:292: UserWarning: Couldn't retrieve source code for container of type CrossEntropyLoss. It won't be checked for correctness upon loading.\n",
      "  \"type \" + obj.__name__ + \". It won't be checked \"\n"
     ]
    }
   ],
   "source": [
    "# Извлечение наилучшей модели:\n",
    "best_trained_model = best_trial_conf[\"models\"](input_channels, output_channels, [64, 128, 256, 512],[2, 2, 2, 2])\n",
    "best_trained_model.to(device=device)\n",
    "model_state, optimizer_state = torch.load(os.path.join(\n",
    "    best_trial.checkpoint.value, \"checkpoint\"))\n",
    "best_trained_model.load_state_dict(model_state)\n",
    "\n",
    "# Сохранение модели и конфига:\n",
    "model_class = best_trial_conf[\"models\"]\n",
    "del best_trial_conf[\"models\"]\n",
    "with torch.no_grad():\n",
    "    torch.save({\"model_instance\" : best_trained_model, \n",
    "                \"model_class\" : model_class,\n",
    "                \"config\" : best_trial_conf},\n",
    "               \"./data/best_trials_info/best_trial_model_and_config.txt\", \n",
    "               pickle_module=dill)"
   ]
  },
  {
   "cell_type": "code",
   "execution_count": null,
   "metadata": {},
   "outputs": [],
   "source": []
  }
 ],
 "metadata": {
  "kernelspec": {
   "display_name": "Python 3",
   "language": "python",
   "name": "python3"
  },
  "language_info": {
   "codemirror_mode": {
    "name": "ipython",
    "version": 3
   },
   "file_extension": ".py",
   "mimetype": "text/x-python",
   "name": "python",
   "nbconvert_exporter": "python",
   "pygments_lexer": "ipython3",
   "version": "3.6.9"
  }
 },
 "nbformat": 4,
 "nbformat_minor": 4
}
