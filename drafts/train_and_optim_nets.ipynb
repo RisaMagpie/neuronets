{
 "cells": [
  {
   "cell_type": "code",
   "execution_count": 1,
   "metadata": {},
   "outputs": [],
   "source": [
    "import dill\n",
    "from functools import partial\n",
    "import json\n",
    "import numpy as np\n",
    "import os\n",
    "import torch\n",
    "import torch.nn as nn\n",
    "import torch.nn.functional as F\n",
    "import torch.optim as optim\n",
    "from torch.utils.data import random_split\n",
    "import torchvision\n",
    "import torchvision.transforms as transforms\n",
    "from ray import tune\n",
    "from ray.tune import JupyterNotebookReporter\n",
    "from ray.tune.schedulers import ASHAScheduler\n",
    "\n",
    "from my_models import (AlexNet, VGG16, ResNet)\n"
   ]
  },
  {
   "cell_type": "code",
   "execution_count": 2,
   "metadata": {},
   "outputs": [
    {
     "name": "stdout",
     "output_type": "stream",
     "text": [
      "env: CUDA_VISIBLE_DEVICES=0\n"
     ]
    }
   ],
   "source": [
    "%env CUDA_VISIBLE_DEVICES=0\n",
    "device = torch.device(\"cuda:0\")"
   ]
  },
  {
   "cell_type": "code",
   "execution_count": 3,
   "metadata": {},
   "outputs": [],
   "source": [
    "input_channels = 3\n",
    "output_channels = 10\n",
    "resnet_output_shapes = [64, 128, 256, 512]\n",
    "resnet_layers_depths = [2,2,2,2]\n",
    "\n",
    "models_list = [AlexNet, VGG16, ResNet]"
   ]
  },
  {
   "cell_type": "code",
   "execution_count": 4,
   "metadata": {},
   "outputs": [],
   "source": [
    "# создание папок для логов разых моделей:\n",
    "checkpoint_dir=\"./data/checkpoints/\"\n",
    "\"\"\"\n",
    "for name in models_list:    \n",
    "    if not os.path.isdir(checkpoint_dir+str(name)):\n",
    "        os.makedirs(checkpoint_dir+str(name))\n",
    "\"\"\"       \n",
    "if not os.path.isdir(checkpoint_dir+str(\"_all_models\")):\n",
    "    os.makedirs(checkpoint_dir+str(\"_all_models\"))"
   ]
  },
  {
   "cell_type": "code",
   "execution_count": 5,
   "metadata": {},
   "outputs": [],
   "source": [
    "# исходники: https://pytorch.org/tutorials/beginner/hyperparameter_tuning_tutorial.html"
   ]
  },
  {
   "cell_type": "raw",
   "metadata": {},
   "source": [
    "def load_data(data_dir=\"./data/CIFAR\"):\n",
    "    transform = transforms.Compose([\n",
    "        transforms.ToTensor(),\n",
    "        transforms.Normalize((0.5, 0.5, 0.5), (0.5, 0.5, 0.5))\n",
    "    ])\n",
    "\n",
    "    trainset = torchvision.datasets.CIFAR10(\n",
    "        root=data_dir, train=True, download=True, transform=transform)\n",
    "\n",
    "    testset = torchvision.datasets.CIFAR10(\n",
    "        root=data_dir, train=False, download=True, transform=transform)\n",
    "\n",
    "    return trainset, testset"
   ]
  },
  {
   "cell_type": "code",
   "execution_count": 7,
   "metadata": {},
   "outputs": [],
   "source": [
    "def train_cifar(config, epoch_num=2,\n",
    "                checkpoint_dir=checkpoint_dir, data_dir=None): \n",
    "    net = config[\"models\"](input_channels, \n",
    "                           output_channels, \n",
    "                           resnet_output_shapes, \n",
    "                           resnet_layers_depths)\n",
    "    net.to(device)\n",
    "    \n",
    "    criterion = config[\"losses\"]() # для итерирования разных losses\n",
    "    optimizer = config[\"optimizers_names\"](net.parameters(), lr=config[\"lr\"])\n",
    "\n",
    "    trainset, testset = load_data(data_dir)\n",
    "\n",
    "    test_abs = int(len(trainset) * 0.8)\n",
    "    train_subset, val_subset = random_split(\n",
    "        trainset, [test_abs, len(trainset) - test_abs])\n",
    "\n",
    "    trainloader = torch.utils.data.DataLoader(\n",
    "        train_subset,\n",
    "        batch_size=int(config[\"batch_size\"]),\n",
    "        shuffle=True)\n",
    "    valloader = torch.utils.data.DataLoader(\n",
    "        val_subset,\n",
    "        batch_size=int(config[\"batch_size\"]),\n",
    "        shuffle=True)\n",
    "\n",
    "    for epoch in range(epoch_num):  # loop over the dataset multiple times\n",
    "        for i, data in enumerate(trainloader, 0):\n",
    "            # get the inputs; data is a list of [inputs, labels]\n",
    "            inputs, labels = data\n",
    "            inputs, labels = inputs.to(device), labels.to(device)\n",
    "\n",
    "            # zero the parameter gradients\n",
    "            optimizer.zero_grad()\n",
    "\n",
    "            # forward + backward + optimize\n",
    "            outputs = net(inputs)\n",
    "            loss = criterion(outputs, labels)\n",
    "            loss.backward()\n",
    "            optimizer.step()\n",
    "\n",
    "        # Validation loss\n",
    "        val_loss = 0.0\n",
    "        val_steps = 0\n",
    "        total = 0\n",
    "        correct = 0\n",
    "        for i, data in enumerate(valloader, 0):\n",
    "            with torch.no_grad():\n",
    "                inputs, labels = data\n",
    "                inputs, labels = inputs.to(device), labels.to(device)\n",
    "\n",
    "                outputs = net(inputs)\n",
    "                _, predicted = torch.max(outputs.data, 1)\n",
    "                total += labels.size(0)\n",
    "                correct += (predicted == labels).sum().item()\n",
    "\n",
    "                loss = criterion(outputs, labels)\n",
    "                val_loss += loss.cpu().numpy()\n",
    "                val_steps += 1\n",
    "\n",
    "        with tune.checkpoint_dir(epoch) as checkpoint_dir:\n",
    "            path = os.path.join(checkpoint_dir, \"checkpoint\")\n",
    "            torch.save((net.state_dict(), optimizer.state_dict()), path)\n",
    "\n",
    "        tune.report(loss=(val_loss / val_steps), accuracy=correct / total)\n",
    "\n",
    "    print(\"Finished Training\")"
   ]
  },
  {
   "cell_type": "code",
   "execution_count": 8,
   "metadata": {},
   "outputs": [],
   "source": [
    "def main(num_samples=1, stop_criteria=20, max_num_epochs=20):    \n",
    "    data_dir = os.path.abspath(\"./data/CIFAR\")\n",
    "    load_data(data_dir)\n",
    "\n",
    "    config = {        \n",
    "        \"lr\":tune.grid_search([1e-3, 1e-4]),   \n",
    "        \"batch_size\": 10000,#tune.grid_search([100, 1000]),\n",
    "        \"optimizers_names\":  tune.grid_search([optim.Adam, optim.SGD]),\n",
    "        \"losses\": nn.CrossEntropyLoss,\n",
    "        \"models\": tune.grid_search(models_list)\n",
    "    }\n",
    "    scheduler = ASHAScheduler(\n",
    "        metric=\"loss\",\n",
    "        mode=\"min\",\n",
    "        max_t=max_num_epochs,\n",
    "        grace_period=stop_criteria)\n",
    "    reporter = JupyterNotebookReporter(\n",
    "        overwrite = True,\n",
    "        print_intermediate_tables = True,\n",
    "        metric_columns=[\"loss\", \"accuracy\", \"precision\", \"training_iteration\"])\n",
    "    result = tune.run(\n",
    "        partial(train_cifar, data_dir=data_dir,\n",
    "                checkpoint_dir=checkpoint_dir, epoch_num=max_num_epochs),\n",
    "        name = 'CIFAR',\n",
    "        config=config,\n",
    "        num_samples=num_samples,\n",
    "        scheduler=scheduler,\n",
    "        progress_reporter=reporter,\n",
    "        resources_per_trial = {\"gpu\": 1},\n",
    "        local_dir= checkpoint_dir+\"_all_models\")\n",
    "    \n",
    "    best_trial = result.get_best_trial(\"loss\", \"min\", \"last\")\n",
    "    print(\"Best trial config: {}\".format(best_trial.config))\n",
    "    print(\"Best trial final validation loss: {}\".format(\n",
    "        best_trial.last_result[\"loss\"]))\n",
    "    print(\"Best trial final validation accuracy: {}\".format(\n",
    "        best_trial.last_result[\"accuracy\"]))    \n",
    "\n",
    "    return result, best_trial   "
   ]
  },
  {
   "cell_type": "code",
   "execution_count": 9,
   "metadata": {},
   "outputs": [
    {
     "data": {
      "text/html": [
       "== Status ==<br>Memory usage on this node: 16.0/503.6 GiB<br>Using AsyncHyperBand: num_stopped=8\n",
       "Bracket: Iter 480.000: -1.1995905637741089 | Iter 120.000: -1.2763630151748657 | Iter 30.000: -2.2390699982643127<br>Resources requested: 0/80 CPUs, 0/1 GPUs, 0.0/338.09 GiB heap, 0.0/102.69 GiB objects (0/1.0 accelerator_type:RTX)<br>Result logdir: /notebooks/sorokina/data/checkpoints/_all_models/CIFAR<br>Number of trials: 12/12 (4 ERROR, 8 TERMINATED)<br><table>\n",
       "<thead>\n",
       "<tr><th>Trial name         </th><th>status    </th><th>loc  </th><th style=\"text-align: right;\">    lr</th><th>models                     </th><th>optimizers_names               </th><th style=\"text-align: right;\">   loss</th><th style=\"text-align: right;\">  accuracy</th><th style=\"text-align: right;\">  training_iteration</th></tr>\n",
       "</thead>\n",
       "<tbody>\n",
       "<tr><td>DEFAULT_2886a_00000</td><td>TERMINATED</td><td>     </td><td style=\"text-align: right;\">0.001 </td><td>&lt;class &#x27;my_models.AlexNet&#x27;&gt;</td><td>&lt;class &#x27;torch.optim.adam.Adam&#x27;&gt;</td><td style=\"text-align: right;\">1.38993</td><td style=\"text-align: right;\">    0.5835</td><td style=\"text-align: right;\">                1000</td></tr>\n",
       "<tr><td>DEFAULT_2886a_00001</td><td>TERMINATED</td><td>     </td><td style=\"text-align: right;\">0.0001</td><td>&lt;class &#x27;my_models.AlexNet&#x27;&gt;</td><td>&lt;class &#x27;torch.optim.adam.Adam&#x27;&gt;</td><td style=\"text-align: right;\">2.05037</td><td style=\"text-align: right;\">    0.2703</td><td style=\"text-align: right;\">                  30</td></tr>\n",
       "<tr><td>DEFAULT_2886a_00002</td><td>TERMINATED</td><td>     </td><td style=\"text-align: right;\">0.001 </td><td>&lt;class &#x27;my_models.VGG16&#x27;&gt;  </td><td>&lt;class &#x27;torch.optim.adam.Adam&#x27;&gt;</td><td style=\"text-align: right;\">2.30259</td><td style=\"text-align: right;\">    0.1013</td><td style=\"text-align: right;\">                  30</td></tr>\n",
       "<tr><td>DEFAULT_2886a_00003</td><td>TERMINATED</td><td>     </td><td style=\"text-align: right;\">0.0001</td><td>&lt;class &#x27;my_models.VGG16&#x27;&gt;  </td><td>&lt;class &#x27;torch.optim.adam.Adam&#x27;&gt;</td><td style=\"text-align: right;\">2.30197</td><td style=\"text-align: right;\">    0.1063</td><td style=\"text-align: right;\">                  30</td></tr>\n",
       "<tr><td>DEFAULT_2886a_00006</td><td>TERMINATED</td><td>     </td><td style=\"text-align: right;\">0.001 </td><td>&lt;class &#x27;my_models.AlexNet&#x27;&gt;</td><td>&lt;class &#x27;torch.optim.sgd.SGD&#x27;&gt;  </td><td style=\"text-align: right;\">2.30516</td><td style=\"text-align: right;\">    0.1007</td><td style=\"text-align: right;\">                  30</td></tr>\n",
       "<tr><td>DEFAULT_2886a_00007</td><td>TERMINATED</td><td>     </td><td style=\"text-align: right;\">0.0001</td><td>&lt;class &#x27;my_models.AlexNet&#x27;&gt;</td><td>&lt;class &#x27;torch.optim.sgd.SGD&#x27;&gt;  </td><td style=\"text-align: right;\">2.30487</td><td style=\"text-align: right;\">    0.1034</td><td style=\"text-align: right;\">                  30</td></tr>\n",
       "<tr><td>DEFAULT_2886a_00008</td><td>TERMINATED</td><td>     </td><td style=\"text-align: right;\">0.001 </td><td>&lt;class &#x27;my_models.VGG16&#x27;&gt;  </td><td>&lt;class &#x27;torch.optim.sgd.SGD&#x27;&gt;  </td><td style=\"text-align: right;\">2.3039 </td><td style=\"text-align: right;\">    0.0976</td><td style=\"text-align: right;\">                  30</td></tr>\n",
       "<tr><td>DEFAULT_2886a_00009</td><td>TERMINATED</td><td>     </td><td style=\"text-align: right;\">0.0001</td><td>&lt;class &#x27;my_models.VGG16&#x27;&gt;  </td><td>&lt;class &#x27;torch.optim.sgd.SGD&#x27;&gt;  </td><td style=\"text-align: right;\">2.30386</td><td style=\"text-align: right;\">    0.0989</td><td style=\"text-align: right;\">                  30</td></tr>\n",
       "<tr><td>DEFAULT_2886a_00004</td><td>ERROR     </td><td>     </td><td style=\"text-align: right;\">0.001 </td><td>&lt;class &#x27;my_models.ResNet&#x27;&gt; </td><td>&lt;class &#x27;torch.optim.adam.Adam&#x27;&gt;</td><td style=\"text-align: right;\">       </td><td style=\"text-align: right;\">          </td><td style=\"text-align: right;\">                    </td></tr>\n",
       "<tr><td>DEFAULT_2886a_00005</td><td>ERROR     </td><td>     </td><td style=\"text-align: right;\">0.0001</td><td>&lt;class &#x27;my_models.ResNet&#x27;&gt; </td><td>&lt;class &#x27;torch.optim.adam.Adam&#x27;&gt;</td><td style=\"text-align: right;\">       </td><td style=\"text-align: right;\">          </td><td style=\"text-align: right;\">                    </td></tr>\n",
       "<tr><td>DEFAULT_2886a_00010</td><td>ERROR     </td><td>     </td><td style=\"text-align: right;\">0.001 </td><td>&lt;class &#x27;my_models.ResNet&#x27;&gt; </td><td>&lt;class &#x27;torch.optim.sgd.SGD&#x27;&gt;  </td><td style=\"text-align: right;\">       </td><td style=\"text-align: right;\">          </td><td style=\"text-align: right;\">                    </td></tr>\n",
       "<tr><td>DEFAULT_2886a_00011</td><td>ERROR     </td><td>     </td><td style=\"text-align: right;\">0.0001</td><td>&lt;class &#x27;my_models.ResNet&#x27;&gt; </td><td>&lt;class &#x27;torch.optim.sgd.SGD&#x27;&gt;  </td><td style=\"text-align: right;\">       </td><td style=\"text-align: right;\">          </td><td style=\"text-align: right;\">                    </td></tr>\n",
       "</tbody>\n",
       "</table><br>Number of errored trials: 4<br><table>\n",
       "<thead>\n",
       "<tr><th>Trial name         </th><th style=\"text-align: right;\">  # failures</th><th>error file                                                                                                                                                                                             </th></tr>\n",
       "</thead>\n",
       "<tbody>\n",
       "<tr><td>DEFAULT_2886a_00004</td><td style=\"text-align: right;\">           1</td><td>/notebooks/sorokina/data/checkpoints/_all_models/CIFAR/DEFAULT_2886a_00004_4_lr=0.001,models=&lt;class &#x27;my_models.ResNet&#x27;&gt;,optimizers_names=&lt;class &#x27;torch.optim.adam.Adam&#x27;&gt;_2021-01-05_15-31-31/error.txt </td></tr>\n",
       "<tr><td>DEFAULT_2886a_00005</td><td style=\"text-align: right;\">           1</td><td>/notebooks/sorokina/data/checkpoints/_all_models/CIFAR/DEFAULT_2886a_00005_5_lr=0.0001,models=&lt;class &#x27;my_models.ResNet&#x27;&gt;,optimizers_names=&lt;class &#x27;torch.optim.adam.Adam&#x27;&gt;_2021-01-05_15-31-38/error.txt</td></tr>\n",
       "<tr><td>DEFAULT_2886a_00010</td><td style=\"text-align: right;\">           1</td><td>/notebooks/sorokina/data/checkpoints/_all_models/CIFAR/DEFAULT_2886a_00010_10_lr=0.001,models=&lt;class &#x27;my_models.ResNet&#x27;&gt;,optimizers_names=&lt;class &#x27;torch.optim.sgd.SGD&#x27;&gt;_2021-01-05_15-46-32/error.txt  </td></tr>\n",
       "<tr><td>DEFAULT_2886a_00011</td><td style=\"text-align: right;\">           1</td><td>/notebooks/sorokina/data/checkpoints/_all_models/CIFAR/DEFAULT_2886a_00011_11_lr=0.0001,models=&lt;class &#x27;my_models.ResNet&#x27;&gt;,optimizers_names=&lt;class &#x27;torch.optim.sgd.SGD&#x27;&gt;_2021-01-05_15-46-39/error.txt </td></tr>\n",
       "</tbody>\n",
       "</table><br>"
      ],
      "text/plain": [
       "<IPython.core.display.HTML object>"
      ]
     },
     "metadata": {},
     "output_type": "display_data"
    },
    {
     "ename": "TuneError",
     "evalue": "('Trials did not complete', [DEFAULT_2886a_00004, DEFAULT_2886a_00005, DEFAULT_2886a_00010, DEFAULT_2886a_00011])",
     "output_type": "error",
     "traceback": [
      "\u001b[0;31m---------------------------------------------------------------------------\u001b[0m",
      "\u001b[0;31mTuneError\u001b[0m                                 Traceback (most recent call last)",
      "\u001b[0;32m<ipython-input-9-e76dfbbb8b1f>\u001b[0m in \u001b[0;36m<module>\u001b[0;34m\u001b[0m\n\u001b[0;32m----> 1\u001b[0;31m \u001b[0mresult\u001b[0m\u001b[0;34m,\u001b[0m \u001b[0mbest_trial\u001b[0m \u001b[0;34m=\u001b[0m \u001b[0mmain\u001b[0m\u001b[0;34m(\u001b[0m\u001b[0mnum_samples\u001b[0m\u001b[0;34m=\u001b[0m\u001b[0;36m1\u001b[0m\u001b[0;34m,\u001b[0m \u001b[0mstop_criteria\u001b[0m\u001b[0;34m=\u001b[0m\u001b[0;36m30\u001b[0m\u001b[0;34m,\u001b[0m \u001b[0mmax_num_epochs\u001b[0m\u001b[0;34m=\u001b[0m\u001b[0;36m1000\u001b[0m\u001b[0;34m)\u001b[0m\u001b[0;34m\u001b[0m\u001b[0;34m\u001b[0m\u001b[0m\n\u001b[0m\u001b[1;32m      2\u001b[0m \u001b[0mbest_trial_conf\u001b[0m \u001b[0;34m=\u001b[0m \u001b[0mbest_trial\u001b[0m\u001b[0;34m.\u001b[0m\u001b[0mconfig\u001b[0m\u001b[0;34m\u001b[0m\u001b[0;34m\u001b[0m\u001b[0m\n",
      "\u001b[0;32m<ipython-input-8-97c91aa95211>\u001b[0m in \u001b[0;36mmain\u001b[0;34m(num_samples, stop_criteria, max_num_epochs)\u001b[0m\n\u001b[1;32m     28\u001b[0m         \u001b[0mprogress_reporter\u001b[0m\u001b[0;34m=\u001b[0m\u001b[0mreporter\u001b[0m\u001b[0;34m,\u001b[0m\u001b[0;34m\u001b[0m\u001b[0;34m\u001b[0m\u001b[0m\n\u001b[1;32m     29\u001b[0m         \u001b[0mresources_per_trial\u001b[0m \u001b[0;34m=\u001b[0m \u001b[0;34m{\u001b[0m\u001b[0;34m\"gpu\"\u001b[0m\u001b[0;34m:\u001b[0m \u001b[0;36m1\u001b[0m\u001b[0;34m}\u001b[0m\u001b[0;34m,\u001b[0m\u001b[0;34m\u001b[0m\u001b[0;34m\u001b[0m\u001b[0m\n\u001b[0;32m---> 30\u001b[0;31m         local_dir= checkpoint_dir+\"_all_models\")\n\u001b[0m\u001b[1;32m     31\u001b[0m \u001b[0;34m\u001b[0m\u001b[0m\n\u001b[1;32m     32\u001b[0m     \u001b[0mbest_trial\u001b[0m \u001b[0;34m=\u001b[0m \u001b[0mresult\u001b[0m\u001b[0;34m.\u001b[0m\u001b[0mget_best_trial\u001b[0m\u001b[0;34m(\u001b[0m\u001b[0;34m\"loss\"\u001b[0m\u001b[0;34m,\u001b[0m \u001b[0;34m\"min\"\u001b[0m\u001b[0;34m,\u001b[0m \u001b[0;34m\"last\"\u001b[0m\u001b[0;34m)\u001b[0m\u001b[0;34m\u001b[0m\u001b[0;34m\u001b[0m\u001b[0m\n",
      "\u001b[0;32m/usr/local/lib/python3.6/dist-packages/ray/tune/tune.py\u001b[0m in \u001b[0;36mrun\u001b[0;34m(run_or_experiment, name, metric, mode, stop, time_budget_s, config, resources_per_trial, num_samples, local_dir, search_alg, scheduler, keep_checkpoints_num, checkpoint_score_attr, checkpoint_freq, checkpoint_at_end, verbose, progress_reporter, log_to_file, trial_name_creator, trial_dirname_creator, sync_config, export_formats, max_failures, fail_fast, restore, server_port, resume, queue_trials, reuse_actors, trial_executor, raise_on_failed_trial, callbacks, loggers, ray_auto_init, run_errored_only, global_checkpoint_period, with_server, upload_dir, sync_to_cloud, sync_to_driver, sync_on_checkpoint)\u001b[0m\n\u001b[1;32m    440\u001b[0m     \u001b[0;32mif\u001b[0m \u001b[0mincomplete_trials\u001b[0m\u001b[0;34m:\u001b[0m\u001b[0;34m\u001b[0m\u001b[0;34m\u001b[0m\u001b[0m\n\u001b[1;32m    441\u001b[0m         \u001b[0;32mif\u001b[0m \u001b[0mraise_on_failed_trial\u001b[0m\u001b[0;34m:\u001b[0m\u001b[0;34m\u001b[0m\u001b[0;34m\u001b[0m\u001b[0m\n\u001b[0;32m--> 442\u001b[0;31m             \u001b[0;32mraise\u001b[0m \u001b[0mTuneError\u001b[0m\u001b[0;34m(\u001b[0m\u001b[0;34m\"Trials did not complete\"\u001b[0m\u001b[0;34m,\u001b[0m \u001b[0mincomplete_trials\u001b[0m\u001b[0;34m)\u001b[0m\u001b[0;34m\u001b[0m\u001b[0;34m\u001b[0m\u001b[0m\n\u001b[0m\u001b[1;32m    443\u001b[0m         \u001b[0;32melse\u001b[0m\u001b[0;34m:\u001b[0m\u001b[0;34m\u001b[0m\u001b[0;34m\u001b[0m\u001b[0m\n\u001b[1;32m    444\u001b[0m             \u001b[0mlogger\u001b[0m\u001b[0;34m.\u001b[0m\u001b[0merror\u001b[0m\u001b[0;34m(\u001b[0m\u001b[0;34m\"Trials did not complete: %s\"\u001b[0m\u001b[0;34m,\u001b[0m \u001b[0mincomplete_trials\u001b[0m\u001b[0;34m)\u001b[0m\u001b[0;34m\u001b[0m\u001b[0;34m\u001b[0m\u001b[0m\n",
      "\u001b[0;31mTuneError\u001b[0m: ('Trials did not complete', [DEFAULT_2886a_00004, DEFAULT_2886a_00005, DEFAULT_2886a_00010, DEFAULT_2886a_00011])"
     ]
    }
   ],
   "source": [
    "result, best_trial = main(num_samples=1, stop_criteria=30, max_num_epochs=1000)\n",
    "best_trial_conf = best_trial.config"
   ]
  },
  {
   "cell_type": "code",
   "execution_count": null,
   "metadata": {},
   "outputs": [],
   "source": [
    "# Извлечение наилучшей модели:\n",
    "best_trained_model = best_trial_conf[\"models\"](input_channels, output_channels, [64, 128, 256, 512],[2, 2, 2, 2])\n",
    "best_trained_model.to(device=device)\n",
    "model_state, optimizer_state = torch.load(os.path.join(\n",
    "    best_trial.checkpoint.value, \"checkpoint\"))\n",
    "best_trained_model.load_state_dict(model_state)\n",
    "\n",
    "# Сохранение модели и конфига:\n",
    "model_class = best_trial_conf[\"models\"]\n",
    "del best_trial_conf[\"models\"]\n",
    "with torch.no_grad():\n",
    "    torch.save({\"model_instance\" : best_trained_model, \n",
    "                \"model_class\" : model_class,\n",
    "                \"config\" : best_trial_conf},\n",
    "               \"./data/best_trials_info/best_trial_model_and_config.txt\", \n",
    "               pickle_module=dill)"
   ]
  },
  {
   "cell_type": "code",
   "execution_count": null,
   "metadata": {},
   "outputs": [],
   "source": []
  }
 ],
 "metadata": {
  "kernelspec": {
   "display_name": "Python 3",
   "language": "python",
   "name": "python3"
  },
  "language_info": {
   "codemirror_mode": {
    "name": "ipython",
    "version": 3
   },
   "file_extension": ".py",
   "mimetype": "text/x-python",
   "name": "python",
   "nbconvert_exporter": "python",
   "pygments_lexer": "ipython3",
   "version": "3.6.9"
  }
 },
 "nbformat": 4,
 "nbformat_minor": 4
}
