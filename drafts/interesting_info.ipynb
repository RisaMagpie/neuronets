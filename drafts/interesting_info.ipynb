{
 "cells": [
  {
   "cell_type": "code",
   "execution_count": 1,
   "metadata": {},
   "outputs": [
    {
     "name": "stdout",
     "output_type": "stream",
     "text": [
      "----------------------------------------------------------------\n",
      "        Layer (type)               Output Shape         Param #\n",
      "================================================================\n",
      "            Conv2d-1           [-1, 64, 15, 15]           1,792\n",
      "            Conv2d-2             [-1, 64, 7, 7]           4,160\n",
      "            Conv2d-3             [-1, 64, 7, 7]          36,928\n",
      "            Conv2d-4            [-1, 128, 7, 7]          73,856\n",
      "            Conv2d-5            [-1, 128, 7, 7]           8,320\n",
      "          ResBlock-6            [-1, 128, 7, 7]               0\n",
      "            Conv2d-7            [-1, 128, 7, 7]          16,512\n",
      "            Conv2d-8            [-1, 128, 7, 7]         147,584\n",
      "            Conv2d-9            [-1, 192, 7, 7]         221,376\n",
      "           Conv2d-10            [-1, 192, 7, 7]          24,768\n",
      "         ResBlock-11            [-1, 192, 7, 7]               0\n",
      "           Linear-12                   [-1, 10]           3,850\n",
      "================================================================\n",
      "Total params: 539,146\n",
      "Trainable params: 539,146\n",
      "Non-trainable params: 0\n",
      "----------------------------------------------------------------\n",
      "Input size (MB): 0.01\n",
      "Forward/backward pass size (MB): 0.61\n",
      "Params size (MB): 2.06\n",
      "Estimated Total Size (MB): 2.68\n",
      "----------------------------------------------------------------\n"
     ]
    }
   ],
   "source": [
    "import sys\n",
    "sys.path.append(\"..\") \n",
    "\n",
    "from my_models import ResNet\n",
    "from torchvision import models\n",
    "from torchsummary import summary\n",
    "\n",
    "net = ResNet(3,10)\n",
    "net.to(\"cuda:0\")\n",
    "summary(net, (3, 32, 32))"
   ]
  },
  {
   "cell_type": "code",
   "execution_count": null,
   "metadata": {},
   "outputs": [],
   "source": []
  }
 ],
 "metadata": {
  "kernelspec": {
   "display_name": "Python 3",
   "language": "python",
   "name": "python3"
  },
  "language_info": {
   "codemirror_mode": {
    "name": "ipython",
    "version": 3
   },
   "file_extension": ".py",
   "mimetype": "text/x-python",
   "name": "python",
   "nbconvert_exporter": "python",
   "pygments_lexer": "ipython3",
   "version": "3.6.9"
  }
 },
 "nbformat": 4,
 "nbformat_minor": 4
}
