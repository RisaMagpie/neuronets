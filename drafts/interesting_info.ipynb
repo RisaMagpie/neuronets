{
 "cells": [
  {
   "cell_type": "code",
   "execution_count": 1,
   "metadata": {},
   "outputs": [
    {
     "name": "stdout",
     "output_type": "stream",
     "text": [
      "----------------------------------------------------------------\n",
      "        Layer (type)               Output Shape         Param #\n",
      "================================================================\n",
      "            Conv2d-1            [-1, 3, 64, 64]              84\n",
      "       BatchNorm2d-2            [-1, 3, 64, 64]               6\n",
      "              ReLU-3            [-1, 3, 64, 64]               0\n",
      "            Conv2d-4            [-1, 6, 64, 64]             168\n",
      "       BatchNorm2d-5            [-1, 6, 64, 64]              12\n",
      "              ReLU-6            [-1, 6, 64, 64]               0\n",
      "         MaxPool2d-7            [-1, 6, 32, 32]               0\n",
      "            Conv2d-8            [-1, 6, 32, 32]             330\n",
      "       BatchNorm2d-9            [-1, 6, 32, 32]              12\n",
      "             ReLU-10            [-1, 6, 32, 32]               0\n",
      "           Conv2d-11           [-1, 12, 32, 32]             660\n",
      "      BatchNorm2d-12           [-1, 12, 32, 32]              24\n",
      "             ReLU-13           [-1, 12, 32, 32]               0\n",
      "        MaxPool2d-14           [-1, 12, 16, 16]               0\n",
      "           Conv2d-15           [-1, 12, 16, 16]           1,308\n",
      "      BatchNorm2d-16           [-1, 12, 16, 16]              24\n",
      "             ReLU-17           [-1, 12, 16, 16]               0\n",
      "           Conv2d-18           [-1, 24, 16, 16]           2,616\n",
      "      BatchNorm2d-19           [-1, 24, 16, 16]              48\n",
      "             ReLU-20           [-1, 24, 16, 16]               0\n",
      "        MaxPool2d-21             [-1, 24, 8, 8]               0\n",
      "           Conv2d-22             [-1, 24, 8, 8]           5,208\n",
      "      BatchNorm2d-23             [-1, 24, 8, 8]              48\n",
      "             ReLU-24             [-1, 24, 8, 8]               0\n",
      "           Conv2d-25             [-1, 48, 8, 8]          10,416\n",
      "      BatchNorm2d-26             [-1, 48, 8, 8]              96\n",
      "             ReLU-27             [-1, 48, 8, 8]               0\n",
      "        MaxPool2d-28             [-1, 48, 4, 4]               0\n",
      "           Conv2d-29             [-1, 48, 4, 4]          20,784\n",
      "             ReLU-30             [-1, 48, 4, 4]               0\n",
      "           Conv2d-31             [-1, 48, 4, 4]          20,784\n",
      "             ReLU-32             [-1, 48, 4, 4]               0\n",
      "  ConvTranspose2d-33             [-1, 24, 8, 8]           4,632\n",
      "           Conv2d-34             [-1, 24, 8, 8]          10,392\n",
      "           Conv2d-35             [-1, 24, 8, 8]           5,208\n",
      "  ConvTranspose2d-36           [-1, 12, 16, 16]           1,164\n",
      "           Conv2d-37           [-1, 12, 16, 16]           2,604\n",
      "           Conv2d-38           [-1, 12, 16, 16]           1,308\n",
      "  ConvTranspose2d-39            [-1, 6, 32, 32]             294\n",
      "           Conv2d-40            [-1, 6, 32, 32]             654\n",
      "           Conv2d-41            [-1, 6, 32, 32]             330\n",
      "  ConvTranspose2d-42            [-1, 3, 64, 64]              75\n",
      "           Conv2d-43            [-1, 3, 64, 64]             165\n",
      "           Conv2d-44            [-1, 3, 64, 64]              84\n",
      "           Conv2d-45           [-1, 10, 64, 64]              40\n",
      "================================================================\n",
      "Total params: 89,578\n",
      "Trainable params: 89,578\n",
      "Non-trainable params: 0\n",
      "----------------------------------------------------------------\n",
      "Input size (MB): 0.05\n",
      "Forward/backward pass size (MB): 2.53\n",
      "Params size (MB): 0.34\n",
      "Estimated Total Size (MB): 2.92\n",
      "----------------------------------------------------------------\n"
     ]
    }
   ],
   "source": [
    "import sys\n",
    "sys.path.append(\"..\") \n",
    "\n",
    "from models_module import my_models\n",
    "from torchvision import models\n",
    "from torchsummary import summary\n",
    "\n",
    "net = my_models.UNet(3,10,4)\n",
    "\"\"\"\n",
    "resnet_output_shapes = [64, 128, 256, 512]\n",
    "resnet_layers_depths = [2,2,2,2]\n",
    "net = my_models.ResNet(3, 10, resnet_output_shapes, resnet_layers_depths, True)\n",
    "\"\"\"\n",
    "net.to(\"cuda:0\")\n",
    "summary(net, (3, 64, 64))"
   ]
  },
  {
   "cell_type": "code",
   "execution_count": null,
   "metadata": {},
   "outputs": [],
   "source": []
  },
  {
   "cell_type": "code",
   "execution_count": null,
   "metadata": {},
   "outputs": [],
   "source": []
  }
 ],
 "metadata": {
  "kernelspec": {
   "display_name": "Python 3",
   "language": "python",
   "name": "python3"
  },
  "language_info": {
   "codemirror_mode": {
    "name": "ipython",
    "version": 3
   },
   "file_extension": ".py",
   "mimetype": "text/x-python",
   "name": "python",
   "nbconvert_exporter": "python",
   "pygments_lexer": "ipython3",
   "version": "3.6.9"
  }
 },
 "nbformat": 4,
 "nbformat_minor": 4
}
