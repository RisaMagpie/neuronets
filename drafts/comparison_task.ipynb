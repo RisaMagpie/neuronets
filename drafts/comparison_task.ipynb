{
 "cells": [
  {
   "cell_type": "code",
   "execution_count": 1,
   "metadata": {},
   "outputs": [],
   "source": [
    "import numpy as np"
   ]
  },
  {
   "cell_type": "code",
   "execution_count": 2,
   "metadata": {},
   "outputs": [],
   "source": [
    "X = 1500\n",
    "Y = 1500\n",
    "Z = 20\n",
    "K = 3\n",
    "data = np.random.rand(X,Y,Z)"
   ]
  },
  {
   "cell_type": "markdown",
   "metadata": {},
   "source": [
    "# Try 1"
   ]
  },
  {
   "cell_type": "code",
   "execution_count": 3,
   "metadata": {},
   "outputs": [
    {
     "data": {
      "text/plain": [
       "'\\ndef vectors_comparison(vector1, vector2):\\n    res = np.multiply(vector1, vector2)\\n    res = np.sum(np.power(res, 2))\\n    return res\\n\\n%%prun -l 20\\ncomp_res = {}\\nfor x in range(X): \\n    comp_res[x] = {}\\n    \\n    for y in range(Y):\\n        comp_res[x][y] = {}\\n        col = data[x, y, :]\\n        \\n        for x_iter in range(max(0, x-K), min(X, x+K+1)):  #  for x_iter in range(x, min(X, x+K+1)): \\n            comp_res[x][y][x_iter] = {}\\n            \\n            for y_iter in range(max(0, y-K), min(Y, y+K+1)):\\n\\n                if x_iter in comp_res: # придумать попроще\\n                    if y_iter in comp_res[x_iter]:\\n                        if x in comp_res[x_iter][y_iter]:\\n                            if y in comp_res[x_iter][y_iter][x]:\\n                                comp_res[x][y][x_iter][y_iter] = comp_res[x_iter][y_iter][x][y]\\n                                continue\\n\\n                if (x_iter != x) or (y_iter != y): # подумать над форматом кэширования\\n                    comp_res[x][y][x_iter][y_iter] = vectors_comparison(col, data[x_iter, y_iter])\\n\\nneighbours_comp = np.zeros((X,Y)).reshape(X,Y)\\nfor x in range(X):\\n    for y in range(Y):\\n        tmp_arr = []\\n        for x_iter in comp_res[x][y]:\\n            for y_iter in comp_res[x][y][x_iter]:\\n                tmp_arr.append(comp_res[x][y][x_iter][y_iter])\\n        neighbours_comp[x][y] = np.mean(tmp_arr)\\n'"
      ]
     },
     "execution_count": 3,
     "metadata": {},
     "output_type": "execute_result"
    }
   ],
   "source": [
    "\"\"\"\n",
    "def vectors_comparison(vector1, vector2):\n",
    "    res = np.multiply(vector1, vector2)\n",
    "    res = np.sum(np.power(res, 2))\n",
    "    return res\n",
    "\n",
    "%%prun -l 20\n",
    "comp_res = {}\n",
    "for x in range(X): \n",
    "    comp_res[x] = {}\n",
    "    \n",
    "    for y in range(Y):\n",
    "        comp_res[x][y] = {}\n",
    "        col = data[x, y, :]\n",
    "        \n",
    "        for x_iter in range(max(0, x-K), min(X, x+K+1)):  #  for x_iter in range(x, min(X, x+K+1)): \n",
    "            comp_res[x][y][x_iter] = {}\n",
    "            \n",
    "            for y_iter in range(max(0, y-K), min(Y, y+K+1)):\n",
    "\n",
    "                if x_iter in comp_res: # придумать попроще\n",
    "                    if y_iter in comp_res[x_iter]:\n",
    "                        if x in comp_res[x_iter][y_iter]:\n",
    "                            if y in comp_res[x_iter][y_iter][x]:\n",
    "                                comp_res[x][y][x_iter][y_iter] = comp_res[x_iter][y_iter][x][y]\n",
    "                                continue\n",
    "\n",
    "                if (x_iter != x) or (y_iter != y): # подумать над форматом кэширования\n",
    "                    comp_res[x][y][x_iter][y_iter] = vectors_comparison(col, data[x_iter, y_iter])\n",
    "\n",
    "neighbours_comp = np.zeros((X,Y)).reshape(X,Y)\n",
    "for x in range(X):\n",
    "    for y in range(Y):\n",
    "        tmp_arr = []\n",
    "        for x_iter in comp_res[x][y]:\n",
    "            for y_iter in comp_res[x][y][x_iter]:\n",
    "                tmp_arr.append(comp_res[x][y][x_iter][y_iter])\n",
    "        neighbours_comp[x][y] = np.mean(tmp_arr)\n",
    "\"\"\""
   ]
  },
  {
   "cell_type": "markdown",
   "metadata": {},
   "source": [
    "# Try 2"
   ]
  },
  {
   "cell_type": "code",
   "execution_count": 4,
   "metadata": {},
   "outputs": [
    {
     "name": "stdout",
     "output_type": "stream",
     "text": [
      "CPU times: user 1e+03 ns, sys: 3 µs, total: 4 µs\n",
      "Wall time: 8.58 µs\n"
     ]
    },
    {
     "data": {
      "text/plain": [
       "'\\nres = np.zeros(data.shape[0:2])\\nfor x in range(X):\\n    for y in range(Y):        \\n        col = data[x, y, :]        \\n        for x_idx in range(-K, K+1):\\n            for y_idx in range(-K, K+1):\\n                if (0 <= x + x_idx < X) and (0 <= y + y_idx < Y):\\n                    res[x, y] += vectors_comparison(col, data[x + x_idx, y + y_idx])\\n        res[x, y] /= (min(x + x_idx, X - 1) - max(0, x - x_idx) + 1) * (min(y + y_idx, Y - 1) - max(0, y - y_idx) + 1) - 1\\n        \\n'"
      ]
     },
     "execution_count": 4,
     "metadata": {},
     "output_type": "execute_result"
    }
   ],
   "source": [
    "%%time\n",
    "\n",
    "\"\"\"\n",
    "res = np.zeros(data.shape[0:2])\n",
    "for x in range(X):\n",
    "    for y in range(Y):        \n",
    "        col = data[x, y, :]        \n",
    "        for x_idx in range(-K, K+1):\n",
    "            for y_idx in range(-K, K+1):\n",
    "                if (0 <= x + x_idx < X) and (0 <= y + y_idx < Y):\n",
    "                    res[x, y] += vectors_comparison(col, data[x + x_idx, y + y_idx])\n",
    "        res[x, y] /= (min(x + x_idx, X - 1) - max(0, x - x_idx) + 1) * (min(y + y_idx, Y - 1) - max(0, y - y_idx) + 1) - 1\n",
    "        \n",
    "\"\"\""
   ]
  },
  {
   "cell_type": "code",
   "execution_count": null,
   "metadata": {},
   "outputs": [],
   "source": []
  },
  {
   "cell_type": "markdown",
   "metadata": {},
   "source": [
    "# Try 3: numba"
   ]
  },
  {
   "cell_type": "code",
   "execution_count": 5,
   "metadata": {},
   "outputs": [],
   "source": [
    "import numba"
   ]
  },
  {
   "cell_type": "code",
   "execution_count": 6,
   "metadata": {},
   "outputs": [],
   "source": [
    "from numba import njit"
   ]
  },
  {
   "cell_type": "code",
   "execution_count": 7,
   "metadata": {},
   "outputs": [],
   "source": [
    "X = np.int32(1500)\n",
    "Y = np.int32(1500)\n",
    "Z = np.int32(20)\n",
    "K = np.int32(3)\n",
    "data = np.random.rand(X,Y,Z).astype('float32')"
   ]
  },
  {
   "cell_type": "code",
   "execution_count": 8,
   "metadata": {},
   "outputs": [
    {
     "name": "stdout",
     "output_type": "stream",
     "text": [
      "CPU times: user 1.92 s, sys: 6.06 s, total: 7.98 s\n",
      "Wall time: 1.22 s\n"
     ]
    }
   ],
   "source": [
    "%%time\n",
    "\n",
    "@njit(numba.types.float32(numba.types.float32[:], \n",
    "                          numba.types.float32[:]),\n",
    "      fastmath=True)\n",
    "def vectors_comparison(vector1, vector2):\n",
    "    res = np.multiply(vector1, vector2)\n",
    "    res = np.sum(np.power(res, 2))\n",
    "    return res\n",
    "\n",
    "@njit(numba.types.float32[:, :](numba.types.float32[:, :, :], \n",
    "                                numba.types.int32, \n",
    "                                numba.types.int32, \n",
    "                                numba.types.int32, \n",
    "                                numba.types.int32),\n",
    "    locals={'res': numba.types.float32[:, :],\n",
    "            'col': numba.types.float32[:]}, parallel=True)\n",
    "def get_comparison(data, X, Y, Z, K):\n",
    "    res = np.zeros(data.shape[0:2], dtype='float32')\n",
    "    for x in range(X):\n",
    "        for y in range(Y):        \n",
    "            col = data[x, y, :]        \n",
    "            for x_idx in range(-K, K+1):\n",
    "                for y_idx in range(-K, K+1):\n",
    "                    sss = np.float32(0.0)\n",
    "                    if (0 <= x + x_idx < X) and (0 <= y + y_idx < Y):\n",
    "                        sss += vectors_comparison(col, data[x + x_idx, y + y_idx])\n",
    "            count = (min(x + x_idx, X - 1) - max(0, x - x_idx) + 1) * (min(y + y_idx, Y - 1) - max(0, y - y_idx) + 1) - 1\n",
    "            res[x, y] = sss / count\n",
    "    return res"
   ]
  },
  {
   "cell_type": "code",
   "execution_count": 9,
   "metadata": {},
   "outputs": [
    {
     "name": "stdout",
     "output_type": "stream",
     "text": [
      "CPU times: user 16.8 s, sys: 188 ms, total: 17 s\n",
      "Wall time: 16.7 s\n"
     ]
    }
   ],
   "source": [
    "%%time\n",
    "res = get_comparison(data, X, Y, Z, K)"
   ]
  },
  {
   "cell_type": "markdown",
   "metadata": {},
   "source": [
    "# Try 4: numpy"
   ]
  },
  {
   "cell_type": "code",
   "execution_count": 10,
   "metadata": {},
   "outputs": [],
   "source": [
    "def vectors_comparison(vector1, vector2):\n",
    "    res = np.multiply(vector1, vector2)\n",
    "    res = np.sum(np.power(res, 2), axis = 2)\n",
    "    return res\n",
    "\n",
    "def compare_matrices(a_pad, xk, yk, K):\n",
    "    comparison = vectors_comparison(a_pad[K:-K,K:-K,:], a_pad[xk+K:xk+a_pad.shape[0]-K, yk+K:yk+a_pad.shape[1]-K,:])\n",
    "    res = comparison + np.pad(comparison, K)[-xk+K:-xk+a_pad.shape[1]-K, -yk+K:-yk+a_pad.shape[0]-K]\n",
    "    return res\n",
    "\n",
    "def get_comparison(data, X, Y, Z, K):\n",
    "    K = K+1\n",
    "    a_pad = np.pad(data, K)\n",
    "    result = np.zeros(data.shape[:2])\n",
    "    for xk in range(0, K):\n",
    "        for yk in range(0, K):\n",
    "            if (xk!=0) or (yk!=0):   \n",
    "                result += compare_matrices(a_pad, xk, yk, K)\n",
    "                if (yk!=0) and (xk!=0):\n",
    "                    result += compare_matrices(a_pad, xk, -yk, K)     \n",
    "    return result"
   ]
  },
  {
   "cell_type": "code",
   "execution_count": 11,
   "metadata": {},
   "outputs": [
    {
     "name": "stdout",
     "output_type": "stream",
     "text": [
      "CPU times: user 16.6 s, sys: 2.33 s, total: 19 s\n",
      "Wall time: 19 s\n"
     ]
    }
   ],
   "source": [
    "%%time\n",
    "res = get_comparison(data, X, Y, Z, K)"
   ]
  },
  {
   "cell_type": "code",
   "execution_count": null,
   "metadata": {},
   "outputs": [],
   "source": []
  },
  {
   "cell_type": "code",
   "execution_count": 12,
   "metadata": {},
   "outputs": [],
   "source": [
    "def vectors_comparison(vector1, vector2):\n",
    "    res = np.multiply(vector1, vector2)\n",
    "    res = np.sum(np.power(res, 2), axis = 2)\n",
    "    return res\n",
    "\n",
    "def compare_matrices(a_pad, data, xk, yk, K):\n",
    "    comparison = vectors_comparison(data, a_pad[xk:xk+data.shape[0], K+yk:K+yk+data.shape[1], :])\n",
    "    res = comparison + np.pad(comparison, ((xk, 0), (K, K)))[0:data.shape[0], K-yk:K-yk+data.shape[1]]\n",
    "    return res\n",
    "\n",
    "def get_comparison(data, X, Y, Z, K):\n",
    "    K = K + 1\n",
    "    a_pad = np.pad(data, ((0, K), (K, K), (0, 0)))\n",
    "    result = np.zeros(data.shape[:2])\n",
    "    for xk in range(0, K):\n",
    "        for yk in range(0, K):\n",
    "            if (xk!=0) or (yk!=0):   \n",
    "                result += compare_matrices(a_pad, data, xk, yk, K)\n",
    "                if (yk!=0) and (xk!=0):\n",
    "                    result += compare_matrices(a_pad, data, xk, -yk, K)            \n",
    "    return result"
   ]
  },
  {
   "cell_type": "code",
   "execution_count": 13,
   "metadata": {},
   "outputs": [
    {
     "name": "stdout",
     "output_type": "stream",
     "text": [
      "CPU times: user 13.2 s, sys: 1.62 s, total: 14.8 s\n",
      "Wall time: 14.8 s\n"
     ]
    }
   ],
   "source": [
    "%%time\n",
    "res2 = get_comparison(data, X, Y, Z, K)"
   ]
  },
  {
   "cell_type": "code",
   "execution_count": 14,
   "metadata": {},
   "outputs": [
    {
     "data": {
      "text/plain": [
       "True"
      ]
     },
     "execution_count": 14,
     "metadata": {},
     "output_type": "execute_result"
    }
   ],
   "source": [
    "np.allclose(res, res2)"
   ]
  },
  {
   "cell_type": "code",
   "execution_count": 15,
   "metadata": {},
   "outputs": [
    {
     "name": "stdout",
     "output_type": "stream",
     "text": [
      " "
     ]
    },
    {
     "data": {
      "text/plain": [
       "         1775 function calls (1700 primitive calls) in 14.380 seconds\n",
       "\n",
       "   Ordered by: internal time\n",
       "   List reduced from 53 to 20 due to restriction <20>\n",
       "\n",
       "   ncalls  tottime  percall  cumtime  percall filename:lineno(function)\n",
       "       24   12.920    0.538   14.164    0.590 <ipython-input-12-e937474291bf>:1(vectors_comparison)\n",
       "       49    1.243    0.025    1.243    0.025 {method 'reduce' of 'numpy.ufunc' objects}\n",
       "       25    0.091    0.004    0.091    0.004 arraypad.py:86(_pad_simple)\n",
       "        1    0.064    0.064   14.378   14.378 <ipython-input-12-e937474291bf>:11(get_comparison)\n",
       "       24    0.052    0.002   14.265    0.594 <ipython-input-12-e937474291bf>:6(compare_matrices)\n",
       "       51    0.002    0.000    0.002    0.000 arraypad.py:129(_set_pad_area)\n",
       "        1    0.001    0.001   14.380   14.380 <string>:1(<module>)\n",
       "        1    0.001    0.001    0.001    0.001 {built-in method numpy.zeros}\n",
       "       25    0.001    0.000    0.097    0.004 arraypad.py:532(pad)\n",
       "      125    0.001    0.000    0.001    0.000 {built-in method numpy.array}\n",
       "       25    0.001    0.000    0.001    0.000 stride_tricks.py:114(_broadcast_to)\n",
       "       50    0.000    0.000    0.002    0.000 arraypad.py:457(_as_pairs)\n",
       "   124/49    0.000    0.000    1.341    0.027 {built-in method numpy.core._multiarray_umath.implement_array_function}\n",
       "       24    0.000    0.000    1.243    0.052 fromnumeric.py:70(_wrapreduction)\n",
       "       24    0.000    0.000    1.244    0.052 fromnumeric.py:2105(sum)\n",
       "       24    0.000    0.000    1.244    0.052 <__array_function__ internals>:2(sum)\n",
       "       25    0.000    0.000    0.000    0.000 {built-in method numpy.empty}\n",
       "       51    0.000    0.000    0.000    0.000 arraypad.py:58(_view_roi)\n",
       "       25    0.000    0.000    0.097    0.004 <__array_function__ internals>:2(pad)\n",
       "      102    0.000    0.000    0.000    0.000 arraypad.py:33(_slice_at_axis)"
      ]
     },
     "metadata": {},
     "output_type": "display_data"
    }
   ],
   "source": [
    "%%prun -l 20\n",
    "res2 = get_comparison(data, X, Y, Z, K)"
   ]
  },
  {
   "cell_type": "code",
   "execution_count": null,
   "metadata": {},
   "outputs": [],
   "source": []
  }
 ],
 "metadata": {
  "kernelspec": {
   "display_name": "Python 3",
   "language": "python",
   "name": "python3"
  },
  "language_info": {
   "codemirror_mode": {
    "name": "ipython",
    "version": 3
   },
   "file_extension": ".py",
   "mimetype": "text/x-python",
   "name": "python",
   "nbconvert_exporter": "python",
   "pygments_lexer": "ipython3",
   "version": "3.6.10"
  }
 },
 "nbformat": 4,
 "nbformat_minor": 4
}
