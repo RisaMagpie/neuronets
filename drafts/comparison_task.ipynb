{
 "cells": [
  {
   "cell_type": "code",
   "execution_count": 136,
   "metadata": {},
   "outputs": [],
   "source": [
    "import numpy as np"
   ]
  },
  {
   "cell_type": "code",
   "execution_count": 137,
   "metadata": {},
   "outputs": [],
   "source": [
    "X = 1500\n",
    "Y = 1500\n",
    "Z = 20\n",
    "K = 3\n",
    "data = np.random.rand(X,Y,Z)"
   ]
  },
  {
   "cell_type": "markdown",
   "metadata": {},
   "source": [
    "# Try 1"
   ]
  },
  {
   "cell_type": "code",
   "execution_count": 3,
   "metadata": {},
   "outputs": [],
   "source": [
    "def vectors_comparison(vector1, vector2):\n",
    "    res = np.multiply(vector1, vector2)\n",
    "    res = np.sum(np.power(res, 2))\n",
    "    return res"
   ]
  },
  {
   "cell_type": "code",
   "execution_count": 116,
   "metadata": {},
   "outputs": [
    {
     "name": "stdout",
     "output_type": "stream",
     "text": [
      " "
     ]
    },
    {
     "data": {
      "text/plain": [
       "         260 function calls in 0.002 seconds\n",
       "\n",
       "   Ordered by: internal time\n",
       "   List reduced from 22 to 20 due to restriction <20>\n",
       "\n",
       "   ncalls  tottime  percall  cumtime  percall filename:lineno(function)\n",
       "        1    0.001    0.001    0.002    0.002 {built-in method builtins.exec}\n",
       "        1    0.001    0.001    0.001    0.001 <string>:1(<module>)\n",
       "        9    0.000    0.000    0.000    0.000 _methods.py:143(_mean)\n",
       "        9    0.000    0.000    0.000    0.000 {method 'reduce' of 'numpy.ufunc' objects}\n",
       "        9    0.000    0.000    0.000    0.000 {built-in method numpy.array}\n",
       "        9    0.000    0.000    0.000    0.000 fromnumeric.py:3269(mean)\n",
       "        9    0.000    0.000    0.000    0.000 _methods.py:59(_count_reduce_items)\n",
       "       20    0.000    0.000    0.000    0.000 <timed exec>:1(vectors_comparison)\n",
       "        9    0.000    0.000    0.001    0.000 <__array_function__ internals>:2(mean)\n",
       "        9    0.000    0.000    0.000    0.000 {built-in method numpy.core._multiarray_umath.implement_array_function}\n",
       "        9    0.000    0.000    0.000    0.000 _asarray.py:86(asanyarray)\n",
       "       30    0.000    0.000    0.000    0.000 {built-in method builtins.min}\n",
       "       18    0.000    0.000    0.000    0.000 {built-in method builtins.isinstance}\n",
       "       30    0.000    0.000    0.000    0.000 {built-in method builtins.max}\n",
       "       40    0.000    0.000    0.000    0.000 {method 'append' of 'list' objects}\n",
       "        9    0.000    0.000    0.000    0.000 {built-in method builtins.hasattr}\n",
       "       18    0.000    0.000    0.000    0.000 {built-in method builtins.issubclass}\n",
       "        9    0.000    0.000    0.000    0.000 {built-in method numpy.core._multiarray_umath.normalize_axis_index}\n",
       "        1    0.000    0.000    0.000    0.000 {built-in method numpy.zeros}\n",
       "        1    0.000    0.000    0.000    0.000 {method 'reshape' of 'numpy.ndarray' objects}"
      ]
     },
     "metadata": {},
     "output_type": "display_data"
    }
   ],
   "source": [
    "%%prun -l 20\n",
    "comp_res = {}\n",
    "for x in range(X): \n",
    "    comp_res[x] = {}\n",
    "    \n",
    "    for y in range(Y):\n",
    "        comp_res[x][y] = {}\n",
    "        col = data[x, y, :]\n",
    "        \n",
    "        for x_iter in range(max(0, x-K), min(X, x+K+1)):  #  for x_iter in range(x, min(X, x+K+1)): \n",
    "            comp_res[x][y][x_iter] = {}\n",
    "            \n",
    "            for y_iter in range(max(0, y-K), min(Y, y+K+1)):\n",
    "\n",
    "                if x_iter in comp_res: # придумать попроще\n",
    "                    if y_iter in comp_res[x_iter]:\n",
    "                        if x in comp_res[x_iter][y_iter]:\n",
    "                            if y in comp_res[x_iter][y_iter][x]:\n",
    "                                comp_res[x][y][x_iter][y_iter] = comp_res[x_iter][y_iter][x][y]\n",
    "                                continue\n",
    "\n",
    "                if (x_iter != x) or (y_iter != y): # подумать над форматом кэширования\n",
    "                    comp_res[x][y][x_iter][y_iter] = vectors_comparison(col, data[x_iter, y_iter])\n",
    "\n",
    "neighbours_comp = np.zeros((X,Y)).reshape(X,Y)\n",
    "for x in range(X):\n",
    "    for y in range(Y):\n",
    "        tmp_arr = []\n",
    "        for x_iter in comp_res[x][y]:\n",
    "            for y_iter in comp_res[x][y][x_iter]:\n",
    "                tmp_arr.append(comp_res[x][y][x_iter][y_iter])\n",
    "        neighbours_comp[x][y] = np.mean(tmp_arr)"
   ]
  },
  {
   "cell_type": "markdown",
   "metadata": {},
   "source": [
    "# Try 2"
   ]
  },
  {
   "cell_type": "code",
   "execution_count": 6,
   "metadata": {},
   "outputs": [
    {
     "name": "stdout",
     "output_type": "stream",
     "text": [
      "CPU times: user 5min 44s, sys: 34.9 ms, total: 5min 44s\n",
      "Wall time: 5min 44s\n"
     ]
    }
   ],
   "source": [
    "%%time\n",
    "\n",
    "res = np.zeros(data.shape[0:2])\n",
    "for x in range(X):\n",
    "    for y in range(Y):        \n",
    "        col = data[x, y, :]        \n",
    "        for x_idx in range(-K, K+1):\n",
    "            for y_idx in range(-K, K+1):\n",
    "                if (0 <= x + x_idx < X) and (0 <= y + y_idx < Y):\n",
    "                    res[x, y] += vectors_comparison(col, data[x + x_idx, y + y_idx])\n",
    "        res[x, y] /= (min(x + x_idx, X - 1) - max(0, x - x_idx) + 1) * (min(y + y_idx, Y - 1) - max(0, y - y_idx) + 1) - 1"
   ]
  },
  {
   "cell_type": "code",
   "execution_count": null,
   "metadata": {},
   "outputs": [],
   "source": []
  },
  {
   "cell_type": "markdown",
   "metadata": {},
   "source": [
    "# Try 3"
   ]
  },
  {
   "cell_type": "code",
   "execution_count": 138,
   "metadata": {},
   "outputs": [],
   "source": [
    "import numba"
   ]
  },
  {
   "cell_type": "code",
   "execution_count": 139,
   "metadata": {},
   "outputs": [],
   "source": [
    "from numba import njit"
   ]
  },
  {
   "cell_type": "code",
   "execution_count": 143,
   "metadata": {},
   "outputs": [],
   "source": [
    "X = np.int32(1500)\n",
    "Y = np.int32(1500)\n",
    "Z = np.int32(20)\n",
    "K = np.int32(3)\n",
    "data = np.random.rand(X,Y,Z).astype('float32')"
   ]
  },
  {
   "cell_type": "code",
   "execution_count": 144,
   "metadata": {},
   "outputs": [
    {
     "name": "stdout",
     "output_type": "stream",
     "text": [
      "CPU times: user 932 ms, sys: 12.1 ms, total: 944 ms\n",
      "Wall time: 943 ms\n"
     ]
    }
   ],
   "source": [
    "%%time\n",
    "\n",
    "@njit(numba.types.float32(numba.types.float32[:], \n",
    "                          numba.types.float32[:]),\n",
    "      fastmath=True)\n",
    "def vectors_comparison(vector1, vector2):\n",
    "    res = np.multiply(vector1, vector2)\n",
    "    res = np.sum(np.power(res, 2))\n",
    "    return res\n",
    "\n",
    "@njit(numba.types.float32[:, :](numba.types.float32[:, :, :], \n",
    "                                numba.types.int32, \n",
    "                                numba.types.int32, \n",
    "                                numba.types.int32, \n",
    "                                numba.types.int32),\n",
    "    locals={'res': numba.types.float32[:, :],\n",
    "            'col': numba.types.float32[:]}, parallel=True)\n",
    "def get_comparison(data, X, Y, Z, K):\n",
    "    res = np.zeros(data.shape[0:2], dtype='float32')\n",
    "    for x in range(X):\n",
    "        for y in range(Y):        \n",
    "            col = data[x, y, :]        \n",
    "            for x_idx in range(-K, K+1):\n",
    "                for y_idx in range(-K, K+1):\n",
    "                    sss = np.float32(0.0)\n",
    "                    if (0 <= x + x_idx < X) and (0 <= y + y_idx < Y):\n",
    "                        sss += vectors_comparison(col, data[x + x_idx, y + y_idx])\n",
    "            count = (min(x + x_idx, X - 1) - max(0, x - x_idx) + 1) * (min(y + y_idx, Y - 1) - max(0, y - y_idx) + 1) - 1\n",
    "            res[x, y] = sss / count\n",
    "    return res"
   ]
  },
  {
   "cell_type": "code",
   "execution_count": 145,
   "metadata": {},
   "outputs": [
    {
     "name": "stdout",
     "output_type": "stream",
     "text": [
      "CPU times: user 16.6 s, sys: 19.2 ms, total: 16.6 s\n",
      "Wall time: 16.5 s\n"
     ]
    }
   ],
   "source": [
    "%%time\n",
    "res = get_comparison(data, X, Y, Z, K)"
   ]
  },
  {
   "cell_type": "code",
   "execution_count": null,
   "metadata": {},
   "outputs": [],
   "source": []
  },
  {
   "cell_type": "code",
   "execution_count": null,
   "metadata": {},
   "outputs": [],
   "source": []
  },
  {
   "cell_type": "code",
   "execution_count": null,
   "metadata": {},
   "outputs": [],
   "source": []
  },
  {
   "cell_type": "code",
   "execution_count": null,
   "metadata": {},
   "outputs": [],
   "source": [
    "%%time\n",
    "\n",
    "@njit(numba.types.float32(numba.types.float32[:], \n",
    "                          numba.types.float32[:]),\n",
    "      fastmath=True)\n",
    "def vectors_comparison(vector1, vector2):\n",
    "    res = np.multiply(vector1, vector2)\n",
    "    res = np.sum(np.power(res, 2))\n",
    "    return res\n",
    "\n",
    "@njit(numba.types.float32[:, :](numba.types.float32[:, :, :], \n",
    "                                numba.types.int32, \n",
    "                                numba.types.int32, \n",
    "                                numba.types.int32, \n",
    "                                numba.types.int32),\n",
    "    locals={'res': numba.types.float32[:, :],\n",
    "            'col': numba.types.float32[:]}, parallel=True)\n",
    "def get_comparison(data, X, Y, Z, K):\n",
    "    res = np.zeros(data.shape[0:2], dtype='float32')\n",
    "    data = np.pad(data, K, constant_values=0)[1:-1] # подумать\n",
    "    data_shifted = \n",
    "    for x in range(X):\n",
    "        for y in range(Y):        \n",
    "            col = data[x, y, :]        \n",
    "            for x_idx in range(-K, K+1):\n",
    "                for y_idx in range(-K, K+1):\n",
    "                    sss = np.float32(0.0)\n",
    "                    if (0 <= x + x_idx < X) and (0 <= y + y_idx < Y):\n",
    "                        sss += vectors_comparison(col, data[x + x_idx, y + y_idx])\n",
    "            count = (min(x + x_idx, X - 1) - max(0, x - x_idx) + 1) * (min(y + y_idx, Y - 1) - max(0, y - y_idx) + 1) - 1\n",
    "            res[x, y] = sss / count\n",
    "    return res"
   ]
  },
  {
   "cell_type": "code",
   "execution_count": null,
   "metadata": {},
   "outputs": [],
   "source": []
  },
  {
   "cell_type": "code",
   "execution_count": null,
   "metadata": {},
   "outputs": [],
   "source": []
  },
  {
   "cell_type": "code",
   "execution_count": null,
   "metadata": {},
   "outputs": [],
   "source": []
  },
  {
   "cell_type": "code",
   "execution_count": 374,
   "metadata": {},
   "outputs": [],
   "source": [
    "X, Y, Z, K = 5, 5, 3, 2\n",
    "\n",
    "data = np.random.randint(2, 10, (X, Y, Z))"
   ]
  },
  {
   "cell_type": "code",
   "execution_count": 375,
   "metadata": {},
   "outputs": [],
   "source": [
    "def vectors_comparison(vector1, vector2):\n",
    "    res = np.multiply(vector1, vector2)\n",
    "    res = np.sum(np.power(res, 2))\n",
    "    return res\n",
    "\n",
    "def get_comparison(data, X, Y, Z, K):\n",
    "    res = np.zeros(data.shape[0:2], dtype='float32')\n",
    "    for x in range(X):\n",
    "        for y in range(Y):  \n",
    "            col = data[x, y, :]        \n",
    "            sss = np.float32(0.0)\n",
    "            for x_idx in range(-K, K+1):\n",
    "                for y_idx in range(-K, K+1): \n",
    "                    if (0 <= x + x_idx < X) and (0 <= y + y_idx < Y) and ((x_idx!=0) or (y_idx!=0)):\n",
    "                        sss += vectors_comparison(col, data[x + x_idx, y + y_idx])\n",
    "            #count = (min(x + x_idx, X - 1) - max(0, x - x_idx) + 1) * (min(y + y_idx, Y - 1) - max(0, y - y_idx) + 1) - 1\n",
    "            res[x, y] = sss # / count\n",
    "    return res"
   ]
  },
  {
   "cell_type": "code",
   "execution_count": 376,
   "metadata": {},
   "outputs": [],
   "source": [
    "result1 = get_comparison(data.copy(), X, Y, Z, K)"
   ]
  },
  {
   "cell_type": "code",
   "execution_count": 377,
   "metadata": {},
   "outputs": [
    {
     "name": "stdout",
     "output_type": "stream",
     "text": [
      "24\n"
     ]
    }
   ],
   "source": [
    "def vectors_comparison(vector1, vector2):\n",
    "    res = np.multiply(vector1, vector2)\n",
    "    res = np.sum(np.power(res, 2), axis = 2)\n",
    "    return res\n",
    "\n",
    "counter = 0\n",
    "a_pad = np.pad(data, K)\n",
    "res = np.zeros(a_pad.shape[:2])\n",
    "for xk in range(0, K+1):\n",
    "    for yk in range(0, K+1):\n",
    "        if (xk!=0) or (yk!=0):      \n",
    "            counter += 2\n",
    "            shifted_arr = np.roll(np.roll(a_pad, -yk, axis = 1), -xk, axis = 0)\n",
    "            r1 = vectors_comparison(a_pad, shifted_arr) \n",
    "            r1_inv = np.roll(np.roll(r1, yk, axis = 1), xk, axis = 0)\n",
    "            res += r1 + r1_inv\n",
    "            if (yk!=0) and (xk!=0):\n",
    "                counter += 2\n",
    "                shifted_arr = np.roll(np.roll(a_pad, yk, axis = 1), -xk, axis = 0)\n",
    "                r1 = vectors_comparison(a_pad, shifted_arr) \n",
    "                r1_inv = np.roll(np.roll(r1, -yk, axis = 1), xk, axis = 0)\n",
    "                res += r1 + r1_inv\n",
    "print(counter)"
   ]
  },
  {
   "cell_type": "code",
   "execution_count": 378,
   "metadata": {},
   "outputs": [],
   "source": [
    "result2 = res[K:-K, K:-K]"
   ]
  },
  {
   "cell_type": "code",
   "execution_count": 379,
   "metadata": {},
   "outputs": [
    {
     "data": {
      "text/plain": [
       "True"
      ]
     },
     "execution_count": 379,
     "metadata": {},
     "output_type": "execute_result"
    }
   ],
   "source": [
    "np.all(result1==result2)"
   ]
  },
  {
   "cell_type": "code",
   "execution_count": null,
   "metadata": {},
   "outputs": [],
   "source": []
  }
 ],
 "metadata": {
  "kernelspec": {
   "display_name": "Python 3",
   "language": "python",
   "name": "python3"
  },
  "language_info": {
   "codemirror_mode": {
    "name": "ipython",
    "version": 3
   },
   "file_extension": ".py",
   "mimetype": "text/x-python",
   "name": "python",
   "nbconvert_exporter": "python",
   "pygments_lexer": "ipython3",
   "version": "3.6.10"
  }
 },
 "nbformat": 4,
 "nbformat_minor": 4
}
