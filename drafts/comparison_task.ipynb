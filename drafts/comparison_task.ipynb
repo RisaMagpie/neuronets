{
 "cells": [
  {
   "cell_type": "code",
   "execution_count": 1,
   "metadata": {},
   "outputs": [],
   "source": [
    "import numpy as np"
   ]
  },
  {
   "cell_type": "code",
   "execution_count": 2,
   "metadata": {},
   "outputs": [],
   "source": [
    "# X = 1500\n",
    "# Y = 1500\n",
    "# Z = 20\n",
    "# K = 3\n",
    "# k = K//2\n",
    "# data = np.random.rand(X,Y,Z)"
   ]
  },
  {
   "cell_type": "markdown",
   "metadata": {},
   "source": [
    "# Try 1"
   ]
  },
  {
   "cell_type": "code",
   "execution_count": 3,
   "metadata": {},
   "outputs": [],
   "source": [
    "\n",
    "# def vectors_comparison(vector1, vector2):\n",
    "#     res = np.multiply(vector1, vector2)\n",
    "#     res = np.sum(np.power(res, 2))\n",
    "#     return res\n",
    "\n",
    "# %%prun -l 20\n",
    "# comp_res = {}\n",
    "# for x in range(X): \n",
    "#     comp_res[x] = {}\n",
    "    \n",
    "#     for y in range(Y):\n",
    "#         comp_res[x][y] = {}\n",
    "#         col = data[x, y, :]\n",
    "        \n",
    "#         for x_iter in range(max(0, x-K), min(X, x+K+1)):  #  for x_iter in range(x, min(X, x+K+1)): \n",
    "#             comp_res[x][y][x_iter] = {}\n",
    "            \n",
    "#             for y_iter in range(max(0, y-K), min(Y, y+K+1)):\n",
    "\n",
    "#                 if x_iter in comp_res: # придумать попроще\n",
    "#                     if y_iter in comp_res[x_iter]:\n",
    "#                         if x in comp_res[x_iter][y_iter]:\n",
    "#                             if y in comp_res[x_iter][y_iter][x]:\n",
    "#                                 comp_res[x][y][x_iter][y_iter] = comp_res[x_iter][y_iter][x][y]\n",
    "#                                 continue\n",
    "\n",
    "#                 if (x_iter != x) or (y_iter != y): # подумать над форматом кэширования\n",
    "#                     comp_res[x][y][x_iter][y_iter] = vectors_comparison(col, data[x_iter, y_iter])\n",
    "\n",
    "# neighbours_comp = np.zeros((X,Y)).reshape(X,Y)\n",
    "# for x in range(X):\n",
    "#     for y in range(Y):\n",
    "#         tmp_arr = []\n",
    "#         for x_iter in comp_res[x][y]:\n",
    "#             for y_iter in comp_res[x][y][x_iter]:\n",
    "#                 tmp_arr.append(comp_res[x][y][x_iter][y_iter])\n",
    "#         neighbours_comp[x][y] = np.mean(tmp_arr)\n"
   ]
  },
  {
   "cell_type": "markdown",
   "metadata": {},
   "source": [
    "# Try 2"
   ]
  },
  {
   "cell_type": "code",
   "execution_count": 4,
   "metadata": {},
   "outputs": [],
   "source": [
    "# %%time\n",
    "\n",
    "\n",
    "# res = np.zeros(data.shape[0:2])\n",
    "# for x in range(X):\n",
    "#     for y in range(Y):        \n",
    "#         col = data[x, y, :]        \n",
    "#         for x_idx in range(-K, K+1):\n",
    "#             for y_idx in range(-K, K+1):\n",
    "#                 if (0 <= x + x_idx < X) and (0 <= y + y_idx < Y):\n",
    "#                     res[x, y] += vectors_comparison(col, data[x + x_idx, y + y_idx])\n",
    "#         res[x, y] /= (min(x + x_idx, X - 1) - max(0, x - x_idx) + 1) * (min(y + y_idx, Y - 1) - max(0, y - y_idx) + 1) - 1 \n"
   ]
  },
  {
   "cell_type": "markdown",
   "metadata": {},
   "source": [
    "# Try 3: numba"
   ]
  },
  {
   "cell_type": "code",
   "execution_count": 5,
   "metadata": {},
   "outputs": [],
   "source": [
    "import numba\n",
    "from numba import njit"
   ]
  },
  {
   "cell_type": "code",
   "execution_count": 6,
   "metadata": {},
   "outputs": [],
   "source": [
    "X = np.int32(1500)\n",
    "Y = np.int32(1500)\n",
    "Z = np.int32(20)\n",
    "K = np.int32(3)\n",
    "data = np.random.rand(X,Y,Z).astype('float32')"
   ]
  },
  {
   "cell_type": "code",
   "execution_count": 7,
   "metadata": {},
   "outputs": [
    {
     "name": "stdout",
     "output_type": "stream",
     "text": [
      "CPU times: user 1.86 s, sys: 5.84 s, total: 7.7 s\n",
      "Wall time: 1.14 s\n"
     ]
    }
   ],
   "source": [
    "%%time\n",
    "\n",
    "@njit(numba.types.float32(numba.types.float32[:], \n",
    "                          numba.types.float32[:]),\n",
    "      fastmath=True)\n",
    "def vectors_comparison(vector1, vector2):\n",
    "    res = np.multiply(vector1, vector2)\n",
    "    res = np.sum(np.power(res, 2))\n",
    "    return res\n",
    "\n",
    "@njit(numba.types.float32[:, :](numba.types.float32[:, :, :], \n",
    "                                numba.types.int32, \n",
    "                                numba.types.int32, \n",
    "                                numba.types.int32, \n",
    "                                numba.types.int32),\n",
    "    locals={'res': numba.types.float32[:, :],\n",
    "            'col': numba.types.float32[:]}, parallel=True)\n",
    "def get_comparison(data, X, Y, Z, K):\n",
    "    res = np.zeros(data.shape[0:2], dtype='float32')\n",
    "    for x in range(X):\n",
    "        for y in range(Y):        \n",
    "            col = data[x, y, :]        \n",
    "            sss = np.float32(0.0)\n",
    "            for x_idx in range(-K, K+1):\n",
    "                for y_idx in range(-K, K+1):\n",
    "                    if (0 <= x + x_idx < X) and (0 <= y + y_idx < Y):\n",
    "                        sss += vectors_comparison(col, data[x + x_idx, y + y_idx])\n",
    "            #count = (min(x + x_idx, X - 1) - max(0, x - x_idx) + 1) * (min(y + y_idx, Y - 1) - max(0, y - y_idx) + 1) - 1\n",
    "            res[x, y] = sss #/ count\n",
    "    return res"
   ]
  },
  {
   "cell_type": "code",
   "execution_count": 8,
   "metadata": {},
   "outputs": [
    {
     "name": "stdout",
     "output_type": "stream",
     "text": [
      "CPU times: user 16.2 s, sys: 194 ms, total: 16.4 s\n",
      "Wall time: 16.3 s\n"
     ]
    }
   ],
   "source": [
    "%%time\n",
    "res = get_comparison(data, X, Y, Z, K)"
   ]
  },
  {
   "cell_type": "markdown",
   "metadata": {},
   "source": [
    "# Try 4: numpy"
   ]
  },
  {
   "cell_type": "code",
   "execution_count": 9,
   "metadata": {},
   "outputs": [],
   "source": [
    "def vectors_comparison(vector1, vector2):\n",
    "    res = np.multiply(vector1, vector2)\n",
    "    res = np.sum(np.power(res, 2), axis = 2)\n",
    "    return res\n",
    "\n",
    "def compare_matrices(a_pad, data, xk, yk, K):\n",
    "    comparison = vectors_comparison(data, a_pad[xk:xk+data.shape[0], K+yk:K+yk+data.shape[1], :])\n",
    "    res = comparison + np.pad(comparison, ((xk, 0), (K, K)))[0:data.shape[0], K-yk:K-yk+data.shape[1]]\n",
    "    return res\n",
    "\n",
    "def get_comparison(data, X, Y, Z, K):\n",
    "    K = K + 1\n",
    "    a_pad = np.pad(data, ((0, K), (K, K), (0, 0)))\n",
    "    result = np.zeros(data.shape[:2])\n",
    "    for xk in range(0, K):\n",
    "        for yk in range(0, K):\n",
    "            if (xk!=0) or (yk!=0):   \n",
    "                result += compare_matrices(a_pad, data, xk, yk, K)\n",
    "                if (yk!=0) and (xk!=0):\n",
    "                    result += compare_matrices(a_pad, data, xk, -yk, K)            \n",
    "    return result"
   ]
  },
  {
   "cell_type": "code",
   "execution_count": 10,
   "metadata": {},
   "outputs": [
    {
     "name": "stdout",
     "output_type": "stream",
     "text": [
      "CPU times: user 12.5 s, sys: 1.66 s, total: 14.2 s\n",
      "Wall time: 14.2 s\n"
     ]
    }
   ],
   "source": [
    "%%time\n",
    "res2 = get_comparison(data, X, Y, Z, K)"
   ]
  },
  {
   "cell_type": "code",
   "execution_count": null,
   "metadata": {},
   "outputs": [],
   "source": []
  },
  {
   "cell_type": "code",
   "execution_count": 11,
   "metadata": {},
   "outputs": [],
   "source": [
    "def vectors_comparison(vector1, vector2):\n",
    "    res = np.multiply(vector1, vector2)\n",
    "    res = np.sum(np.power(res, 2), axis = 2)\n",
    "    return res\n",
    "\n",
    "def compare_matrices(a_pad, data, xk, yk, K):\n",
    "    comparison = vectors_comparison(data, a_pad[xk:xk+data.shape[0], K+yk:K+yk+data.shape[1], :])\n",
    "    res = comparison + np.pad(comparison, ((xk, 0), (K, K)))[0:data.shape[0], K-yk:K-yk+data.shape[1]]\n",
    "    return res\n",
    "\n",
    "def get_comparison(data, X, Y, Z, K):\n",
    "    K = K + 1\n",
    "    a_pad = np.pad(data, ((0, K), (K, K), (0, 0)))\n",
    "    result = []\n",
    "    for xk in range(0, K):\n",
    "        for yk in range(0, K):\n",
    "            if (xk!=0) or (yk!=0):   \n",
    "                result.append(compare_matrices(a_pad, data, xk, yk, K))\n",
    "                if (yk!=0) and (xk!=0):\n",
    "                    result.append(compare_matrices(a_pad, data, xk, -yk, K))\n",
    "    return np.sum(result, axis=0)"
   ]
  },
  {
   "cell_type": "code",
   "execution_count": 12,
   "metadata": {},
   "outputs": [
    {
     "name": "stdout",
     "output_type": "stream",
     "text": [
      "CPU times: user 12.7 s, sys: 1.61 s, total: 14.3 s\n",
      "Wall time: 14.3 s\n"
     ]
    }
   ],
   "source": [
    "%%time\n",
    "res3 = get_comparison(data, X, Y, Z, K)"
   ]
  },
  {
   "cell_type": "code",
   "execution_count": 13,
   "metadata": {},
   "outputs": [
    {
     "data": {
      "text/plain": [
       "True"
      ]
     },
     "execution_count": 13,
     "metadata": {},
     "output_type": "execute_result"
    }
   ],
   "source": [
    "np.allclose(res3, res2)"
   ]
  },
  {
   "cell_type": "markdown",
   "metadata": {},
   "source": [
    "# Compare with"
   ]
  },
  {
   "cell_type": "code",
   "execution_count": 14,
   "metadata": {},
   "outputs": [],
   "source": [
    "kernel_size = K*2 + 1\n",
    "k = kernel_size // 2\n",
    "\n",
    "data_n = data\n",
    "i_range, x_range = data.shape[:2]\n",
    "xp = np\n",
    "\n",
    "def function(matrix1, matrix2):\n",
    "    return (np.power(matrix1 * matrix2, 2)).sum(axis=2)"
   ]
  },
  {
   "cell_type": "code",
   "execution_count": 15,
   "metadata": {},
   "outputs": [
    {
     "name": "stdout",
     "output_type": "stream",
     "text": [
      "CPU times: user 24.8 s, sys: 3.1 s, total: 27.9 s\n",
      "Wall time: 28 s\n"
     ]
    }
   ],
   "source": [
    "%%time\n",
    "padded_data = xp.pad(data_n, ((k, k), (k, k), (0, 0)), constant_values=xp.nan)\n",
    "\n",
    "res4 = []\n",
    "for i in range(kernel_size):\n",
    "    for j in range(kernel_size):\n",
    "        if i == j == k:\n",
    "            continue\n",
    "\n",
    "        shifted_data = padded_data[i:i+i_range, j:j+x_range]\n",
    "\n",
    "        computed = vectors_comparison(data_n, shifted_data)\n",
    "        res4.append(computed)"
   ]
  },
  {
   "cell_type": "code",
   "execution_count": 16,
   "metadata": {},
   "outputs": [],
   "source": [
    "res4 = np.nansum(res4, axis=0)"
   ]
  },
  {
   "cell_type": "code",
   "execution_count": 17,
   "metadata": {},
   "outputs": [
    {
     "data": {
      "text/plain": [
       "True"
      ]
     },
     "execution_count": 17,
     "metadata": {},
     "output_type": "execute_result"
    }
   ],
   "source": [
    "np.allclose(res4, res2)"
   ]
  },
  {
   "cell_type": "code",
   "execution_count": 18,
   "metadata": {},
   "outputs": [],
   "source": [
    "import cupy as cp"
   ]
  },
  {
   "cell_type": "code",
   "execution_count": 19,
   "metadata": {},
   "outputs": [
    {
     "name": "stdout",
     "output_type": "stream",
     "text": [
      "CPU times: user 83 ms, sys: 258 ms, total: 341 ms\n",
      "Wall time: 366 ms\n"
     ]
    }
   ],
   "source": [
    "%%time\n",
    "kernel_size = K*2 + 1\n",
    "k = kernel_size // 2\n",
    "\n",
    "data_n = cp.asarray(data)\n",
    "i_range, x_range = data.shape[:2]\n",
    "xp = cp\n",
    "\n",
    "def function(matrix1, matrix2):\n",
    "    return (xp.power(matrix1 * matrix2, 2)).sum(axis=2)\n",
    "\n"
   ]
  },
  {
   "cell_type": "code",
   "execution_count": 20,
   "metadata": {},
   "outputs": [
    {
     "name": "stdout",
     "output_type": "stream",
     "text": [
      "CPU times: user 317 ms, sys: 7.27 ms, total: 324 ms\n",
      "Wall time: 322 ms\n"
     ]
    }
   ],
   "source": [
    "%%time\n",
    "padded_data = xp.pad(data_n, ((k, k), (k, k), (0, 0)), constant_values=xp.nan)\n",
    "\n",
    "res5 = []\n",
    "for i in range(kernel_size):\n",
    "    for j in range(kernel_size):\n",
    "        if i == j == k:\n",
    "            continue\n",
    "\n",
    "        shifted_data = padded_data[i:i+i_range, j:j+x_range]\n",
    "\n",
    "        computed = function(data_n, shifted_data)\n",
    "        res5.append(computed)"
   ]
  }
 ],
 "metadata": {
  "kernelspec": {
   "display_name": "Python 3",
   "language": "python",
   "name": "python3"
  },
  "language_info": {
   "codemirror_mode": {
    "name": "ipython",
    "version": 3
   },
   "file_extension": ".py",
   "mimetype": "text/x-python",
   "name": "python",
   "nbconvert_exporter": "python",
   "pygments_lexer": "ipython3",
   "version": "3.6.10"
  }
 },
 "nbformat": 4,
 "nbformat_minor": 4
}
