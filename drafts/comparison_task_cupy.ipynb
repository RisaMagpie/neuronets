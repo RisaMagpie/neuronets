{
 "cells": [
  {
   "cell_type": "code",
   "execution_count": 1,
   "metadata": {},
   "outputs": [],
   "source": [
    "import numpy as np\n",
    "import cupy as cp"
   ]
  },
  {
   "cell_type": "code",
   "execution_count": 2,
   "metadata": {},
   "outputs": [],
   "source": [
    "xp = cp\n",
    "\n",
    "X = 1500\n",
    "Y = 1500\n",
    "Z = 20\n",
    "K = 3\n",
    "data = np.random.rand(X,Y,Z).astype('float32')"
   ]
  },
  {
   "cell_type": "markdown",
   "metadata": {},
   "source": [
    "# Try 4: numpy"
   ]
  },
  {
   "cell_type": "code",
   "execution_count": 3,
   "metadata": {},
   "outputs": [],
   "source": [
    "def vectors_comparison(vector1, vector2):\n",
    "    res = xp.multiply(vector1, vector2)\n",
    "    res = xp.sum(xp.power(res, 2), axis = 2)\n",
    "    return res\n",
    "\n",
    "def vectors_comparison1(matrix1, matrix2):\n",
    "    return (xp.power(matrix1 * matrix2, 2)).sum(axis=2)\n",
    "\n",
    "def compare_matrices(a_pad, data, xk, yk, K, comp_function):\n",
    "    comparison = comp_function(data, a_pad[xk:xk+data.shape[0], K+yk:K+yk+data.shape[1], :])\n",
    "    res = xp.pad(comparison, ((xk, 0), (K, K)), constant_values=xp.nan)[0:data.shape[0], K-yk:K-yk+data.shape[1]]\n",
    "    return comparison, res\n",
    "\n",
    "def get_comparison(data, X, Y, Z, K, comp_function):\n",
    "    K = K + 1\n",
    "    a_pad = xp.pad(data, ((0, K), (K, K), (0, 0)), constant_values=xp.nan)\n",
    "    result = []    \n",
    "    for xk in range(0, K):\n",
    "        for yk in range(0, K):\n",
    "            if (xk!=0) or (yk!=0):   \n",
    "                result.extend(compare_matrices(a_pad, data, xk, yk, K, comp_function))\n",
    "                if (yk!=0) and (xk!=0):\n",
    "                    result.extend(compare_matrices(a_pad, data, xk, -yk, K, comp_function)) \n",
    "    return result"
   ]
  },
  {
   "cell_type": "code",
   "execution_count": 4,
   "metadata": {},
   "outputs": [],
   "source": [
    "data_n = cp.asarray(data)"
   ]
  },
  {
   "cell_type": "code",
   "execution_count": 5,
   "metadata": {},
   "outputs": [
    {
     "name": "stdout",
     "output_type": "stream",
     "text": [
      "CPU times: user 362 ms, sys: 4.41 ms, total: 367 ms\n",
      "Wall time: 365 ms\n"
     ]
    }
   ],
   "source": [
    "%%time\n",
    "res2 = get_comparison(data_n, X, Y, Z, K, vectors_comparison)"
   ]
  },
  {
   "cell_type": "code",
   "execution_count": 6,
   "metadata": {},
   "outputs": [
    {
     "name": "stdout",
     "output_type": "stream",
     "text": [
      "CPU times: user 7.54 ms, sys: 0 ns, total: 7.54 ms\n",
      "Wall time: 6.71 ms\n"
     ]
    }
   ],
   "source": [
    "%%time\n",
    "res2 = get_comparison(data_n, X, Y, Z, K, vectors_comparison)"
   ]
  },
  {
   "cell_type": "code",
   "execution_count": 7,
   "metadata": {},
   "outputs": [
    {
     "name": "stdout",
     "output_type": "stream",
     "text": [
      "CPU times: user 7.44 ms, sys: 0 ns, total: 7.44 ms\n",
      "Wall time: 6.77 ms\n"
     ]
    }
   ],
   "source": [
    "%%time\n",
    "res2 = get_comparison(data_n, X, Y, Z, K, vectors_comparison)"
   ]
  },
  {
   "cell_type": "code",
   "execution_count": 8,
   "metadata": {},
   "outputs": [
    {
     "name": "stdout",
     "output_type": "stream",
     "text": [
      "74.3 ms ± 58.2 µs per loop (mean ± std. dev. of 7 runs, 10 loops each)\n"
     ]
    }
   ],
   "source": [
    "%%timeit\n",
    "res2 = get_comparison(data_n, X, Y, Z, K, vectors_comparison)"
   ]
  },
  {
   "cell_type": "markdown",
   "metadata": {},
   "source": [
    "# Compare with"
   ]
  },
  {
   "cell_type": "code",
   "execution_count": 9,
   "metadata": {},
   "outputs": [
    {
     "name": "stdout",
     "output_type": "stream",
     "text": [
      "CPU times: user 36.8 ms, sys: 1.12 ms, total: 38 ms\n",
      "Wall time: 36.6 ms\n"
     ]
    }
   ],
   "source": [
    "%%time\n",
    "kernel_size = K*2 + 1\n",
    "k = kernel_size // 2\n",
    "\n",
    "data_n = cp.asarray(data)\n",
    "i_range, x_range = data.shape[:2]\n",
    "\n",
    "#def function(matrix1, matrix2):\n",
    "#    return (xp.power(matrix1 * matrix2, 2)).sum(axis=2)"
   ]
  },
  {
   "cell_type": "code",
   "execution_count": 10,
   "metadata": {},
   "outputs": [],
   "source": [
    "def run():\n",
    "    padded_data = xp.pad(data_n, ((k, k), (k, k), (0, 0)), constant_values=xp.nan)\n",
    "\n",
    "    res5 = []\n",
    "    for i in range(kernel_size):\n",
    "        for j in range(kernel_size):\n",
    "            if i == j == k:\n",
    "                continue\n",
    "\n",
    "            shifted_data = padded_data[i:i+i_range, j:j+x_range]\n",
    "\n",
    "            computed = vectors_comparison(data_n, shifted_data)\n",
    "            res5.append(computed)\n",
    "    return res5"
   ]
  },
  {
   "cell_type": "code",
   "execution_count": 11,
   "metadata": {},
   "outputs": [
    {
     "name": "stdout",
     "output_type": "stream",
     "text": [
      "CPU times: user 7.12 ms, sys: 0 ns, total: 7.12 ms\n",
      "Wall time: 6.95 ms\n"
     ]
    }
   ],
   "source": [
    "%%time\n",
    "res5 = run()"
   ]
  },
  {
   "cell_type": "code",
   "execution_count": 12,
   "metadata": {},
   "outputs": [
    {
     "name": "stdout",
     "output_type": "stream",
     "text": [
      "CPU times: user 22.9 ms, sys: 34.2 ms, total: 57.1 ms\n",
      "Wall time: 56.7 ms\n"
     ]
    }
   ],
   "source": [
    "%%time\n",
    "res5 = run()"
   ]
  },
  {
   "cell_type": "code",
   "execution_count": 13,
   "metadata": {},
   "outputs": [
    {
     "name": "stdout",
     "output_type": "stream",
     "text": [
      "CPU times: user 37 ms, sys: 25.5 ms, total: 62.5 ms\n",
      "Wall time: 61.4 ms\n"
     ]
    }
   ],
   "source": [
    "%%time\n",
    "res5 = run()"
   ]
  },
  {
   "cell_type": "code",
   "execution_count": 14,
   "metadata": {},
   "outputs": [
    {
     "name": "stdout",
     "output_type": "stream",
     "text": [
      "147 ms ± 196 µs per loop (mean ± std. dev. of 7 runs, 10 loops each)\n"
     ]
    }
   ],
   "source": [
    "%%timeit\n",
    "res5 = run()"
   ]
  }
 ],
 "metadata": {
  "kernelspec": {
   "display_name": "Python 3",
   "language": "python",
   "name": "python3"
  },
  "language_info": {
   "codemirror_mode": {
    "name": "ipython",
    "version": 3
   },
   "file_extension": ".py",
   "mimetype": "text/x-python",
   "name": "python",
   "nbconvert_exporter": "python",
   "pygments_lexer": "ipython3",
   "version": "3.6.10"
  }
 },
 "nbformat": 4,
 "nbformat_minor": 4
}
